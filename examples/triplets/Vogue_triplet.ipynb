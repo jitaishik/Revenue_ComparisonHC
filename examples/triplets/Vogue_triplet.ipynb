{
 "cells": [
  {
   "cell_type": "code",
   "execution_count": 1,
   "id": "922650e1",
   "metadata": {},
   "outputs": [],
   "source": [
    "from cblearn import datasets\n",
    "import numpy as np\n",
    "import cblearn\n",
    "import tqdm\n",
    "import time\n",
    "import sys\n",
    "sys.path.append('../..')\n",
    "from comparisonHC import HandlerTriplets, ListTriplets, get_AddS_triplets, get_MulK_triplets, get_tSTE_triplets, ComparisonHC"
   ]
  },
  {
   "cell_type": "code",
   "execution_count": 2,
   "id": "028e890a",
   "metadata": {},
   "outputs": [],
   "source": [
    "#fetching vogue cover dataset\n",
    "data = datasets.fetch_vogue_cover_similarity()"
   ]
  },
  {
   "cell_type": "code",
   "execution_count": 3,
   "id": "64e5e29b",
   "metadata": {},
   "outputs": [],
   "source": [
    "#setting seed 0\n",
    "np.random.seed(0) "
   ]
  },
  {
   "cell_type": "code",
   "execution_count": 4,
   "id": "d99e9ca8",
   "metadata": {},
   "outputs": [
    {
     "data": {
      "text/plain": [
       "{'triplet': array([[21, 36, 59],\n",
       "        [30,  3, 26],\n",
       "        [37, 13, 17],\n",
       "        ...,\n",
       "        [ 5, 10, 18],\n",
       "        [30, 40, 54],\n",
       "        [ 3,  0, 20]], dtype=int64),\n",
       " 'image_label': array(['Cover_uk_VOgue_MAY10_V_29mar10_bt_268x353.jpg',\n",
       "        'February_1976_covers_v_17dec10_Bt_268x353.jpg',\n",
       "        'July-1978_v_2aug10_B_240x360.jpg',\n",
       "        'Vogue-cover-August-1978_v_2aug10_B_240x360.jpg',\n",
       "        'VogueCover1983_Jul_V_16Aug10_bt_268x353.jpg',\n",
       "        'VogueCoverFeb91_XL_320x421.jpg',\n",
       "        'VogueCoverJan75_V_28jul10_bt_268x353.jpg',\n",
       "        'VogueCoverNov75_V_22jul10_bt_268x353.jpg',\n",
       "        'VogueFeb88_V_25jan12_b_240x360.jpg',\n",
       "        'VogueSep75_V_25jan12_b_240x360.jpg',\n",
       "        'VoguecoverApr01gbundchen_XL_320x421.jpg',\n",
       "        'VoguecoverApr04_XL_320x421.jpg', 'VoguecoverApr09_421.jpg',\n",
       "        'VoguecoverApr1996_E_XL_320x421.jpg',\n",
       "        'VoguecoverAug00_XL_320x421.jpg', 'VoguecoverAug03_XL_320x421.jpg',\n",
       "        'VoguecoverAug06_XL_320x421.jpg', 'VoguecoverDec90_XL_320x421.jpg',\n",
       "        'VoguecoverDec97_stennant_XL_320x421.jpg',\n",
       "        'VoguecoverDec99_XL_268x353.jpg',\n",
       "        'VoguecoverJan08_XL_1_320x421.jpg',\n",
       "        'VoguecoverJan74_XL_320x421.jpg', 'VoguecoverJan93_XL_320x421.jpg',\n",
       "        'VoguecoverJan99levangel_XL_320x421.jpg',\n",
       "        'VoguecoverJul01gbundchen_XL_320x421.jpg',\n",
       "        'VoguecoverJul02_XL_320x421.jpg',\n",
       "        'VoguecoverJul90_V_22apr10_bt_268x353.jpg',\n",
       "        'VoguecoverJul98_XL_320x421.jpg', 'VoguecoverJul99_XL_320x421.jpg',\n",
       "        'VoguecoverJuly10_cdiaz_bt_268x353.jpg',\n",
       "        'VoguecoverJun00_XL_320x421.jpg', 'VoguecoverJun02_XL_320x421.jpg',\n",
       "        'VoguecoverJun06_XL_320x421.jpg',\n",
       "        'VoguecoverJun1994_XL_320x421.jpg',\n",
       "        'VoguecoverMar00_xl_320x421.jpg', 'VoguecoverMar03_XL_320x421.jpg',\n",
       "        'VoguecoverMar10_624_268x353.jpg',\n",
       "        'VoguecoverMar1996_E_XL_320x421.jpg',\n",
       "        'VoguecoverMay02_XL_320x421.jpg', 'VoguecoverMay05_XL_320x421.jpg',\n",
       "        'VoguecoverMay07_XL_320x421.jpg', 'VoguecoverMay08_XL_320x421.jpg',\n",
       "        'VoguecoverMay1994_XL_320x421.jpg',\n",
       "        'VoguecoverMay91_XL_320x421.jpg', 'VoguecoverNov04_XL_320x421.jpg',\n",
       "        'VoguecoverNov92_XL_320x421.jpg', 'VoguecoverOct00_XL_268x353.jpg',\n",
       "        'VoguecoverOct79_V_27apr10_bt_268x353.jpg',\n",
       "        'VoguecoverOct91_XL_320x421.jpg', 'VoguecoverSep92_XL_320x421.jpg',\n",
       "        'VoguecoverSept04_XL_320x421.jpg',\n",
       "        'VoguecoverSept93_XL_320x421.jpg',\n",
       "        'Voguecover_Apr78_XL_320x421.jpg',\n",
       "        'Voguecover_Dec88_XL_320x421.jpg',\n",
       "        'Voguecover_nov1995_archive_421.jpg',\n",
       "        'Voguecovers1980_may_v_14oct_822_268x353.jpg',\n",
       "        'Voguecovers1980_sept01_v_14oct_421.jpg',\n",
       "        'july1992_V_13jul09_mag_b.jpg', 'may1992_V_13jul09_mag_b.jpg',\n",
       "        'voguecoverapr11_bt_268x353.jpg'], dtype='<U46'),\n",
       " 'DESCR': '.. _nature_vogue_dataset:\\n\\nNature and Vogue datasets\\n---------------------------\\n\\nThe nature and vogue datasets consist of odd-one-out triplets of the form\\n\"Out of three shown items pick one that appears to be\\ndifferent from the two others\".\\n\\nThe items were either images of natural scenes (forests, beaches, mountaints, etc.)\\nor covers of the Vogue magazine.\\n\\n**Data Set Characteristics:**\\n\\n    ===================   =====================\\n    Triplets (Covers)                      1107\\n    Objects  (Covers)                        60\\n    Triplets (Scenes)                      3355\\n    Objects  (Scenes)                       120\\n    ===================   =====================\\n\\nThis datasets can be downloaded using :func:`cblearn.datasets.fetch_nature_scene_similarity` and\\n:func:`cblearn.datasets.fetch_vogue_cover_similarity`\\nTo use the odd-one-out triplets with e.g. ordinal embedding algorithms, convert them to standard triplets\\nwith :func:`cblearn.dataset.triplets_from_oddoneout`.\\n\\nPlease cite the following paper if you use this dataset in publications.\\n\\n.. topic:: References\\n\\n    - Heikinheimo, H., & Ukkonen, A. (2013). The crowd-median algorithm.\\n      In Proceedings of the AAAI Conference on Human Computation and Crowdsourcing (Vol. 1, No. 1).\\n'}"
      ]
     },
     "execution_count": 4,
     "metadata": {},
     "output_type": "execute_result"
    }
   ],
   "source": [
    "data"
   ]
  },
  {
   "cell_type": "code",
   "execution_count": 5,
   "id": "93044576",
   "metadata": {},
   "outputs": [],
   "source": [
    "#getting raw triplets from vogue data\n",
    "triplets_raw = data['triplet']"
   ]
  },
  {
   "cell_type": "code",
   "execution_count": 6,
   "id": "b3b0d7be",
   "metadata": {},
   "outputs": [],
   "source": [
    "n = np.amax(triplets_raw) + 1"
   ]
  },
  {
   "cell_type": "code",
   "execution_count": 7,
   "id": "87da8197",
   "metadata": {},
   "outputs": [
    {
     "data": {
      "text/plain": [
       "60"
      ]
     },
     "execution_count": 7,
     "metadata": {},
     "output_type": "execute_result"
    }
   ],
   "source": [
    "#objects in the data\n",
    "n"
   ]
  },
  {
   "cell_type": "code",
   "execution_count": 8,
   "id": "f6d680c3",
   "metadata": {},
   "outputs": [],
   "source": [
    "n_triplets_raw = triplets_raw.shape[0]"
   ]
  },
  {
   "cell_type": "code",
   "execution_count": 9,
   "id": "e577ebd1",
   "metadata": {},
   "outputs": [
    {
     "data": {
      "text/plain": [
       "1107"
      ]
     },
     "execution_count": 9,
     "metadata": {},
     "output_type": "execute_result"
    }
   ],
   "source": [
    "#raw triplets in the data(number of responses)\n",
    "n_triplets_raw"
   ]
  },
  {
   "cell_type": "code",
   "execution_count": 10,
   "id": "68039be7",
   "metadata": {},
   "outputs": [],
   "source": [
    "#getting standard triplets from raw triplets. Random triplets are of form (i,j,k) where s_ij>s_ik\n",
    "triplets = cblearn.preprocessing.triplets_from_oddoneout(data['triplet'])"
   ]
  },
  {
   "cell_type": "code",
   "execution_count": 11,
   "id": "2982e592",
   "metadata": {},
   "outputs": [],
   "source": [
    "n_triplets = triplets.shape[0]"
   ]
  },
  {
   "cell_type": "code",
   "execution_count": 12,
   "id": "9d689ea9",
   "metadata": {},
   "outputs": [
    {
     "data": {
      "text/plain": [
       "2214"
      ]
     },
     "execution_count": 12,
     "metadata": {},
     "output_type": "execute_result"
    }
   ],
   "source": [
    "#standard triplets obtained from the data\n",
    "n_triplets"
   ]
  },
  {
   "cell_type": "code",
   "execution_count": 13,
   "id": "90ece818",
   "metadata": {},
   "outputs": [],
   "source": [
    "Oracle = ListTriplets(triplets, n, n_triplets)"
   ]
  },
  {
   "cell_type": "code",
   "execution_count": 14,
   "id": "a7ac908a",
   "metadata": {},
   "outputs": [
    {
     "name": "stdout",
     "output_type": "stream",
     "text": [
      "ComparisonHC ran for 0.92 seconds.\n",
      "Revenue with AddS-3: 2.722e+04\n"
     ]
    }
   ],
   "source": [
    "#running comparison hierarchical clustering using AddS-3 similarities\n",
    "adds_similarities = get_AddS_triplets(Oracle,n)\n",
    "chc = ComparisonHC(adds_similarities,n)\n",
    "chc.fit([[j] for j in range(n)])\n",
    "print(\"ComparisonHC ran for {:.2f} seconds.\".format(chc.time_elapsed))\n",
    "print(\"Revenue with AddS-3: {:.3e}\".format(-chc.cost_dasgupta(adds_similarities)))"
   ]
  },
  {
   "cell_type": "code",
   "execution_count": 15,
   "id": "b5f8bbb2",
   "metadata": {},
   "outputs": [],
   "source": [
    "mulk_similarities = get_MulK_triplets(Oracle,n)"
   ]
  },
  {
   "cell_type": "code",
   "execution_count": 16,
   "id": "640b1ab1",
   "metadata": {},
   "outputs": [
    {
     "name": "stdout",
     "output_type": "stream",
     "text": [
      "ComparisonHC ran for 0.77 seconds.\n",
      "Revenue with Mulk-3: 3.022e+03\n"
     ]
    }
   ],
   "source": [
    "#running comparison hierarchical clustering using MulK-3 similarities\n",
    "chc_mulk = ComparisonHC(mulk_similarities,n)\n",
    "chc_mulk.fit([[j] for j in range(n)])\n",
    "print(\"ComparisonHC ran for {:.2f} seconds.\".format(chc_mulk.time_elapsed))\n",
    "print(\"Revenue with Mulk-3: {:.3e}\".format(-chc_mulk.cost_dasgupta(adds_similarities)))"
   ]
  },
  {
   "cell_type": "code",
   "execution_count": 17,
   "id": "c1b6ff33",
   "metadata": {},
   "outputs": [
    {
     "name": "stderr",
     "output_type": "stream",
     "text": [
      "100%|██████████████████████████████████████████████████████████████████████████████████| 10/10 [00:22<00:00,  2.30s/it]"
     ]
    },
    {
     "name": "stdout",
     "output_type": "stream",
     "text": [
      "ComparisonHC ran for 7.58 seconds.\n"
     ]
    },
    {
     "name": "stderr",
     "output_type": "stream",
     "text": [
      "\n"
     ]
    }
   ],
   "source": [
    "#running comparison hierarchical clustering using tSTE similarities\n",
    "#since it is a randomised process it is run 10 times and mean and standard deviation are obtained\n",
    "tste_cost = []\n",
    "total_time = 0.0\n",
    "for i in tqdm.tqdm(range(10)):\n",
    "    tste_similarities = get_tSTE_triplets(Oracle,n)\n",
    "    chc_tste = ComparisonHC(tste_similarities,n)\n",
    "    chc_tste.fit([[j] for j in range(n)])\n",
    "    total_time = total_time+chc_tste.time_elapsed\n",
    "    tste_cost.append(-chc_tste.cost_dasgupta(adds_similarities))\n",
    "print(\"ComparisonHC ran for {:.2f} seconds.\".format(total_time))"
   ]
  },
  {
   "cell_type": "code",
   "execution_count": 18,
   "id": "600d1a23",
   "metadata": {},
   "outputs": [],
   "source": [
    "tste_cost = np.array(tste_cost)\n",
    "mean = np.mean(tste_cost)\n",
    "std = np.std(tste_cost)"
   ]
  },
  {
   "cell_type": "code",
   "execution_count": 19,
   "id": "bf05200b",
   "metadata": {},
   "outputs": [
    {
     "name": "stdout",
     "output_type": "stream",
     "text": [
      "Mean revenue obtained with tSTE after 10 runs: 1.971e+04\n"
     ]
    }
   ],
   "source": [
    "print(\"Mean revenue obtained with tSTE after 10 runs: {:.3e}\".format(mean))"
   ]
  },
  {
   "cell_type": "code",
   "execution_count": 20,
   "id": "3c942c42",
   "metadata": {},
   "outputs": [
    {
     "name": "stdout",
     "output_type": "stream",
     "text": [
      "Standard deviation of revenue obtained with tSTE after 10 runs: 1.737e+03\n"
     ]
    }
   ],
   "source": [
    "print(\"Standard deviation of revenue obtained with tSTE after 10 runs: {:.3e}\".format(std))"
   ]
  }
 ],
 "metadata": {
  "kernelspec": {
   "display_name": "Python 3 (ipykernel)",
   "language": "python",
   "name": "python3"
  },
  "language_info": {
   "codemirror_mode": {
    "name": "ipython",
    "version": 3
   },
   "file_extension": ".py",
   "mimetype": "text/x-python",
   "name": "python",
   "nbconvert_exporter": "python",
   "pygments_lexer": "ipython3",
   "version": "3.9.7"
  }
 },
 "nbformat": 4,
 "nbformat_minor": 5
}
