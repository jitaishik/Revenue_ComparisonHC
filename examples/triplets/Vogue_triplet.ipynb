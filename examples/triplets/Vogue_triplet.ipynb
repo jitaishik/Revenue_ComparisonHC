{
 "cells": [
  {
   "cell_type": "code",
   "execution_count": 1,
   "id": "922650e1",
   "metadata": {},
   "outputs": [],
   "source": [
    "from cblearn import datasets\n",
    "import numpy as np\n",
    "import cblearn\n",
    "import tqdm\n",
    "from scipy.sparse import csr_matrix,coo_matrix\n",
    "import time\n",
    "import sklearn\n",
    "import sys\n",
    "sys.path.append('../..')\n",
    "from comparisonHC import ComparisonHC,tSTE"
   ]
  },
  {
   "cell_type": "code",
   "execution_count": 2,
   "id": "028e890a",
   "metadata": {},
   "outputs": [],
   "source": [
    "#fetching vogue cover dataset\n",
    "data = datasets.fetch_vogue_cover_similarity()"
   ]
  },
  {
   "cell_type": "code",
   "execution_count": 3,
   "id": "d99e9ca8",
   "metadata": {},
   "outputs": [
    {
     "data": {
      "text/plain": [
       "{'triplet': array([[30,  1,  8],\n",
       "        [11, 23, 53],\n",
       "        [47, 52, 50],\n",
       "        ...,\n",
       "        [ 1, 16, 44],\n",
       "        [39, 58, 27],\n",
       "        [ 0, 10,  8]], dtype=int64),\n",
       " 'image_label': array(['Cover_uk_VOgue_MAY10_V_29mar10_bt_268x353.jpg',\n",
       "        'February_1976_covers_v_17dec10_Bt_268x353.jpg',\n",
       "        'July-1978_v_2aug10_B_240x360.jpg',\n",
       "        'Vogue-cover-August-1978_v_2aug10_B_240x360.jpg',\n",
       "        'VogueCover1983_Jul_V_16Aug10_bt_268x353.jpg',\n",
       "        'VogueCoverFeb91_XL_320x421.jpg',\n",
       "        'VogueCoverJan75_V_28jul10_bt_268x353.jpg',\n",
       "        'VogueCoverNov75_V_22jul10_bt_268x353.jpg',\n",
       "        'VogueFeb88_V_25jan12_b_240x360.jpg',\n",
       "        'VogueSep75_V_25jan12_b_240x360.jpg',\n",
       "        'VoguecoverApr01gbundchen_XL_320x421.jpg',\n",
       "        'VoguecoverApr04_XL_320x421.jpg', 'VoguecoverApr09_421.jpg',\n",
       "        'VoguecoverApr1996_E_XL_320x421.jpg',\n",
       "        'VoguecoverAug00_XL_320x421.jpg', 'VoguecoverAug03_XL_320x421.jpg',\n",
       "        'VoguecoverAug06_XL_320x421.jpg', 'VoguecoverDec90_XL_320x421.jpg',\n",
       "        'VoguecoverDec97_stennant_XL_320x421.jpg',\n",
       "        'VoguecoverDec99_XL_268x353.jpg',\n",
       "        'VoguecoverJan08_XL_1_320x421.jpg',\n",
       "        'VoguecoverJan74_XL_320x421.jpg', 'VoguecoverJan93_XL_320x421.jpg',\n",
       "        'VoguecoverJan99levangel_XL_320x421.jpg',\n",
       "        'VoguecoverJul01gbundchen_XL_320x421.jpg',\n",
       "        'VoguecoverJul02_XL_320x421.jpg',\n",
       "        'VoguecoverJul90_V_22apr10_bt_268x353.jpg',\n",
       "        'VoguecoverJul98_XL_320x421.jpg', 'VoguecoverJul99_XL_320x421.jpg',\n",
       "        'VoguecoverJuly10_cdiaz_bt_268x353.jpg',\n",
       "        'VoguecoverJun00_XL_320x421.jpg', 'VoguecoverJun02_XL_320x421.jpg',\n",
       "        'VoguecoverJun06_XL_320x421.jpg',\n",
       "        'VoguecoverJun1994_XL_320x421.jpg',\n",
       "        'VoguecoverMar00_xl_320x421.jpg', 'VoguecoverMar03_XL_320x421.jpg',\n",
       "        'VoguecoverMar10_624_268x353.jpg',\n",
       "        'VoguecoverMar1996_E_XL_320x421.jpg',\n",
       "        'VoguecoverMay02_XL_320x421.jpg', 'VoguecoverMay05_XL_320x421.jpg',\n",
       "        'VoguecoverMay07_XL_320x421.jpg', 'VoguecoverMay08_XL_320x421.jpg',\n",
       "        'VoguecoverMay1994_XL_320x421.jpg',\n",
       "        'VoguecoverMay91_XL_320x421.jpg', 'VoguecoverNov04_XL_320x421.jpg',\n",
       "        'VoguecoverNov92_XL_320x421.jpg', 'VoguecoverOct00_XL_268x353.jpg',\n",
       "        'VoguecoverOct79_V_27apr10_bt_268x353.jpg',\n",
       "        'VoguecoverOct91_XL_320x421.jpg', 'VoguecoverSep92_XL_320x421.jpg',\n",
       "        'VoguecoverSept04_XL_320x421.jpg',\n",
       "        'VoguecoverSept93_XL_320x421.jpg',\n",
       "        'Voguecover_Apr78_XL_320x421.jpg',\n",
       "        'Voguecover_Dec88_XL_320x421.jpg',\n",
       "        'Voguecover_nov1995_archive_421.jpg',\n",
       "        'Voguecovers1980_may_v_14oct_822_268x353.jpg',\n",
       "        'Voguecovers1980_sept01_v_14oct_421.jpg',\n",
       "        'july1992_V_13jul09_mag_b.jpg', 'may1992_V_13jul09_mag_b.jpg',\n",
       "        'voguecoverapr11_bt_268x353.jpg'], dtype='<U46'),\n",
       " 'DESCR': '.. _nature_vogue_dataset:\\n\\nNature and Vogue datasets\\n---------------------------\\n\\nThe nature and vogue datasets consist of odd-one-out triplets of the form\\n\"Out of three shown items pick one that appears to be\\ndifferent from the two others\".\\n\\nThe items were either images of natural scenes (forests, beaches, mountaints, etc.)\\nor covers of the Vogue magazine.\\n\\n**Data Set Characteristics:**\\n\\n    ===================   =====================\\n    Triplets (Covers)                      1107\\n    Objects  (Covers)                        60\\n    Triplets (Scenes)                      3355\\n    Objects  (Scenes)                       120\\n    ===================   =====================\\n\\nThis datasets can be downloaded using :func:`cblearn.datasets.fetch_nature_scene_similarity` and\\n:func:`cblearn.datasets.fetch_vogue_cover_similarity`\\nTo use the odd-one-out triplets with e.g. ordinal embedding algorithms, convert them to standard triplets\\nwith :func:`cblearn.dataset.triplets_from_oddoneout`.\\n\\nPlease cite the following paper if you use this dataset in publications.\\n\\n.. topic:: References\\n\\n    - Heikinheimo, H., & Ukkonen, A. (2013). The crowd-median algorithm.\\n      In Proceedings of the AAAI Conference on Human Computation and Crowdsourcing (Vol. 1, No. 1).\\n'}"
      ]
     },
     "execution_count": 3,
     "metadata": {},
     "output_type": "execute_result"
    }
   ],
   "source": [
    "data"
   ]
  },
  {
   "cell_type": "code",
   "execution_count": 4,
   "id": "93044576",
   "metadata": {},
   "outputs": [],
   "source": [
    "#getting raw triplets from vogue data\n",
    "triplets_raw = data['triplet']"
   ]
  },
  {
   "cell_type": "code",
   "execution_count": 5,
   "id": "b3b0d7be",
   "metadata": {},
   "outputs": [],
   "source": [
    "n = np.amax(triplets_raw) + 1"
   ]
  },
  {
   "cell_type": "code",
   "execution_count": 6,
   "id": "87da8197",
   "metadata": {},
   "outputs": [
    {
     "data": {
      "text/plain": [
       "60"
      ]
     },
     "execution_count": 6,
     "metadata": {},
     "output_type": "execute_result"
    }
   ],
   "source": [
    "#objects in the data\n",
    "n"
   ]
  },
  {
   "cell_type": "code",
   "execution_count": 7,
   "id": "f6d680c3",
   "metadata": {},
   "outputs": [],
   "source": [
    "n_triplets_raw = triplets_raw.shape[0]"
   ]
  },
  {
   "cell_type": "code",
   "execution_count": 8,
   "id": "e577ebd1",
   "metadata": {},
   "outputs": [
    {
     "data": {
      "text/plain": [
       "1107"
      ]
     },
     "execution_count": 8,
     "metadata": {},
     "output_type": "execute_result"
    }
   ],
   "source": [
    "#raw triplets in the data(number of responses)\n",
    "n_triplets_raw"
   ]
  },
  {
   "cell_type": "code",
   "execution_count": 9,
   "id": "68039be7",
   "metadata": {},
   "outputs": [],
   "source": [
    "#getting standard triplets from raw triplets. Random triplets are of form (i,j,k) where s_ij>s_ik\n",
    "triplets = cblearn.preprocessing.triplets_from_oddoneout(data['triplet'])"
   ]
  },
  {
   "cell_type": "code",
   "execution_count": 10,
   "id": "2982e592",
   "metadata": {},
   "outputs": [],
   "source": [
    "n_triplets = triplets.shape[0]"
   ]
  },
  {
   "cell_type": "code",
   "execution_count": 11,
   "id": "9d689ea9",
   "metadata": {},
   "outputs": [
    {
     "data": {
      "text/plain": [
       "2214"
      ]
     },
     "execution_count": 11,
     "metadata": {},
     "output_type": "execute_result"
    }
   ],
   "source": [
    "#standard triplets obtained from the data\n",
    "n_triplets"
   ]
  },
  {
   "cell_type": "code",
   "execution_count": 12,
   "id": "1397b6dd",
   "metadata": {},
   "outputs": [],
   "source": [
    "def get_k(i,j,n_examples):\n",
    "        \"\"\"Given the row and column coordinates, returns the index of entries\n",
    "            of an off-diagonal upper triangular matrix where the elements\n",
    "            are taken in a row-major order:\n",
    "            [. 0 1 2 3\n",
    "             . . 4 5 6\n",
    "             . . . 7 8\n",
    "             . . . . 9\n",
    "             . . . . .]\n",
    "            Parameters\n",
    "            -------\n",
    "            i : int or numpy array\n",
    "                The row index of the example, between 0 and n_examples.\n",
    "            j : int or numpy array, shape(i.shape)\n",
    "                The column index of the example, between i and n_examples.\n",
    "            n_example : int\n",
    "                The number of rows and columns in the matrix. If None,\n",
    "                self.n_examples is used. (Default: None).\n",
    "            Returns\n",
    "            ----------\n",
    "            k : int or numpy array, shape(i.shape)\n",
    "                The row-major index of the example, between 0 and (n_examples choose 2).\n",
    "            Notes\n",
    "            -----\n",
    "            The original formulation was taken from the following link:\n",
    "            https://stackoverflow.com/questions/27086195/linear-index-upper-triangular-matrix\n",
    "        \"\"\"\n",
    "        k = ((n_examples*(n_examples-1))//2) - ((n_examples-i)*((n_examples-i)-1))//2 + j - i - 1\n",
    "\n",
    "        return k"
   ]
  },
  {
   "cell_type": "code",
   "execution_count": 13,
   "id": "787736f4",
   "metadata": {},
   "outputs": [],
   "source": [
    "def get_ij(k,n_examples):\n",
    "        \"\"\"Returns the row and column coordinates given the index of the\n",
    "        entries of an off-diagonal upper triangular matrix where the\n",
    "        elements are taken in a row-major order:\n",
    "        [. 0 1 2 3\n",
    "         . . 4 5 6\n",
    "         . . . 7 8\n",
    "         . . . . 9\n",
    "         . . . . .]\n",
    "        Parameters\n",
    "        ----------\n",
    "        k : int or numpy array\n",
    "            The row-major index of the example, between 0 and\n",
    "            (n_examples choose 2).\n",
    "       \n",
    "        n_example : int\n",
    "            The number of rows and columns in the matrix. If None,\n",
    "            self.n_examples is used. (Default: None).\n",
    "        Returns\n",
    "        -------\n",
    "        i : int or numpy array, shape(k.shape)\n",
    "            The row index of the example, between 0 and n_examples.\n",
    "        j : int or numpy array, shape(k.shape)\n",
    "            The column index of the example, between i and n_examples.\n",
    "        Notes\n",
    "        -----\n",
    "        The original formulation was taken from the following link:\n",
    "        https://stackoverflow.com/questions/27086195/linear-index-upper-triangular-matrix\n",
    "        \"\"\"\n",
    "\n",
    "        i = n_examples - 2 - (np.sqrt(-8*k + 4*n_examples*(n_examples-1)-7)/2 - 1/2).astype(int)\n",
    "        j = k + i + 1 - (n_examples*(n_examples-1))//2 + ((n_examples-i)*((n_examples-i)-1))//2\n",
    "        \n",
    "        return i,j"
   ]
  },
  {
   "cell_type": "code",
   "execution_count": 14,
   "id": "9aff9a67",
   "metadata": {},
   "outputs": [],
   "source": [
    "def get_AddS_comparisons(comparisons,n_examples):\n",
    "        \"\"\"Get a sparse matrix representing the comparisons in a way that is\n",
    "        easy to handle for AddS.\n",
    "        Returns\n",
    "        -------\n",
    "        AddS_comparisons : scipy csr matrix, shape(n_examples**2,n_examples)\n",
    "            A scipy csr_matrix containing values in {1,-1,0}. Given\n",
    "            i!=j,k, in entry (i*n_examples+j,k), the value 1 indicates\n",
    "            that the triplet (i,j,k) is available, the value -1\n",
    "            indicates that the triplet (i,k,j) is available, and the\n",
    "            value 0 indicates that neither of the triplets is\n",
    "            available.\n",
    "        \"\"\"\n",
    "        i = comparisons.row\n",
    "        j,k = get_ij(comparisons.col,n_examples)\n",
    "\n",
    "        n_pairs = n_examples\n",
    "        \n",
    "        rows_j = i*n_pairs+j\n",
    "        columns_j = k\n",
    "               \n",
    "        rows_k = i*n_pairs+k\n",
    "        columns_k = j\n",
    "               \n",
    "        rows = np.concatenate((rows_j,rows_k))\n",
    "        columns = np.concatenate((columns_j,columns_k))\n",
    "        entries = np.concatenate((comparisons.data,-comparisons.data))\n",
    "            \n",
    "        AddS_comparisons = csr_matrix((entries,(rows,columns)),shape=(n_examples**2,n_examples),dtype=int)\n",
    "                \n",
    "        return AddS_comparisons"
   ]
  },
  {
   "cell_type": "code",
   "execution_count": 15,
   "id": "4a7cf9bb",
   "metadata": {},
   "outputs": [],
   "source": [
    "def get_AddS_triplets(comparisons,n_examples):\n",
    "    \"\"\"Returns a symmetric similarity matrix representing the similarities\n",
    "    between all the examples using the AddS triplets approach.\n",
    "    Parameters\n",
    "    ----------\n",
    "    comparisons : scipy csr matrix \n",
    "        It is a scipy csr matrix,\n",
    "        shape(n_examples**2,n_examples) A scipy csr_matrix containing\n",
    "        values in {1,-1,0}. Given i!=j,k, in entry (i*n_examples+j,k),\n",
    "        the value 1 indicates that the triplet (i,j,k) is available,\n",
    "        the value -1 indicates that the triplet (i,k,j) is available,\n",
    "        and the value 0 indicates that neither of the triplets is\n",
    "        available.\n",
    "    n_examples : int\n",
    "        The number of examples.\n",
    "    Returns\n",
    "    -------\n",
    "    kernel : numpy array, shape (n_examples,n_examples)\n",
    "        A nummpy array of similarities between the examples.\n",
    "    \"\"\"\n",
    "    \n",
    "    kernel = np.zeros((n_examples,n_examples))\n",
    "    \n",
    "    comps = comparisons\n",
    "    entries = comps.sum(axis=1).A1\n",
    "\n",
    "    indices = np.arange(n_examples**2)\n",
    "    i = indices//n_examples\n",
    "    j = indices - i*n_examples\n",
    "    \n",
    "    kernel[i,j] = entries\n",
    "    \n",
    "    kernel += kernel.transpose()\n",
    "\n",
    "    return kernel"
   ]
  },
  {
   "cell_type": "code",
   "execution_count": 16,
   "id": "e947c5fb",
   "metadata": {},
   "outputs": [],
   "source": [
    "def get_MulK_comparisons(comparisons):\n",
    "    \"\"\"Get a sparse matrix representing the comparisons in a way that is\n",
    "      easy to handle for MulK.\n",
    "      Returns\n",
    "      -------\n",
    "      MulK_comparisons : scipy csr matrix, shape(n_examples,(n_examples choose 2)) \n",
    "          A scipy csr_matrix containing values in {1,-1,0}. Given\n",
    "          i!=j,k, j<k, in entry (i,self._get_k(j,k)), the value 1\n",
    "          indicates that the triplet (i,j,k) is available, the value\n",
    "          -1 indicates that the triplet (i,k,j) is available, and\n",
    "          the value 0 indicates that neither of the triplets is\n",
    "          available.\n",
    "      \"\"\"\n",
    "    MulK_comparisons = comparisons.tocsr()\n",
    "    \n",
    "    return MulK_comparisons"
   ]
  },
  {
   "cell_type": "code",
   "execution_count": 17,
   "id": "478b5144",
   "metadata": {},
   "outputs": [],
   "source": [
    "def get_MulK_triplets(comparisons,n_examples):\n",
    "    \"\"\"Returns a symmetric similarity matrix representing the similarities\n",
    "    between all the examples using the MulK triplets approach.\n",
    "    Parameters\n",
    "    ----------\n",
    "    comparisons : scipy csr matrix\n",
    "        It is a scipy csr matrix\n",
    "        of shape(n_examples,(n_examples choose 2)) containing values\n",
    "        in {1,-1,0}. Given i!=j,k, j<k, in entry (i,self._get_k(j,k)),\n",
    "        the value 1 indicates that the triplet (i,j,k) is available,\n",
    "        the value -1 indicates that the triplet (i,k,j) is available,\n",
    "        and the value 0 indicates that neither of the triplets is\n",
    "        available.\n",
    "    n_examples : int\n",
    "        The number of examples handled.\n",
    "    Returns\n",
    "    -------\n",
    "    kernel : numpy array, shape (n_examples,n_examples)\n",
    "        A nummpy array of similarities between the examples.\n",
    "    \"\"\"\n",
    "    kernel = np.zeros((n_examples,n_examples))\n",
    "    \n",
    "    kernel = comparisons.dot(comparisons.transpose())\n",
    "    \n",
    "    norms = np.sqrt(comparisons.getnnz(axis=1))\n",
    "    norms = norms.reshape(-1,1) @ norms.reshape(1,-1)\n",
    "    norms = np.where(norms == 0,1,norms) # This is to avoid issues with the true divide when the norm is 0 for i or j\n",
    "    \n",
    "    kernel = kernel.toarray()/norms\n",
    "    np.fill_diagonal(kernel,0)\n",
    "\n",
    "    return kernel"
   ]
  },
  {
   "cell_type": "code",
   "execution_count": 18,
   "id": "8ef22560",
   "metadata": {},
   "outputs": [],
   "source": [
    "def get_tSTE_triplets(triplets,n,n_triplets):\n",
    "    \"\"\"Returns a symmetric similarity matrix representing the similarities\n",
    "    between all the examples using the MulK triplets approach.\n",
    "    Parameters\n",
    "    ----------\n",
    "    triplets : standard triplets\n",
    "    \n",
    "    n : int\n",
    "        The number of objects.\n",
    "        \n",
    "    n_trilets : int\n",
    "        The number of triplets.\n",
    "    Returns\n",
    "    -------\n",
    "    kernel : numpy array, shape (n_examples,n_examples)\n",
    "        A nummpy array of similarities between the examples.\n",
    "    \"\"\"\n",
    "    \n",
    "    X = tSTE(triplets,n,n_triplets)\n",
    "    kernel = sklearn.metrics.pairwise.cosine_similarity(X, dense_output=True)\n",
    "    \n",
    "    return kernel"
   ]
  },
  {
   "cell_type": "code",
   "execution_count": 19,
   "id": "d1029530",
   "metadata": {},
   "outputs": [],
   "source": [
    "#getting rows, columns and entries to represent the triplets as an upper triangular matrix\n",
    "rows = []\n",
    "columns = []\n",
    "entries = []\n",
    "for triplet in triplets:\n",
    "    rows.append(triplet[0])\n",
    "    if (triplet[1]<triplet[2]):\n",
    "        columns.append(get_k(triplet[1],triplet[2],n))\n",
    "        entries.append(1)\n",
    "    else:\n",
    "        columns.append(get_k(triplet[2],triplet[1],n))\n",
    "        entries.append(-1)"
   ]
  },
  {
   "cell_type": "code",
   "execution_count": 20,
   "id": "eaadc83e",
   "metadata": {},
   "outputs": [],
   "source": [
    "rows = np.array(rows)\n",
    "columns = np.array(columns)\n",
    "entries = np.array(entries)"
   ]
  },
  {
   "cell_type": "code",
   "execution_count": 21,
   "id": "4a165faf",
   "metadata": {},
   "outputs": [],
   "source": [
    "n_entries = (n*(n-1))//2"
   ]
  },
  {
   "cell_type": "code",
   "execution_count": 22,
   "id": "9de513cd",
   "metadata": {},
   "outputs": [
    {
     "data": {
      "text/plain": [
       "1770"
      ]
     },
     "execution_count": 22,
     "metadata": {},
     "output_type": "execute_result"
    }
   ],
   "source": [
    "n_entries"
   ]
  },
  {
   "cell_type": "code",
   "execution_count": 23,
   "id": "abd601b1",
   "metadata": {},
   "outputs": [],
   "source": [
    "#getting a sparse matrix\n",
    "comparisons = coo_matrix((entries,(rows,columns)),shape=(n,(n*(n-1))//2),dtype=int)\n",
    "comparisons.eliminate_zeros()"
   ]
  },
  {
   "cell_type": "code",
   "execution_count": 24,
   "id": "93a7d59f",
   "metadata": {},
   "outputs": [],
   "source": [
    "comp = get_AddS_comparisons(comparisons,n)"
   ]
  },
  {
   "cell_type": "code",
   "execution_count": 25,
   "id": "f2feb996",
   "metadata": {},
   "outputs": [],
   "source": [
    "adds_similarities= get_AddS_triplets(comp,n)"
   ]
  },
  {
   "cell_type": "code",
   "execution_count": 26,
   "id": "a7ac908a",
   "metadata": {},
   "outputs": [
    {
     "name": "stdout",
     "output_type": "stream",
     "text": [
      "ComparisonHC ran for 0.67 seconds.\n",
      "Revenue with AddS-3: 27222.0\n"
     ]
    }
   ],
   "source": [
    "#running comparison hierarchical clustering using AddS-3 similarities\n",
    "chc = ComparisonHC(adds_similarities,n)\n",
    "chc.fit([[j] for j in range(n)])\n",
    "print(\"ComparisonHC ran for {:.2f} seconds.\".format(chc.time_elapsed))\n",
    "print(\"Revenue with AddS-3: {}\".format(-chc.cost_dasgupta(adds_similarities)))"
   ]
  },
  {
   "cell_type": "code",
   "execution_count": 27,
   "id": "ceb550dc",
   "metadata": {},
   "outputs": [],
   "source": [
    "comp_mulk = get_MulK_comparisons(comparisons)"
   ]
  },
  {
   "cell_type": "code",
   "execution_count": 28,
   "id": "b5f8bbb2",
   "metadata": {},
   "outputs": [],
   "source": [
    "mulk_similarities = get_MulK_triplets(comp_mulk,n)"
   ]
  },
  {
   "cell_type": "code",
   "execution_count": 29,
   "id": "640b1ab1",
   "metadata": {},
   "outputs": [
    {
     "name": "stdout",
     "output_type": "stream",
     "text": [
      "ComparisonHC ran for 0.75 seconds.\n",
      "Revenue with Mulk-3: 3022.0\n"
     ]
    }
   ],
   "source": [
    "#running comparison hierarchical clustering using MulK-3 similarities\n",
    "chc_mulk = ComparisonHC(mulk_similarities,n)\n",
    "chc_mulk.fit([[j] for j in range(n)])\n",
    "print(\"ComparisonHC ran for {:.2f} seconds.\".format(chc_mulk.time_elapsed))\n",
    "print(\"Revenue with Mulk-3: {}\".format(-chc_mulk.cost_dasgupta(adds_similarities)))"
   ]
  },
  {
   "cell_type": "code",
   "execution_count": 30,
   "id": "c1b6ff33",
   "metadata": {},
   "outputs": [
    {
     "name": "stderr",
     "output_type": "stream",
     "text": [
      "100%|██████████████████████████████████████████████████████████████████████████████████| 10/10 [00:16<00:00,  1.69s/it]"
     ]
    },
    {
     "name": "stdout",
     "output_type": "stream",
     "text": [
      "ComparisonHC ran for 6.16 seconds.\n"
     ]
    },
    {
     "name": "stderr",
     "output_type": "stream",
     "text": [
      "\n"
     ]
    }
   ],
   "source": [
    "#running comparison hierarchical clustering using tSTE similarities\n",
    "#since it is a randomised process it is run 10 times and mean and standard deviation are obtained\n",
    "tste_cost = []\n",
    "total_time = 0.0\n",
    "for i in tqdm.tqdm(range(10)):\n",
    "    tste_similarities = get_tSTE_triplets(triplets,n,n_triplets)\n",
    "    chc_tste = ComparisonHC(tste_similarities,n)\n",
    "    chc_tste.fit([[j] for j in range(n)])\n",
    "    total_time = total_time+chc_tste.time_elapsed\n",
    "    tste_cost.append(-chc_tste.cost_dasgupta(adds_similarities))\n",
    "print(\"ComparisonHC ran for {:.2f} seconds.\".format(total_time))"
   ]
  },
  {
   "cell_type": "code",
   "execution_count": 31,
   "id": "600d1a23",
   "metadata": {},
   "outputs": [],
   "source": [
    "tste_cost = np.array(tste_cost)\n",
    "mean = np.mean(tste_cost)\n",
    "std = np.std(tste_cost)"
   ]
  },
  {
   "cell_type": "code",
   "execution_count": 32,
   "id": "bf05200b",
   "metadata": {},
   "outputs": [
    {
     "name": "stdout",
     "output_type": "stream",
     "text": [
      "Mean revenue obtained with tSTE after 10 runs: 20165.9\n"
     ]
    }
   ],
   "source": [
    "print(\"Mean revenue obtained with tSTE after 10 runs: {}\".format(mean))"
   ]
  },
  {
   "cell_type": "code",
   "execution_count": 33,
   "id": "3c942c42",
   "metadata": {},
   "outputs": [
    {
     "name": "stdout",
     "output_type": "stream",
     "text": [
      "Standard deviation of revenue obtained with tSTE after 10 runs: 1569.3571582020454\n"
     ]
    }
   ],
   "source": [
    "print(\"Standard deviation of revenue obtained with tSTE after 10 runs: {}\".format(std))"
   ]
  }
 ],
 "metadata": {
  "kernelspec": {
   "display_name": "Python 3 (ipykernel)",
   "language": "python",
   "name": "python3"
  },
  "language_info": {
   "codemirror_mode": {
    "name": "ipython",
    "version": 3
   },
   "file_extension": ".py",
   "mimetype": "text/x-python",
   "name": "python",
   "nbconvert_exporter": "python",
   "pygments_lexer": "ipython3",
   "version": "3.9.7"
  }
 },
 "nbformat": 4,
 "nbformat_minor": 5
}
