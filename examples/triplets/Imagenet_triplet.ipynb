{
 "cells": [
  {
   "cell_type": "code",
   "execution_count": 1,
   "id": "922650e1",
   "metadata": {},
   "outputs": [],
   "source": [
    "from cblearn import datasets\n",
    "import numpy as np\n",
    "import cblearn\n",
    "import tqdm\n",
    "from scipy.sparse import csr_matrix,coo_matrix\n",
    "import time\n",
    "import sklearn\n",
    "import sys\n",
    "sys.path.append('../..')\n",
    "from comparisonHC import ComparisonHC,tSTE"
   ]
  },
  {
   "cell_type": "code",
   "execution_count": 2,
   "id": "028e890a",
   "metadata": {},
   "outputs": [],
   "source": [
    "#fetching imagenet v0.1 dataset\n",
    "data = datasets.fetch_imagenet_similarity()"
   ]
  },
  {
   "cell_type": "code",
   "execution_count": 3,
   "id": "d99e9ca8",
   "metadata": {},
   "outputs": [
    {
     "data": {
      "text/plain": [
       "{'data': array([[207, 180, 200, ..., 154, 183, 343],\n",
       "        [531, 427,  41, ..., 798, 723, 564],\n",
       "        [919, 517, 867, ..., 561, 723, 625],\n",
       "        ...,\n",
       "        [128,  93,  99, ...,  22, 353, 139],\n",
       "        [249, 195, 212, ..., 387,  89, 278],\n",
       "        [190, 192, 151, ..., 734, 130, 264]]),\n",
       " 'rt_ms': array([15440.,  6644., 11338., ..., 10932.,  9338.,  6035.]),\n",
       " 'n_select': 2,\n",
       " 'is_ranked': True,\n",
       " 'session_id': array([ 589,  464, 1055, ...,  938,  613,  463]),\n",
       " 'stimulus_id': array([    0,     1,     2, ..., 49997, 49998, 49999], dtype=int64),\n",
       " 'stimulus_filepath': array(['n01440764/ILSVRC2012_val_00024327.JPEG',\n",
       "        'n01443537/ILSVRC2012_val_00009034.JPEG',\n",
       "        'n01484850/ILSVRC2012_val_00031808.JPEG', ...,\n",
       "        'n15075141/ILSVRC2012_val_00014649.JPEG',\n",
       "        'n15075141/ILSVRC2012_val_00019699.JPEG',\n",
       "        'n15075141/ILSVRC2012_val_00041219.JPEG'], dtype='<U38'),\n",
       " 'class_id': array([ 0,  1,  2, ..., -1, -1, -1], dtype=int64),\n",
       " 'class_label': array(['n01440764', 'n01443537', 'n01484850', 'n01491361', 'n01494475',\n",
       "        'n01496331', 'n01498041', 'n01514668', 'n01514859', 'n01518878',\n",
       "        'n01530575', 'n01531178', 'n01532829', 'n01534433', 'n01537544',\n",
       "        'n01558993', 'n01560419', 'n01580077', 'n01582220', 'n01592084',\n",
       "        'n01601694', 'n01608432', 'n01614925', 'n01616318', 'n01622779',\n",
       "        'n01629819', 'n01630670', 'n01631663', 'n01632458', 'n01632777',\n",
       "        'n01641577', 'n01644373', 'n01644900', 'n01664065', 'n01665541',\n",
       "        'n01667114', 'n01667778', 'n01669191', 'n01675722', 'n01677366',\n",
       "        'n01682714', 'n01685808', 'n01687978', 'n01688243', 'n01689811',\n",
       "        'n01692333', 'n01693334', 'n01694178', 'n01695060', 'n01697457',\n",
       "        'n01698640', 'n01704323', 'n01728572', 'n01728920', 'n01729322',\n",
       "        'n01729977', 'n01734418', 'n01735189', 'n01737021', 'n01739381',\n",
       "        'n01740131', 'n01742172', 'n01744401', 'n01748264', 'n01749939',\n",
       "        'n01751748', 'n01753488', 'n01755581', 'n01756291', 'n01768244',\n",
       "        'n01770081', 'n01770393', 'n01773157', 'n01773549', 'n01773797',\n",
       "        'n01774384', 'n01774750', 'n01775062', 'n01776313', 'n01784675',\n",
       "        'n01795545', 'n01796340', 'n01797886', 'n01798484', 'n01806143',\n",
       "        'n01806567', 'n01807496', 'n01817953', 'n01818515', 'n01819313',\n",
       "        'n01820546', 'n01824575', 'n01828970', 'n01829413', 'n01833805',\n",
       "        'n01843065', 'n01843383', 'n01847000', 'n01855032', 'n01855672',\n",
       "        'n01860187', 'n01871265', 'n01872401', 'n01873310', 'n01877812',\n",
       "        'n01882714', 'n01883070', 'n01910747', 'n01914609', 'n01917289',\n",
       "        'n01924916', 'n01930112', 'n01943899', 'n01944390', 'n01945685',\n",
       "        'n01950731', 'n01955084', 'n01968897', 'n01978287', 'n01978455',\n",
       "        'n01980166', 'n01981276', 'n01983481', 'n01984695', 'n01985128',\n",
       "        'n01986214', 'n01990800', 'n02002556', 'n02002724', 'n02006656',\n",
       "        'n02007558', 'n02009229', 'n02009912', 'n02011460', 'n02012849',\n",
       "        'n02013706', 'n02017213', 'n02018207', 'n02018795', 'n02025239',\n",
       "        'n02027492', 'n02028035', 'n02033041', 'n02037110', 'n02051845',\n",
       "        'n02056570', 'n02058221', 'n02066245', 'n02071294', 'n02074367',\n",
       "        'n02077923', 'n02085620', 'n02085782', 'n02085936', 'n02086079',\n",
       "        'n02086240', 'n02086646', 'n02086910', 'n02087046', 'n02087394',\n",
       "        'n02088094', 'n02088238', 'n02088364', 'n02088466', 'n02088632',\n",
       "        'n02089078', 'n02089867', 'n02089973', 'n02090379', 'n02090622',\n",
       "        'n02090721', 'n02091032', 'n02091134', 'n02091244', 'n02091467',\n",
       "        'n02091635', 'n02091831', 'n02092002', 'n02092339', 'n02093256',\n",
       "        'n02093428', 'n02093647', 'n02093754', 'n02093859', 'n02093991',\n",
       "        'n02094114', 'n02094258', 'n02094433', 'n02095314', 'n02095570',\n",
       "        'n02095889', 'n02096051', 'n02096177', 'n02096294', 'n02096437',\n",
       "        'n02096585', 'n02097047', 'n02097130', 'n02097209', 'n02097298',\n",
       "        'n02097474', 'n02097658', 'n02098105', 'n02098286', 'n02098413',\n",
       "        'n02099267', 'n02099429', 'n02099601', 'n02099712', 'n02099849',\n",
       "        'n02100236', 'n02100583', 'n02100735', 'n02100877', 'n02101006',\n",
       "        'n02101388', 'n02101556', 'n02102040', 'n02102177', 'n02102318',\n",
       "        'n02102480', 'n02102973', 'n02104029', 'n02104365', 'n02105056',\n",
       "        'n02105162', 'n02105251', 'n02105412', 'n02105505', 'n02105641',\n",
       "        'n02105855', 'n02106030', 'n02106166', 'n02106382', 'n02106550',\n",
       "        'n02106662', 'n02107142', 'n02107312', 'n02107574', 'n02107683',\n",
       "        'n02107908', 'n02108000', 'n02108089', 'n02108422', 'n02108551',\n",
       "        'n02108915', 'n02109047', 'n02109525', 'n02109961', 'n02110063',\n",
       "        'n02110185', 'n02110341', 'n02110627', 'n02110806', 'n02110958',\n",
       "        'n02111129', 'n02111277', 'n02111500', 'n02111889', 'n02112018',\n",
       "        'n02112137', 'n02112350', 'n02112706', 'n02113023', 'n02113186',\n",
       "        'n02113624', 'n02113712', 'n02113799', 'n02113978', 'n02114367',\n",
       "        'n02114548', 'n02114712', 'n02114855', 'n02115641', 'n02115913',\n",
       "        'n02116738', 'n02117135', 'n02119022', 'n02119789', 'n02120079',\n",
       "        'n02120505', 'n02123045', 'n02123159', 'n02123394', 'n02123597',\n",
       "        'n02124075', 'n02125311', 'n02127052', 'n02128385', 'n02128757',\n",
       "        'n02128925', 'n02129165', 'n02129604', 'n02130308', 'n02132136',\n",
       "        'n02133161', 'n02134084', 'n02134418', 'n02137549', 'n02138441',\n",
       "        'n02165105', 'n02165456', 'n02167151', 'n02168699', 'n02169497',\n",
       "        'n02172182', 'n02174001', 'n02177972', 'n02190166', 'n02206856',\n",
       "        'n02219486', 'n02226429', 'n02229544', 'n02231487', 'n02233338',\n",
       "        'n02236044', 'n02256656', 'n02259212', 'n02264363', 'n02268443',\n",
       "        'n02268853', 'n02276258', 'n02277742', 'n02279972', 'n02280649',\n",
       "        'n02281406', 'n02281787', 'n02317335', 'n02319095', 'n02321529',\n",
       "        'n02325366', 'n02326432', 'n02328150', 'n02342885', 'n02346627',\n",
       "        'n02356798', 'n02361337', 'n02363005', 'n02364673', 'n02389026',\n",
       "        'n02391049', 'n02395406', 'n02396427', 'n02397096', 'n02398521',\n",
       "        'n02403003', 'n02408429', 'n02410509', 'n02412080', 'n02415577',\n",
       "        'n02417914', 'n02422106', 'n02422699', 'n02423022', 'n02437312',\n",
       "        'n02437616', 'n02441942', 'n02442845', 'n02443114', 'n02443484',\n",
       "        'n02444819', 'n02445715', 'n02447366', 'n02454379', 'n02457408',\n",
       "        'n02480495', 'n02480855', 'n02481823', 'n02483362', 'n02483708',\n",
       "        'n02484975', 'n02486261', 'n02486410', 'n02487347', 'n02488291',\n",
       "        'n02488702', 'n02489166', 'n02490219', 'n02492035', 'n02492660',\n",
       "        'n02493509', 'n02493793', 'n02494079', 'n02497673', 'n02500267',\n",
       "        'n02504013', 'n02504458', 'n02509815', 'n02510455', 'n02514041',\n",
       "        'n02526121', 'n02536864', 'n02606052', 'n02607072', 'n02640242',\n",
       "        'n02641379', 'n02643566', 'n02655020', 'n02666196', 'n02667093',\n",
       "        'n02669723', 'n02672831', 'n02676566', 'n02687172', 'n02690373',\n",
       "        'n02692877', 'n02699494', 'n02701002', 'n02704792', 'n02708093',\n",
       "        'n02727426', 'n02730930', 'n02747177', 'n02749479', 'n02769748',\n",
       "        'n02776631', 'n02777292', 'n02782093', 'n02783161', 'n02786058',\n",
       "        'n02787622', 'n02788148', 'n02790996', 'n02791124', 'n02791270',\n",
       "        'n02793495', 'n02794156', 'n02795169', 'n02797295', 'n02799071',\n",
       "        'n02802426', 'n02804414', 'n02804610', 'n02807133', 'n02808304',\n",
       "        'n02808440', 'n02814533', 'n02814860', 'n02815834', 'n02817516',\n",
       "        'n02823428', 'n02823750', 'n02825657', 'n02834397', 'n02835271',\n",
       "        'n02837789', 'n02840245', 'n02841315', 'n02843684', 'n02859443',\n",
       "        'n02860847', 'n02865351', 'n02869837', 'n02870880', 'n02871525',\n",
       "        'n02877765', 'n02879718', 'n02883205', 'n02892201', 'n02892767',\n",
       "        'n02894605', 'n02895154', 'n02906734', 'n02909870', 'n02910353',\n",
       "        'n02916936', 'n02917067', 'n02927161', 'n02930766', 'n02939185',\n",
       "        'n02948072', 'n02950826', 'n02951358', 'n02951585', 'n02963159',\n",
       "        'n02965783', 'n02966193', 'n02966687', 'n02971356', 'n02974003',\n",
       "        'n02977058', 'n02978881', 'n02979186', 'n02980441', 'n02981792',\n",
       "        'n02988304', 'n02992211', 'n02992529', 'n02999410', 'n03000134',\n",
       "        'n03000247', 'n03000684', 'n03014705', 'n03016953', 'n03017168',\n",
       "        'n03018349', 'n03026506', 'n03028079', 'n03032252', 'n03041632',\n",
       "        'n03042490', 'n03045698', 'n03047690', 'n03062245', 'n03063599',\n",
       "        'n03063689', 'n03065424', 'n03075370', 'n03085013', 'n03089624',\n",
       "        'n03095699', 'n03100240', 'n03109150', 'n03110669', 'n03124043',\n",
       "        'n03124170', 'n03125729', 'n03126707', 'n03127747', 'n03127925',\n",
       "        'n03131574', 'n03133878', 'n03134739', 'n03141823', 'n03146219',\n",
       "        'n03160309', 'n03179701', 'n03180011', 'n03187595', 'n03188531',\n",
       "        'n03196217', 'n03197337', 'n03201208', 'n03207743', 'n03207941',\n",
       "        'n03208938', 'n03216828', 'n03218198', 'n03220513', 'n03223299',\n",
       "        'n03240683', 'n03249569', 'n03250847', 'n03255030', 'n03259280',\n",
       "        'n03271574', 'n03272010', 'n03272562', 'n03290653', 'n03291819',\n",
       "        'n03297495', 'n03314780', 'n03325584', 'n03337140', 'n03344393',\n",
       "        'n03345487', 'n03347037', 'n03355925', 'n03372029', 'n03376595',\n",
       "        'n03379051', 'n03384352', 'n03388043', 'n03388183', 'n03388549',\n",
       "        'n03393912', 'n03394916', 'n03400231', 'n03404251', 'n03417042',\n",
       "        'n03424325', 'n03425413', 'n03443371', 'n03444034', 'n03445777',\n",
       "        'n03445924', 'n03447447', 'n03447721', 'n03450230', 'n03452741',\n",
       "        'n03457902', 'n03459775', 'n03461385', 'n03467068', 'n03476684',\n",
       "        'n03476991', 'n03478589', 'n03481172', 'n03482405', 'n03483316',\n",
       "        'n03485407', 'n03485794', 'n03492542', 'n03494278', 'n03495258',\n",
       "        'n03496892', 'n03498962', 'n03527444', 'n03529860', 'n03530642',\n",
       "        'n03532672', 'n03534580', 'n03535780', 'n03538406', 'n03544143',\n",
       "        'n03584254', 'n03584829', 'n03590841', 'n03594734', 'n03594945',\n",
       "        'n03595614', 'n03598930', 'n03599486', 'n03602883', 'n03617480',\n",
       "        'n03623198', 'n03627232', 'n03630383', 'n03633091', 'n03637318',\n",
       "        'n03642806', 'n03649909', 'n03657121', 'n03658185', 'n03661043',\n",
       "        'n03662601', 'n03666591', 'n03670208', 'n03673027', 'n03676483',\n",
       "        'n03680355', 'n03690938', 'n03691459', 'n03692522', 'n03697007',\n",
       "        'n03706229', 'n03709823', 'n03710193', 'n03710637', 'n03710721',\n",
       "        'n03717622', 'n03720891', 'n03721384', 'n03724870', 'n03729826',\n",
       "        'n03733131', 'n03733281', 'n03733805', 'n03742115', 'n03743016',\n",
       "        'n03759954', 'n03761084', 'n03763968', 'n03764736', 'n03769881',\n",
       "        'n03770439', 'n03770679', 'n03773504', 'n03775071', 'n03775546',\n",
       "        'n03776460', 'n03777568', 'n03777754', 'n03781244', 'n03782006',\n",
       "        'n03785016', 'n03786901', 'n03787032', 'n03788195', 'n03788365',\n",
       "        'n03791053', 'n03792782', 'n03792972', 'n03793489', 'n03794056',\n",
       "        'n03796401', 'n03803284', 'n03804744', 'n03814639', 'n03814906',\n",
       "        'n03825788', 'n03832673', 'n03837869', 'n03838899', 'n03840681',\n",
       "        'n03841143', 'n03843555', 'n03854065', 'n03857828', 'n03866082',\n",
       "        'n03868242', 'n03868863', 'n03871628', 'n03873416', 'n03874293',\n",
       "        'n03874599', 'n03876231', 'n03877472', 'n03877845', 'n03884397',\n",
       "        'n03887697', 'n03888257', 'n03888605', 'n03891251', 'n03891332',\n",
       "        'n03895866', 'n03899768', 'n03902125', 'n03903868', 'n03908618',\n",
       "        'n03908714', 'n03916031', 'n03920288', 'n03924679', 'n03929660',\n",
       "        'n03929855', 'n03930313', 'n03930630', 'n03933933', 'n03935335',\n",
       "        'n03937543', 'n03938244', 'n03942813', 'n03944341', 'n03947888',\n",
       "        'n03950228', 'n03954731', 'n03956157', 'n03958227', 'n03961711',\n",
       "        'n03967562', 'n03970156', 'n03976467', 'n03976657', 'n03977966',\n",
       "        'n03980874', 'n03982430', 'n03983396', 'n03991062', 'n03992509',\n",
       "        'n03995372', 'n03998194', 'n04004767', 'n04005630', 'n04008634',\n",
       "        'n04009552', 'n04019541', 'n04023962', 'n04026417', 'n04033901',\n",
       "        'n04033995', 'n04037443', 'n04039381', 'n04040759', 'n04041544',\n",
       "        'n04044716', 'n04049303', 'n04065272', 'n04067472', 'n04069434',\n",
       "        'n04070727', 'n04074963', 'n04081281', 'n04086273', 'n04090263',\n",
       "        'n04099969', 'n04111531', 'n04116512', 'n04118538', 'n04118776',\n",
       "        'n04120489', 'n04125021', 'n04127249', 'n04131690', 'n04133789',\n",
       "        'n04136333', 'n04141076', 'n04141327', 'n04141975', 'n04146614',\n",
       "        'n04147183', 'n04149813', 'n04152593', 'n04153751', 'n04154565',\n",
       "        'n04162706', 'n04179913', 'n04192698', 'n04200800', 'n04201297',\n",
       "        'n04204238', 'n04204347', 'n04208210', 'n04209133', 'n04209239',\n",
       "        'n04228054', 'n04229816', 'n04235860', 'n04238763', 'n04239074',\n",
       "        'n04243546', 'n04251144', 'n04252077', 'n04252225', 'n04254120',\n",
       "        'n04254680', 'n04254777', 'n04258138', 'n04259630', 'n04263257',\n",
       "        'n04264628', 'n04265275', 'n04266014', 'n04270147', 'n04273569',\n",
       "        'n04275548', 'n04277352', 'n04285008', 'n04286575', 'n04296562',\n",
       "        'n04310018', 'n04311004', 'n04311174', 'n04317175', 'n04325704',\n",
       "        'n04326547', 'n04328186', 'n04330267', 'n04332243', 'n04335435',\n",
       "        'n04336792', 'n04344873', 'n04346328', 'n04347754', 'n04350905',\n",
       "        'n04355338', 'n04355933', 'n04356056', 'n04357314', 'n04366367',\n",
       "        'n04367480', 'n04370456', 'n04371430', 'n04371774', 'n04372370',\n",
       "        'n04376876', 'n04380533', 'n04389033', 'n04392985', 'n04398044',\n",
       "        'n04399382', 'n04404412', 'n04409515', 'n04417672', 'n04418357',\n",
       "        'n04423845', 'n04428191', 'n04429376', 'n04435653', 'n04442312',\n",
       "        'n04443257', 'n04447861', 'n04456115', 'n04458633', 'n04461696',\n",
       "        'n04462240', 'n04465501', 'n04467665', 'n04476259', 'n04479046',\n",
       "        'n04482393', 'n04483307', 'n04485082', 'n04486054', 'n04487081',\n",
       "        'n04487394', 'n04493381', 'n04501370', 'n04505470', 'n04507155',\n",
       "        'n04509417', 'n04515003', 'n04517823', 'n04522168', 'n04523525',\n",
       "        'n04525038', 'n04525305', 'n04532106', 'n04532670', 'n04536866',\n",
       "        'n04540053', 'n04542943', 'n04548280', 'n04548362', 'n04550184',\n",
       "        'n04552348', 'n04553703', 'n04554684', 'n04557648', 'n04560804',\n",
       "        'n04562935', 'n04579145', 'n04579432', 'n04584207', 'n04589890',\n",
       "        'n04590129', 'n04591157', 'n04591713', 'n04592741', 'n04596742',\n",
       "        'n04597913', 'n04599235', 'n04604644', 'n04606251', 'n04612504',\n",
       "        'n04613696', 'n06359193', 'n06596364', 'n06785654', 'n06794110',\n",
       "        'n06874185', 'n07248320', 'n07565083', 'n07579787', 'n07583066',\n",
       "        'n07584110', 'n07590611', 'n07613480', 'n07614500', 'n07615774',\n",
       "        'n07684084', 'n07693725', 'n07695742', 'n07697313', 'n07697537',\n",
       "        'n07711569', 'n07714571', 'n07714990', 'n07715103', 'n07716358',\n",
       "        'n07716906', 'n07717410', 'n07717556', 'n07718472', 'n07718747',\n",
       "        'n07720875', 'n07730033', 'n07734744', 'n07742313', 'n07745940',\n",
       "        'n07747607', 'n07749582', 'n07753113', 'n07753275', 'n07753592',\n",
       "        'n07754684', 'n07760859', 'n07768694', 'n07802026', 'n07831146',\n",
       "        'n07836838', 'n07860988', 'n07871810', 'n07873807', 'n07875152',\n",
       "        'n07880968', 'n07892512', 'n07920052', 'n07930864', 'n07932039',\n",
       "        'n09193705', 'n09229709', 'n09246464', 'n09256479', 'n09288635',\n",
       "        'n09332890', 'n09399592', 'n09421951', 'n09428293', 'n09468604',\n",
       "        'n09472597', 'n09835506', 'n10148035', 'n10565667', 'n11879895',\n",
       "        'n11939491', 'n12057211', 'n12144580', 'n12267677', 'n12620546',\n",
       "        'n12768682', 'n12985857', 'n12998815', 'n13037406', 'n13040303',\n",
       "        'n13044778', 'n13052670', 'n13054560', 'n13133613', 'n15075141'],\n",
       "       dtype='<U9'),\n",
       " 'DESCR': '.. _imagenet_similarity_dataset:\\n\\nImagenet Similarity dataset\\n---------------------------\\n\\nThis dataset contains comparison trials of images from the ImageNet validation dataset (ILSVRC-2012).\\nIn an crowd sourced experiments, subjects ranked two out of 8 images that appeared most similar to a reference image.\\nThe trials where selected in an active learning routine, such that they already are not too dissimilar within a trial.\\n\\nThere are two versions of this dataset: Version \"0.2\" has trials for\\nall 50 ImageNet validation images per class, version \"0.1\" has trials for a single image per class.\\n\\nThe whole `dataset`_ is published under CC-By Attribution 4.0 International by Brett Roads.\\n\\n.. _dataset: https://osf.io/cn2s3/\\n\\n**Data Set Characteristics:**\\n\\n    ===================   =====================\\n    Trials    v0.1/v0.2        25,273 / 384,277\\n    Objects (Images)             1,000 / 50,000\\n    Classes                               1,000\\n    Query                         rank 2 from 8\\n    ===================   =====================\\n\\nThis dataset can be downloaded using the :func:`cblearn.datasets.fetch_imagenet_similarity`.\\nTo use the 8-rank-2 trials with e.g. ordinal embedding algorithms, they can be converted to standard triplets\\nwith :func:`cblearn.preprocessing.triplets_from_multiselect`.\\n\\nPlease cite the following paper if you use this dataset in publications.\\n\\n.. topic:: References\\n\\n    - Roads, B. D., & Love, B. C. (2020). Enriching ImageNet with Human Similarity Judgments\\n      and Psychological Embeddings. ArXiv:2011.11015 [Cs]. http://arxiv.org/abs/2011.11015\\n'}"
      ]
     },
     "execution_count": 3,
     "metadata": {},
     "output_type": "execute_result"
    }
   ],
   "source": [
    "data"
   ]
  },
  {
   "cell_type": "code",
   "execution_count": 4,
   "id": "93044576",
   "metadata": {},
   "outputs": [],
   "source": [
    "#getting raw triplets from nature scene data\n",
    "triplets_raw = data['data']"
   ]
  },
  {
   "cell_type": "code",
   "execution_count": 5,
   "id": "b3b0d7be",
   "metadata": {},
   "outputs": [],
   "source": [
    "n = np.amax(triplets_raw) + 1"
   ]
  },
  {
   "cell_type": "code",
   "execution_count": 6,
   "id": "87da8197",
   "metadata": {},
   "outputs": [
    {
     "data": {
      "text/plain": [
       "1000"
      ]
     },
     "execution_count": 6,
     "metadata": {},
     "output_type": "execute_result"
    }
   ],
   "source": [
    "#objects in the data\n",
    "n"
   ]
  },
  {
   "cell_type": "code",
   "execution_count": 7,
   "id": "f6d680c3",
   "metadata": {},
   "outputs": [],
   "source": [
    "n_triplets_raw = triplets_raw.shape[0]"
   ]
  },
  {
   "cell_type": "code",
   "execution_count": 8,
   "id": "e577ebd1",
   "metadata": {},
   "outputs": [
    {
     "data": {
      "text/plain": [
       "25273"
      ]
     },
     "execution_count": 8,
     "metadata": {},
     "output_type": "execute_result"
    }
   ],
   "source": [
    "#raw triplets in the data(number of responses)\n",
    "n_triplets_raw"
   ]
  },
  {
   "cell_type": "code",
   "execution_count": 9,
   "id": "68039be7",
   "metadata": {},
   "outputs": [],
   "source": [
    "#getting standard triplets from raw triplets. Random triplets are of form (i,j,k) where s_ij>s_ik\n",
    "triplets = cblearn.preprocessing.triplets_from_multiselect(data['data'],data['n_select'],data['is_ranked'])"
   ]
  },
  {
   "cell_type": "code",
   "execution_count": 10,
   "id": "2982e592",
   "metadata": {},
   "outputs": [],
   "source": [
    "n_triplets = triplets.shape[0]"
   ]
  },
  {
   "cell_type": "code",
   "execution_count": 11,
   "id": "9d689ea9",
   "metadata": {},
   "outputs": [
    {
     "data": {
      "text/plain": [
       "328549"
      ]
     },
     "execution_count": 11,
     "metadata": {},
     "output_type": "execute_result"
    }
   ],
   "source": [
    "#standard triplets obtained from the data\n",
    "n_triplets"
   ]
  },
  {
   "cell_type": "code",
   "execution_count": 12,
   "id": "1397b6dd",
   "metadata": {},
   "outputs": [],
   "source": [
    "def get_k(i,j,n_examples):\n",
    "    \"\"\"Given the row and column coordinates, returns the index of entries\n",
    "            of an off-diagonal upper triangular matrix where the elements\n",
    "            are taken in a row-major order:\n",
    "            [. 0 1 2 3\n",
    "             . . 4 5 6\n",
    "             . . . 7 8\n",
    "             . . . . 9\n",
    "             . . . . .]\n",
    "            Parameters\n",
    "            -------\n",
    "            i : int or numpy array\n",
    "                The row index of the example, between 0 and n_examples.\n",
    "            j : int or numpy array, shape(i.shape)\n",
    "                The column index of the example, between i and n_examples.\n",
    "            n_example : int\n",
    "                The number of rows and columns in the matrix. If None,\n",
    "                self.n_examples is used. (Default: None).\n",
    "            Returns\n",
    "            ----------\n",
    "            k : int or numpy array, shape(i.shape)\n",
    "                The row-major index of the example, between 0 and (n_examples choose 2).\n",
    "            Notes\n",
    "            -----\n",
    "            The original formulation was taken from the following link:\n",
    "            https://stackoverflow.com/questions/27086195/linear-index-upper-triangular-matrix\n",
    "    \"\"\"\n",
    "    k = ((n_examples*(n_examples-1))//2) - ((n_examples-i)*((n_examples-i)-1))//2 + j - i - 1\n",
    "\n",
    "    return k"
   ]
  },
  {
   "cell_type": "code",
   "execution_count": 13,
   "id": "787736f4",
   "metadata": {},
   "outputs": [],
   "source": [
    "def get_ij(k,n_examples):\n",
    "        \"\"\"Returns the row and column coordinates given the index of the\n",
    "        entries of an off-diagonal upper triangular matrix where the\n",
    "        elements are taken in a row-major order:\n",
    "        [. 0 1 2 3\n",
    "         . . 4 5 6\n",
    "         . . . 7 8\n",
    "         . . . . 9\n",
    "         . . . . .]\n",
    "        Parameters\n",
    "        ----------\n",
    "        k : int or numpy array\n",
    "            The row-major index of the example, between 0 and\n",
    "            (n_examples choose 2).\n",
    "       \n",
    "        n_example : int\n",
    "            The number of rows and columns in the matrix. If None,\n",
    "            self.n_examples is used. (Default: None).\n",
    "        Returns\n",
    "        -------\n",
    "        i : int or numpy array, shape(k.shape)\n",
    "            The row index of the example, between 0 and n_examples.\n",
    "        j : int or numpy array, shape(k.shape)\n",
    "            The column index of the example, between i and n_examples.\n",
    "        Notes\n",
    "        -----\n",
    "        The original formulation was taken from the following link:\n",
    "        https://stackoverflow.com/questions/27086195/linear-index-upper-triangular-matrix\n",
    "        \"\"\"\n",
    "\n",
    "        i = n_examples - 2 - (np.sqrt(-8*k + 4*n_examples*(n_examples-1)-7)/2 - 1/2).astype(int)\n",
    "        j = k + i + 1 - (n_examples*(n_examples-1))//2 + ((n_examples-i)*((n_examples-i)-1))//2\n",
    "        \n",
    "        return i,j"
   ]
  },
  {
   "cell_type": "code",
   "execution_count": 14,
   "id": "7bb498bf",
   "metadata": {},
   "outputs": [],
   "source": [
    "def get_AddS_comparisons(comparisons,n_examples):\n",
    "        \"\"\"Get a sparse matrix representing the comparisons in a way that is\n",
    "        easy to handle for AddS.\n",
    "        Returns\n",
    "        -------\n",
    "        AddS_comparisons : scipy csr matrix, shape(n_examples**2,n_examples)\n",
    "            A scipy csr_matrix containing values in {1,-1,0}. Given\n",
    "            i!=j,k, in entry (i*n_examples+j,k), the value 1 indicates\n",
    "            that the triplet (i,j,k) is available, the value -1\n",
    "            indicates that the triplet (i,k,j) is available, and the\n",
    "            value 0 indicates that neither of the triplets is\n",
    "            available.\n",
    "        \"\"\"\n",
    "        i = comparisons.row\n",
    "        j,k = get_ij(comparisons.col,n_examples)\n",
    "\n",
    "        n_pairs = n_examples\n",
    "        \n",
    "        rows_j = i*n_pairs+j\n",
    "        columns_j = k\n",
    "               \n",
    "        rows_k = i*n_pairs+k\n",
    "        columns_k = j\n",
    "               \n",
    "        rows = np.concatenate((rows_j,rows_k))\n",
    "        columns = np.concatenate((columns_j,columns_k))\n",
    "        entries = np.concatenate((comparisons.data,-comparisons.data))\n",
    "            \n",
    "        AddS_comparisons = csr_matrix((entries,(rows,columns)),shape=(n_examples**2,n_examples),dtype=int)\n",
    "                \n",
    "        return AddS_comparisons"
   ]
  },
  {
   "cell_type": "code",
   "execution_count": 15,
   "id": "7d0ad458",
   "metadata": {},
   "outputs": [],
   "source": [
    "def get_AddS_triplets(comparisons,n_examples):\n",
    "    \"\"\"Returns a symmetric similarity matrix representing the similarities\n",
    "    between all the examples using the AddS triplets approach.\n",
    "    Parameters\n",
    "    ----------\n",
    "    comparisons : scipy csr matrix \n",
    "        It is a scipy csr matrix,\n",
    "        shape(n_examples**2,n_examples) A scipy csr_matrix containing\n",
    "        values in {1,-1,0}. Given i!=j,k, in entry (i*n_examples+j,k),\n",
    "        the value 1 indicates that the triplet (i,j,k) is available,\n",
    "        the value -1 indicates that the triplet (i,k,j) is available,\n",
    "        and the value 0 indicates that neither of the triplets is\n",
    "        available.\n",
    "    n_examples : int\n",
    "        The number of examples.\n",
    "    Returns\n",
    "    -------\n",
    "    kernel : numpy array, shape (n_examples,n_examples)\n",
    "        A nummpy array of similarities between the examples.\n",
    "    \"\"\"\n",
    "    \n",
    "    kernel = np.zeros((n_examples,n_examples))\n",
    "    \n",
    "    comps = comparisons\n",
    "    entries = comps.sum(axis=1).A1\n",
    "\n",
    "    indices = np.arange(n_examples**2)\n",
    "    i = indices//n_examples\n",
    "    j = indices - i*n_examples\n",
    "    \n",
    "    kernel[i,j] = entries\n",
    "    \n",
    "    kernel += kernel.transpose()\n",
    "\n",
    "    return kernel"
   ]
  },
  {
   "cell_type": "code",
   "execution_count": 16,
   "id": "4f552c28",
   "metadata": {},
   "outputs": [],
   "source": [
    "def get_MulK_comparisons(comparisons):\n",
    "    \"\"\"Get a sparse matrix representing the comparisons in a way that is\n",
    "      easy to handle for MulK.\n",
    "      Returns\n",
    "      -------\n",
    "      MulK_comparisons : scipy csr matrix, shape(n_examples,(n_examples choose 2)) \n",
    "          A scipy csr_matrix containing values in {1,-1,0}. Given\n",
    "          i!=j,k, j<k, in entry (i,self._get_k(j,k)), the value 1\n",
    "          indicates that the triplet (i,j,k) is available, the value\n",
    "          -1 indicates that the triplet (i,k,j) is available, and\n",
    "          the value 0 indicates that neither of the triplets is\n",
    "          available.\n",
    "      \"\"\"\n",
    "    MulK_comparisons = comparisons.tocsr()\n",
    "    \n",
    "    return MulK_comparisons"
   ]
  },
  {
   "cell_type": "code",
   "execution_count": 17,
   "id": "87ab6c1c",
   "metadata": {},
   "outputs": [],
   "source": [
    "def get_MulK_triplets(comparisons,n_examples):\n",
    "    \"\"\"Returns a symmetric similarity matrix representing the similarities\n",
    "    between all the examples using the MulK triplets approach.\n",
    "    Parameters\n",
    "    ----------\n",
    "    comparisons : scipy csr matrix\n",
    "        It is a scipy csr matrix\n",
    "        of shape(n_examples,(n_examples choose 2)) containing values\n",
    "        in {1,-1,0}. Given i!=j,k, j<k, in entry (i,self._get_k(j,k)),\n",
    "        the value 1 indicates that the triplet (i,j,k) is available,\n",
    "        the value -1 indicates that the triplet (i,k,j) is available,\n",
    "        and the value 0 indicates that neither of the triplets is\n",
    "        available.\n",
    "    n_examples : int\n",
    "        The number of examples handled.\n",
    "    Returns\n",
    "    -------\n",
    "    kernel : numpy array, shape (n_examples,n_examples)\n",
    "        A nummpy array of similarities between the examples.\n",
    "    \"\"\"\n",
    "    kernel = np.zeros((n_examples,n_examples))\n",
    "    \n",
    "    kernel = comparisons.dot(comparisons.transpose())\n",
    "    \n",
    "    norms = np.sqrt(comparisons.getnnz(axis=1))\n",
    "    norms = norms.reshape(-1,1) @ norms.reshape(1,-1)\n",
    "    norms = np.where(norms == 0,1,norms) # This is to avoid issues with the true divide when the norm is 0 for i or j\n",
    "    \n",
    "    kernel = kernel.toarray()/norms\n",
    "    np.fill_diagonal(kernel,0)\n",
    "\n",
    "    return kernel"
   ]
  },
  {
   "cell_type": "code",
   "execution_count": 18,
   "id": "f4b04a94",
   "metadata": {},
   "outputs": [],
   "source": [
    "def get_tSTE_triplets(triplets,n,n_triplets):\n",
    "    \"\"\"Returns a symmetric similarity matrix representing the similarities\n",
    "    between all the examples using the MulK triplets approach.\n",
    "    Parameters\n",
    "    ----------\n",
    "    triplets : standard triplets\n",
    "    \n",
    "    n : int\n",
    "        The number of objects.\n",
    "        \n",
    "    n_trilets : int\n",
    "        The number of triplets.\n",
    "    Returns\n",
    "    -------\n",
    "    kernel : numpy array, shape (n_examples,n_examples)\n",
    "        A nummpy array of similarities between the examples.\n",
    "    \"\"\"\n",
    "    \n",
    "    X = tSTE(triplets,n,n_triplets)\n",
    "    kernel = sklearn.metrics.pairwise.cosine_similarity(X, dense_output=True)\n",
    "    \n",
    "    return kernel"
   ]
  },
  {
   "cell_type": "code",
   "execution_count": 19,
   "id": "beaebfcd",
   "metadata": {},
   "outputs": [],
   "source": [
    "#getting rows, columns and entries to represent the triplets as an upper triangular matrix\n",
    "rows = []\n",
    "columns = []\n",
    "entries = []\n",
    "for triplet in triplets:\n",
    "    rows.append(triplet[0])\n",
    "    if (triplet[1]<triplet[2]):\n",
    "        columns.append(get_k(triplet[1],triplet[2],n))\n",
    "        entries.append(1)\n",
    "    else:\n",
    "        columns.append(get_k(triplet[2],triplet[1],n))\n",
    "        entries.append(-1)"
   ]
  },
  {
   "cell_type": "code",
   "execution_count": 20,
   "id": "eaadc83e",
   "metadata": {},
   "outputs": [],
   "source": [
    "rows = np.array(rows)\n",
    "columns = np.array(columns)\n",
    "entries = np.array(entries)"
   ]
  },
  {
   "cell_type": "code",
   "execution_count": 21,
   "id": "4a165faf",
   "metadata": {},
   "outputs": [],
   "source": [
    "n_entries = (n*(n-1))//2"
   ]
  },
  {
   "cell_type": "code",
   "execution_count": 22,
   "id": "9de513cd",
   "metadata": {},
   "outputs": [
    {
     "data": {
      "text/plain": [
       "499500"
      ]
     },
     "execution_count": 22,
     "metadata": {},
     "output_type": "execute_result"
    }
   ],
   "source": [
    "n_entries"
   ]
  },
  {
   "cell_type": "code",
   "execution_count": 23,
   "id": "abd601b1",
   "metadata": {},
   "outputs": [],
   "source": [
    "#getting a sparse matrix\n",
    "comparisons = coo_matrix((entries,(rows,columns)),shape=(n,(n*(n-1))//2),dtype=int)\n",
    "comparisons.eliminate_zeros()"
   ]
  },
  {
   "cell_type": "code",
   "execution_count": 24,
   "id": "93a7d59f",
   "metadata": {},
   "outputs": [],
   "source": [
    "comp = get_AddS_comparisons(comparisons,n)"
   ]
  },
  {
   "cell_type": "code",
   "execution_count": 25,
   "id": "f2feb996",
   "metadata": {},
   "outputs": [],
   "source": [
    "adds_similarities= get_AddS_triplets(comp,n)"
   ]
  },
  {
   "cell_type": "code",
   "execution_count": 26,
   "id": "a7ac908a",
   "metadata": {},
   "outputs": [
    {
     "name": "stdout",
     "output_type": "stream",
     "text": [
      "ComparisonHC ran for 2579.38 seconds.\n",
      "Revenue with AddS-3: 71795448.0\n"
     ]
    }
   ],
   "source": [
    "#running comparison hierarchical clustering using AddS-3 similarities\n",
    "chc = ComparisonHC(adds_similarities,n)\n",
    "chc.fit([[j] for j in range(n)])\n",
    "print(\"ComparisonHC ran for {:.2f} seconds.\".format(chc.time_elapsed))\n",
    "print(\"Revenue with AddS-3: {}\".format(-chc.cost_dasgupta(adds_similarities)))"
   ]
  },
  {
   "cell_type": "code",
   "execution_count": 27,
   "id": "ceb550dc",
   "metadata": {},
   "outputs": [],
   "source": [
    "comp_mulk = get_MulK_comparisons(comparisons)"
   ]
  },
  {
   "cell_type": "code",
   "execution_count": 28,
   "id": "b5f8bbb2",
   "metadata": {},
   "outputs": [],
   "source": [
    "mulk_similarities = get_MulK_triplets(comp_mulk,n)"
   ]
  },
  {
   "cell_type": "code",
   "execution_count": 29,
   "id": "640b1ab1",
   "metadata": {},
   "outputs": [
    {
     "name": "stdout",
     "output_type": "stream",
     "text": [
      "ComparisonHC ran for 2933.53 seconds.\n",
      "Revenue with Mulk-3: 34406024.0\n"
     ]
    }
   ],
   "source": [
    "#running comparison hierarchical clustering using MulK-3 similarities\n",
    "chc_mulk = ComparisonHC(mulk_similarities,n)\n",
    "chc_mulk.fit([[j] for j in range(n)])\n",
    "print(\"ComparisonHC ran for {:.2f} seconds.\".format(chc_mulk.time_elapsed))\n",
    "print(\"Revenue with Mulk-3: {}\".format(-chc_mulk.cost_dasgupta(adds_similarities)))"
   ]
  },
  {
   "cell_type": "code",
   "execution_count": 30,
   "id": "c1b6ff33",
   "metadata": {},
   "outputs": [
    {
     "name": "stderr",
     "output_type": "stream",
     "text": [
      "100%|██████████████████████████████████████████████████████████████████████████████| 10/10 [9:46:20<00:00, 3518.00s/it]"
     ]
    },
    {
     "name": "stdout",
     "output_type": "stream",
     "text": [
      "ComparisonHC ran for 27128.36 seconds.\n"
     ]
    },
    {
     "name": "stderr",
     "output_type": "stream",
     "text": [
      "\n"
     ]
    }
   ],
   "source": [
    "#running comparison hierarchical clustering using tSTE similarities\n",
    "#since it is a randomised process it is run 10 times and mean and standard deviation are obtained\n",
    "tste_cost = []\n",
    "total_time = 0.0\n",
    "for i in tqdm.tqdm(range(10)):\n",
    "    tste_similarities = get_tSTE_triplets(triplets,n,n_triplets)\n",
    "    chc_tste = ComparisonHC(tste_similarities,n)\n",
    "    chc_tste.fit([[j] for j in range(n)])\n",
    "    total_time = total_time+chc_tste.time_elapsed\n",
    "    tste_cost.append(-chc_tste.cost_dasgupta(adds_similarities))\n",
    "print(\"ComparisonHC ran for {:.2f} seconds.\".format(total_time))"
   ]
  },
  {
   "cell_type": "code",
   "execution_count": 31,
   "id": "600d1a23",
   "metadata": {},
   "outputs": [],
   "source": [
    "tste_cost = np.array(tste_cost)\n",
    "mean = np.mean(tste_cost)\n",
    "std = np.std(tste_cost)"
   ]
  },
  {
   "cell_type": "code",
   "execution_count": 32,
   "id": "bf05200b",
   "metadata": {},
   "outputs": [
    {
     "name": "stdout",
     "output_type": "stream",
     "text": [
      "Mean revenue obtained with tSTE after 10 runs: 65817950.0\n"
     ]
    }
   ],
   "source": [
    "print(\"Mean revenue obtained with tSTE after 10 runs: {}\".format(mean))"
   ]
  },
  {
   "cell_type": "code",
   "execution_count": 34,
   "id": "274d309e",
   "metadata": {},
   "outputs": [
    {
     "name": "stdout",
     "output_type": "stream",
     "text": [
      "Standard Deviation of revenue obtained with tSTE after 10 runs: 1281092.3057805006\n"
     ]
    }
   ],
   "source": [
    "print(\"Standard Deviation of revenue obtained with tSTE after 10 runs: {}\".format(std))"
   ]
  }
 ],
 "metadata": {
  "kernelspec": {
   "display_name": "Python 3 (ipykernel)",
   "language": "python",
   "name": "python3"
  },
  "language_info": {
   "codemirror_mode": {
    "name": "ipython",
    "version": 3
   },
   "file_extension": ".py",
   "mimetype": "text/x-python",
   "name": "python",
   "nbconvert_exporter": "python",
   "pygments_lexer": "ipython3",
   "version": "3.9.7"
  }
 },
 "nbformat": 4,
 "nbformat_minor": 5
}
