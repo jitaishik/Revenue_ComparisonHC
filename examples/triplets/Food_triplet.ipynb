{
 "cells": [
  {
   "cell_type": "code",
   "execution_count": 1,
   "id": "922650e1",
   "metadata": {},
   "outputs": [],
   "source": [
    "from cblearn import datasets\n",
    "import numpy as np\n",
    "import cblearn\n",
    "import tqdm\n",
    "import time\n",
    "import sys\n",
    "sys.path.append('../..')\n",
    "from comparisonHC import HandlerTriplets, ListTriplets, get_AddS_triplets, get_MulK_triplets, get_tSTE_triplets, ComparisonHC"
   ]
  },
  {
   "cell_type": "code",
   "execution_count": 2,
   "id": "028e890a",
   "metadata": {},
   "outputs": [],
   "source": [
    "#fetching food dataset\n",
    "data = datasets.fetch_food_similarity()"
   ]
  },
  {
   "cell_type": "code",
   "execution_count": 3,
   "id": "d99e9ca8",
   "metadata": {},
   "outputs": [
    {
     "data": {
      "text/plain": [
       "{'data': array([[88,  9, 51],\n",
       "        [62, 48,  7],\n",
       "        [95, 28,  6],\n",
       "        ...,\n",
       "        [ 1, 92, 97],\n",
       "        [82, 59, 73],\n",
       "        [ 7, 33, 11]], dtype=int64),\n",
       " 'image_names': array(['images/00ca9e5230c749439a4b320e696e3819.jpg',\n",
       "        'images/0180803ec54c4e0ab8dc8f9f5d41cc13.jpg',\n",
       "        'images/028869b776a14002b6b63c4387f59815.jpg',\n",
       "        'images/052f17a242a04ca288501afdbd81284f.jpg',\n",
       "        'images/05681f3d14244879b2e076144440fda1.jpg',\n",
       "        'images/08afe513729b41a59731b39a8a001c57.jpg',\n",
       "        'images/0b9289f4b4c64d03a547a9ae6f5c026d.jpg',\n",
       "        'images/0e37c510bb504d21baf495365c71ee16.jpg',\n",
       "        'images/12f6787b3c24466bb149604f1ca00866.jpg',\n",
       "        'images/13e60bef87794072bb613abcd61ba94d.jpg',\n",
       "        'images/167766958abf4eb0b714dac6c16ae063.jpg',\n",
       "        'images/1bb27004724346daa4878551c82e7b23.jpg',\n",
       "        'images/20063713e2984fbab8d7efced8e40f7c.jpg',\n",
       "        'images/214649bfd7ea489b8daf588e6fed45aa.jpg',\n",
       "        'images/215931a9c4a54b04bdcdf8dfb7b9423a.jpg',\n",
       "        'images/221eeb5fd8ab45778a07399eb192f3b1.jpg',\n",
       "        'images/27666b1933974c48af19b59ffbf3ab85.jpg',\n",
       "        'images/283fb51270a3493f8c47e4ce1c67123e.jpg',\n",
       "        'images/284fad712b9b41489de12a9d1ab4dbdf.jpg',\n",
       "        'images/2938220c73d74f188a3ea85d250a5fda.jpg',\n",
       "        'images/2fcf7471d93a401d8ecdc37a3a79b8a2.jpg',\n",
       "        'images/32e2f43961774641b2b827a0f7933086.jpg',\n",
       "        'images/33c50f35ba3e418b8111ed4bf5dc3396.jpg',\n",
       "        'images/3596b8da1ff84439b478f85b5ddc3e5b.jpg',\n",
       "        'images/37373690f0234acc81c0834ab3686ab8.jpg',\n",
       "        'images/377cdab1e81a477688e16128e3705f90.jpg',\n",
       "        'images/37e2e64342da48f880741bf2f01fd8d9.jpg',\n",
       "        'images/38aab5a720aa4b8780146c541ac84bb6.jpg',\n",
       "        'images/3a0b420b53d34f9aa8a9fdf50b43f757.jpg',\n",
       "        'images/3e586e55aacc420fa39a25820c69ee1b.jpg',\n",
       "        'images/3fe2f1cdf0304a1dadfe8793bad6fcf9.jpg',\n",
       "        'images/422a80abf8b44667af1a68441bddcdfe.jpg',\n",
       "        'images/422bc70cbfbd480f81a24481047ba2d4.jpg',\n",
       "        'images/4307be60a4544f3391d3c4922ea8e04d.jpg',\n",
       "        'images/4336d94e4c244e249b9e8f292f3cc348.jpg',\n",
       "        'images/44b27ce7feeb4cb0b83f40d98adaa280.jpg',\n",
       "        'images/455156b6aaf94edfbaeb90b1b4d8dc41.jpg',\n",
       "        'images/4555f1f51a5a47a7918dc67051290665.jpg',\n",
       "        'images/4872e10ea3114ac49962d54077395a67.jpg',\n",
       "        'images/4bd31c931ffb4cfb93338c125c1ea319.jpg',\n",
       "        'images/4cb29991d0e24e20b10eb1eed3541deb.jpg',\n",
       "        'images/539ca34500924744bae0bcfbbf05c487.jpg',\n",
       "        'images/5915e2ce123941ed9ff145c6a393ff4d.jpg',\n",
       "        'images/5f7baed932bc4fd68e2a7815705739e4.jpg',\n",
       "        'images/6013a7400334423599602f61c50f5106.jpg',\n",
       "        'images/6b7b9f8560434be69227bf58a71bff46.jpg',\n",
       "        'images/6b896621045249d3a82d635d3f06e163.jpg',\n",
       "        'images/6bda47cc195845848ddc8cf659401fe8.jpg',\n",
       "        'images/6c51e12ae05e4c6da6652cc51fa258b6.jpg',\n",
       "        'images/7412271e4d14441ea3e513e771ae7cd1.jpg',\n",
       "        'images/75bd67b03e0a4bf7b3fec4681a59375b.jpg',\n",
       "        'images/7c539af1de2342179d3f830f2cfa5cee.jpg',\n",
       "        'images/7ec5b1369b20402db6aa136f198c9a3a.jpg',\n",
       "        'images/82224d23ded94893b12561814c876a17.jpg',\n",
       "        'images/854f4a3d3fc548e4b274f45b271e690a.jpg',\n",
       "        'images/871612f7c2fb439fabc43307fbb257e3.jpg',\n",
       "        'images/881563c360774decaba218f9680cbd85.jpg',\n",
       "        'images/89d550f0bd6a43638b4a0c85dcad644b.jpg',\n",
       "        'images/8bf6d99857a245b5ad7d9aea9a24a3de.jpg',\n",
       "        'images/8dcf0166aaee451096029975ea64e122.jpg',\n",
       "        'images/94b0c36393c34b5d825c8a22900b5dfc.jpg',\n",
       "        'images/9686cf9f9a6f4811a68eaa745afe845c.jpg',\n",
       "        'images/97512f6784144a8b94dbe9812c4cf7d7.jpg',\n",
       "        'images/9d7d0a0057234bebbf0184080747dca9.jpg',\n",
       "        'images/a1563170f67048348bbeca0edc56427c.jpg',\n",
       "        'images/a2cff5ff5d204c57ad93f39cd41bfa71.jpg',\n",
       "        'images/a4ed300c0a094f7b9ec42459ffbbcc81.jpg',\n",
       "        'images/a5e121d741d841d6a0f1c5a8df5b6f14.jpg',\n",
       "        'images/a96addbbdef8493faa50af0c5a9022f6.jpg',\n",
       "        'images/aa3d5b38c8814cbe9c761f0b08d38d58.jpg',\n",
       "        'images/aa72118c8506474487edb2f99378165c.jpg',\n",
       "        'images/ab57e0036d354847b9c379ce3f3b4459.jpg',\n",
       "        'images/b8afdb58120546959b531e198bab2653.jpg',\n",
       "        'images/b958b434bd144a09a9b1415dcdb49864.jpg',\n",
       "        'images/bb35c260a7ea4537a7fb2a3f2587138b.jpg',\n",
       "        'images/bf7d83e28dfc4e3a8f7beb9639387e34.jpg',\n",
       "        'images/c6aa858ae39b476696256d92fdf0555f.jpg',\n",
       "        'images/c9ce7d5626b8412e88b24ca18dccd3ef.jpg',\n",
       "        'images/ca205931926143f0b0f4151971c58223.jpg',\n",
       "        'images/cd701a901dcf4e878d2886bafb1ead85.jpg',\n",
       "        'images/d0542b40890040b498a156b0b91bac40.jpg',\n",
       "        'images/d0d0d17b7bd849d4a7aeb9fccfc2c8cc.jpg',\n",
       "        'images/d2f9533f011145fcb293262d725b8e76.jpg',\n",
       "        'images/db3e0c1c7e394786b60024a27709d72d.jpg',\n",
       "        'images/e0d83d9fe51a4e23bda6c4882c221376.jpg',\n",
       "        'images/e5a808ce175f4c8fa5c789b03e84bf55.jpg',\n",
       "        'images/e833b1a872b243df99427a8fb231a6d2.jpg',\n",
       "        'images/e88a403e934c4ac791c1fac53ff617ce.jpg',\n",
       "        'images/ea03c245a8644b79bb5b77447bddf850.jpg',\n",
       "        'images/eca12a077dfb4acfbec29642595b08f2.jpg',\n",
       "        'images/ecb1a7fb1ddf49799dce8df32dc98ee0.jpg',\n",
       "        'images/effd4fa388ae4f128692dc71641236b6.jpg',\n",
       "        'images/f1686e4e3c3a4617b92dd44bf5aab4b4.jpg',\n",
       "        'images/f5ba4142d6b64df8b0f4c97e6d7feca0.jpg',\n",
       "        'images/f851a062beb54e289e30f5c757af694a.jpg',\n",
       "        'images/f90e27cfb8bc46d59eae5e123d68a28a.jpg',\n",
       "        'images/f97716d135684ca0817af20dbba8183b.jpg',\n",
       "        'images/fa6d90c46ec84919a333fa0d4cb4ca82.jpg',\n",
       "        'images/fb27a579b1164dd8adde7e44f71a9bc1.jpg',\n",
       "        'images/ff30bec2aac74aa6a62e86e163f26110.jpg'], dtype='<U43'),\n",
       " 'DESCR': '.. _food_similarity_dataset:\\n\\nFood Similarity dataset\\n-----------------------\\n\\n`The food dataset contains triplets`_ collected from Amazon Mechanical Turk in 2014.\\n\\nThe crowd workers were presented a target and multiple other of the 100 food images.\\nThey selected a fixed number of other images, which taste more similar to the target than the remaining.\\nPer user selection, multiple triplet constraints were created.\\n\\n.. _The food dataset contains triplets: https://vision.cornell.edu/se3/projects/cost-effective-hits/\\n\\n**Data Set Characteristics:**\\n\\n    ===================   =====================\\n    Triplets                             190376\\n    Objects                                 100\\n    Dimensionality                      unknown\\n    ===================   =====================\\n\\nThis dataset can be downloaded using the :func:`cblearn.datasets.fetch_food_similarity`.\\n\\n.. License statement from the original homepage\\n\\n    This dataset contains copyrighted material under the educational fair use exemption to the U.S. copyright law.\\n\\nWhen using this data, please consider the fair use statement above and give credit to the original authors.\\n\\n.. topic:: References\\n\\n    - Wilber, M. J., Kwak, I. S., & Belongie, S. J. (2014).\\n      Cost-effective hits for relative similarity comparisons. arXiv preprint arXiv:1404.3291.'}"
      ]
     },
     "execution_count": 3,
     "metadata": {},
     "output_type": "execute_result"
    }
   ],
   "source": [
    "data"
   ]
  },
  {
   "cell_type": "code",
   "execution_count": 4,
   "id": "93044576",
   "metadata": {},
   "outputs": [],
   "source": [
    "#getting raw triplets from car data\n",
    "triplets_raw = data['data']"
   ]
  },
  {
   "cell_type": "code",
   "execution_count": 5,
   "id": "b3b0d7be",
   "metadata": {},
   "outputs": [],
   "source": [
    "n = np.amax(triplets_raw) + 1"
   ]
  },
  {
   "cell_type": "code",
   "execution_count": 6,
   "id": "87da8197",
   "metadata": {},
   "outputs": [
    {
     "data": {
      "text/plain": [
       "100"
      ]
     },
     "execution_count": 6,
     "metadata": {},
     "output_type": "execute_result"
    }
   ],
   "source": [
    "#objects in the data\n",
    "n"
   ]
  },
  {
   "cell_type": "code",
   "execution_count": 7,
   "id": "f6d680c3",
   "metadata": {},
   "outputs": [],
   "source": [
    "n_triplets_raw = triplets_raw.shape[0]"
   ]
  },
  {
   "cell_type": "code",
   "execution_count": 8,
   "id": "e577ebd1",
   "metadata": {},
   "outputs": [
    {
     "data": {
      "text/plain": [
       "190376"
      ]
     },
     "execution_count": 8,
     "metadata": {},
     "output_type": "execute_result"
    }
   ],
   "source": [
    "#raw triplets in the data(number of responses)\n",
    "n_triplets_raw"
   ]
  },
  {
   "cell_type": "code",
   "execution_count": 9,
   "id": "68039be7",
   "metadata": {},
   "outputs": [],
   "source": [
    "#getting standard triplets from raw triplets. Random triplets are of form (i,j,k) where s_ij>s_ik\n",
    "#raw triplets were already in standard form\n",
    "triplets = triplets_raw"
   ]
  },
  {
   "cell_type": "code",
   "execution_count": 10,
   "id": "2982e592",
   "metadata": {},
   "outputs": [],
   "source": [
    "n_triplets = triplets.shape[0]"
   ]
  },
  {
   "cell_type": "code",
   "execution_count": 11,
   "id": "9d689ea9",
   "metadata": {},
   "outputs": [
    {
     "data": {
      "text/plain": [
       "190376"
      ]
     },
     "execution_count": 11,
     "metadata": {},
     "output_type": "execute_result"
    }
   ],
   "source": [
    "#standard triplets obtained from the data\n",
    "n_triplets"
   ]
  },
  {
   "cell_type": "code",
   "execution_count": 12,
   "id": "a363c194",
   "metadata": {},
   "outputs": [],
   "source": [
    "Oracle = ListTriplets(triplets, n, n_triplets)"
   ]
  },
  {
   "cell_type": "code",
   "execution_count": 13,
   "id": "f2feb996",
   "metadata": {},
   "outputs": [],
   "source": [
    "adds_similarities = get_AddS_triplets(Oracle,n)"
   ]
  },
  {
   "cell_type": "code",
   "execution_count": 14,
   "id": "a7ac908a",
   "metadata": {},
   "outputs": [
    {
     "name": "stdout",
     "output_type": "stream",
     "text": [
      "ComparisonHC ran for 3.20 seconds.\n",
      "Revenue with AddS-3: 6137273.0\n"
     ]
    }
   ],
   "source": [
    "#running comparison hierarchical clustering using AddS-3 similarities\n",
    "chc = ComparisonHC(adds_similarities,n)\n",
    "chc.fit([[j] for j in range(n)])\n",
    "print(\"ComparisonHC ran for {:.2f} seconds.\".format(chc.time_elapsed))\n",
    "print(\"Revenue with AddS-3: {}\".format(-chc.cost_dasgupta(adds_similarities)))"
   ]
  },
  {
   "cell_type": "code",
   "execution_count": 15,
   "id": "b5f8bbb2",
   "metadata": {},
   "outputs": [],
   "source": [
    "mulk_similarities = get_MulK_triplets(Oracle,n)"
   ]
  },
  {
   "cell_type": "code",
   "execution_count": 16,
   "id": "640b1ab1",
   "metadata": {},
   "outputs": [
    {
     "name": "stdout",
     "output_type": "stream",
     "text": [
      "ComparisonHC ran for 9.56 seconds.\n",
      "Revenue with Mulk-3: 6096110.0\n"
     ]
    }
   ],
   "source": [
    "#running comparison hierarchical clustering using MulK-3 similarities\n",
    "chc_mulk = ComparisonHC(mulk_similarities,n)\n",
    "chc_mulk.fit([[j] for j in range(n)])\n",
    "print(\"ComparisonHC ran for {:.2f} seconds.\".format(chc_mulk.time_elapsed))\n",
    "print(\"Revenue with Mulk-3: {}\".format(-chc_mulk.cost_dasgupta(adds_similarities)))"
   ]
  },
  {
   "cell_type": "code",
   "execution_count": 17,
   "id": "c1b6ff33",
   "metadata": {},
   "outputs": [
    {
     "name": "stderr",
     "output_type": "stream",
     "text": [
      "100%|█████████████████████████████████████████████████████████████████████████████████| 10/10 [30:57<00:00, 185.73s/it]"
     ]
    },
    {
     "name": "stdout",
     "output_type": "stream",
     "text": [
      "ComparisonHC ran for 67.86 seconds.\n"
     ]
    },
    {
     "name": "stderr",
     "output_type": "stream",
     "text": [
      "\n"
     ]
    }
   ],
   "source": [
    "#running comparison hierarchical clustering using tSTE similarities\n",
    "#since it is a randomised process it is run 10 times and mean and standard deviation are obtained\n",
    "tste_cost = []\n",
    "total_time = 0.0\n",
    "for i in tqdm.tqdm(range(10)):\n",
    "    tste_similarities = get_tSTE_triplets(Oracle,n)\n",
    "    chc_tste = ComparisonHC(tste_similarities,n)\n",
    "    chc_tste.fit([[j] for j in range(n)])\n",
    "    total_time = total_time+chc_tste.time_elapsed\n",
    "    tste_cost.append(-chc_tste.cost_dasgupta(adds_similarities))\n",
    "print(\"ComparisonHC ran for {:.2f} seconds.\".format(total_time))"
   ]
  },
  {
   "cell_type": "code",
   "execution_count": 18,
   "id": "600d1a23",
   "metadata": {},
   "outputs": [],
   "source": [
    "tste_cost = np.array(tste_cost)\n",
    "mean = np.mean(tste_cost)\n",
    "std = np.std(tste_cost)"
   ]
  },
  {
   "cell_type": "code",
   "execution_count": 19,
   "id": "bf05200b",
   "metadata": {},
   "outputs": [
    {
     "name": "stdout",
     "output_type": "stream",
     "text": [
      "Mean revenue obtained with tSTE after 10 runs: 5999456.6\n"
     ]
    }
   ],
   "source": [
    "print(\"Mean revenue obtained with tSTE after 10 runs: {}\".format(mean))"
   ]
  },
  {
   "cell_type": "code",
   "execution_count": 20,
   "id": "9bb41fa4",
   "metadata": {},
   "outputs": [
    {
     "name": "stdout",
     "output_type": "stream",
     "text": [
      "Standard deviation of revenue obtained with tSTE after 10 runs: 6749.2174835309615\n"
     ]
    }
   ],
   "source": [
    "print(\"Standard deviation of revenue obtained with tSTE after 10 runs: {}\".format(std))"
   ]
  }
 ],
 "metadata": {
  "kernelspec": {
   "display_name": "Python 3 (ipykernel)",
   "language": "python",
   "name": "python3"
  },
  "language_info": {
   "codemirror_mode": {
    "name": "ipython",
    "version": 3
   },
   "file_extension": ".py",
   "mimetype": "text/x-python",
   "name": "python",
   "nbconvert_exporter": "python",
   "pygments_lexer": "ipython3",
   "version": "3.9.7"
  }
 },
 "nbformat": 4,
 "nbformat_minor": 5
}
