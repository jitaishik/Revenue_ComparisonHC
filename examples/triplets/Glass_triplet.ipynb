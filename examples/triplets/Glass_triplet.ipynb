{
 "cells": [
  {
   "cell_type": "code",
   "execution_count": 1,
   "metadata": {
    "id": "MEVLY9_qd3Rz"
   },
   "outputs": [],
   "source": [
    "import pandas as pd\n",
    "import numpy as np\n",
    "import sklearn.metrics\n",
    "from sklearn.preprocessing import MinMaxScaler\n",
    "import time\n",
    "import tqdm\n",
    "import sys\n",
    "sys.path.append('../..')\n",
    "from comparisonHC import HandlerTriplets, OracleTriplets, get_AddS_triplets, get_MulK_triplets, get_tSTE_triplets, ComparisonHC"
   ]
  },
  {
   "cell_type": "code",
   "execution_count": 2,
   "metadata": {
    "id": "2WSZmuocez-c"
   },
   "outputs": [],
   "source": [
    "#load the dataset\n",
    "df = pd.read_csv(\"../../resources/glass.csv\")"
   ]
  },
  {
   "cell_type": "code",
   "execution_count": 3,
   "metadata": {
    "colab": {
     "base_uri": "https://localhost:8080/",
     "height": 424
    },
    "id": "NbVR58iZe10x",
    "outputId": "4eaf3da9-e2c1-4b28-e94f-e9ec432c40d2"
   },
   "outputs": [
    {
     "data": {
      "text/html": [
       "<div>\n",
       "<style scoped>\n",
       "    .dataframe tbody tr th:only-of-type {\n",
       "        vertical-align: middle;\n",
       "    }\n",
       "\n",
       "    .dataframe tbody tr th {\n",
       "        vertical-align: top;\n",
       "    }\n",
       "\n",
       "    .dataframe thead th {\n",
       "        text-align: right;\n",
       "    }\n",
       "</style>\n",
       "<table border=\"1\" class=\"dataframe\">\n",
       "  <thead>\n",
       "    <tr style=\"text-align: right;\">\n",
       "      <th></th>\n",
       "      <th>RI</th>\n",
       "      <th>Na</th>\n",
       "      <th>Mg</th>\n",
       "      <th>Al</th>\n",
       "      <th>Si</th>\n",
       "      <th>K</th>\n",
       "      <th>Ca</th>\n",
       "      <th>Ba</th>\n",
       "      <th>Fe</th>\n",
       "      <th>Type</th>\n",
       "    </tr>\n",
       "  </thead>\n",
       "  <tbody>\n",
       "    <tr>\n",
       "      <th>0</th>\n",
       "      <td>1.52101</td>\n",
       "      <td>13.64</td>\n",
       "      <td>4.49</td>\n",
       "      <td>1.10</td>\n",
       "      <td>71.78</td>\n",
       "      <td>0.06</td>\n",
       "      <td>8.75</td>\n",
       "      <td>0.00</td>\n",
       "      <td>0.0</td>\n",
       "      <td>1</td>\n",
       "    </tr>\n",
       "    <tr>\n",
       "      <th>1</th>\n",
       "      <td>1.51761</td>\n",
       "      <td>13.89</td>\n",
       "      <td>3.60</td>\n",
       "      <td>1.36</td>\n",
       "      <td>72.73</td>\n",
       "      <td>0.48</td>\n",
       "      <td>7.83</td>\n",
       "      <td>0.00</td>\n",
       "      <td>0.0</td>\n",
       "      <td>1</td>\n",
       "    </tr>\n",
       "    <tr>\n",
       "      <th>2</th>\n",
       "      <td>1.51618</td>\n",
       "      <td>13.53</td>\n",
       "      <td>3.55</td>\n",
       "      <td>1.54</td>\n",
       "      <td>72.99</td>\n",
       "      <td>0.39</td>\n",
       "      <td>7.78</td>\n",
       "      <td>0.00</td>\n",
       "      <td>0.0</td>\n",
       "      <td>1</td>\n",
       "    </tr>\n",
       "    <tr>\n",
       "      <th>3</th>\n",
       "      <td>1.51766</td>\n",
       "      <td>13.21</td>\n",
       "      <td>3.69</td>\n",
       "      <td>1.29</td>\n",
       "      <td>72.61</td>\n",
       "      <td>0.57</td>\n",
       "      <td>8.22</td>\n",
       "      <td>0.00</td>\n",
       "      <td>0.0</td>\n",
       "      <td>1</td>\n",
       "    </tr>\n",
       "    <tr>\n",
       "      <th>4</th>\n",
       "      <td>1.51742</td>\n",
       "      <td>13.27</td>\n",
       "      <td>3.62</td>\n",
       "      <td>1.24</td>\n",
       "      <td>73.08</td>\n",
       "      <td>0.55</td>\n",
       "      <td>8.07</td>\n",
       "      <td>0.00</td>\n",
       "      <td>0.0</td>\n",
       "      <td>1</td>\n",
       "    </tr>\n",
       "    <tr>\n",
       "      <th>...</th>\n",
       "      <td>...</td>\n",
       "      <td>...</td>\n",
       "      <td>...</td>\n",
       "      <td>...</td>\n",
       "      <td>...</td>\n",
       "      <td>...</td>\n",
       "      <td>...</td>\n",
       "      <td>...</td>\n",
       "      <td>...</td>\n",
       "      <td>...</td>\n",
       "    </tr>\n",
       "    <tr>\n",
       "      <th>209</th>\n",
       "      <td>1.51623</td>\n",
       "      <td>14.14</td>\n",
       "      <td>0.00</td>\n",
       "      <td>2.88</td>\n",
       "      <td>72.61</td>\n",
       "      <td>0.08</td>\n",
       "      <td>9.18</td>\n",
       "      <td>1.06</td>\n",
       "      <td>0.0</td>\n",
       "      <td>7</td>\n",
       "    </tr>\n",
       "    <tr>\n",
       "      <th>210</th>\n",
       "      <td>1.51685</td>\n",
       "      <td>14.92</td>\n",
       "      <td>0.00</td>\n",
       "      <td>1.99</td>\n",
       "      <td>73.06</td>\n",
       "      <td>0.00</td>\n",
       "      <td>8.40</td>\n",
       "      <td>1.59</td>\n",
       "      <td>0.0</td>\n",
       "      <td>7</td>\n",
       "    </tr>\n",
       "    <tr>\n",
       "      <th>211</th>\n",
       "      <td>1.52065</td>\n",
       "      <td>14.36</td>\n",
       "      <td>0.00</td>\n",
       "      <td>2.02</td>\n",
       "      <td>73.42</td>\n",
       "      <td>0.00</td>\n",
       "      <td>8.44</td>\n",
       "      <td>1.64</td>\n",
       "      <td>0.0</td>\n",
       "      <td>7</td>\n",
       "    </tr>\n",
       "    <tr>\n",
       "      <th>212</th>\n",
       "      <td>1.51651</td>\n",
       "      <td>14.38</td>\n",
       "      <td>0.00</td>\n",
       "      <td>1.94</td>\n",
       "      <td>73.61</td>\n",
       "      <td>0.00</td>\n",
       "      <td>8.48</td>\n",
       "      <td>1.57</td>\n",
       "      <td>0.0</td>\n",
       "      <td>7</td>\n",
       "    </tr>\n",
       "    <tr>\n",
       "      <th>213</th>\n",
       "      <td>1.51711</td>\n",
       "      <td>14.23</td>\n",
       "      <td>0.00</td>\n",
       "      <td>2.08</td>\n",
       "      <td>73.36</td>\n",
       "      <td>0.00</td>\n",
       "      <td>8.62</td>\n",
       "      <td>1.67</td>\n",
       "      <td>0.0</td>\n",
       "      <td>7</td>\n",
       "    </tr>\n",
       "  </tbody>\n",
       "</table>\n",
       "<p>214 rows × 10 columns</p>\n",
       "</div>"
      ],
      "text/plain": [
       "          RI     Na    Mg    Al     Si     K    Ca    Ba   Fe  Type\n",
       "0    1.52101  13.64  4.49  1.10  71.78  0.06  8.75  0.00  0.0     1\n",
       "1    1.51761  13.89  3.60  1.36  72.73  0.48  7.83  0.00  0.0     1\n",
       "2    1.51618  13.53  3.55  1.54  72.99  0.39  7.78  0.00  0.0     1\n",
       "3    1.51766  13.21  3.69  1.29  72.61  0.57  8.22  0.00  0.0     1\n",
       "4    1.51742  13.27  3.62  1.24  73.08  0.55  8.07  0.00  0.0     1\n",
       "..       ...    ...   ...   ...    ...   ...   ...   ...  ...   ...\n",
       "209  1.51623  14.14  0.00  2.88  72.61  0.08  9.18  1.06  0.0     7\n",
       "210  1.51685  14.92  0.00  1.99  73.06  0.00  8.40  1.59  0.0     7\n",
       "211  1.52065  14.36  0.00  2.02  73.42  0.00  8.44  1.64  0.0     7\n",
       "212  1.51651  14.38  0.00  1.94  73.61  0.00  8.48  1.57  0.0     7\n",
       "213  1.51711  14.23  0.00  2.08  73.36  0.00  8.62  1.67  0.0     7\n",
       "\n",
       "[214 rows x 10 columns]"
      ]
     },
     "execution_count": 3,
     "metadata": {},
     "output_type": "execute_result"
    }
   ],
   "source": [
    "df"
   ]
  },
  {
   "cell_type": "code",
   "execution_count": 5,
   "metadata": {
    "id": "5FakloWFfdwu"
   },
   "outputs": [],
   "source": [
    "df = df.drop(\"Type\",axis=1)"
   ]
  },
  {
   "cell_type": "code",
   "execution_count": 6,
   "metadata": {
    "id": "mYlzOEzsfsxk"
   },
   "outputs": [],
   "source": [
    "#normalise the features\n",
    "scaler = MinMaxScaler(feature_range=(-1,1))\n",
    "scaler.fit(df)\n",
    "df = scaler.transform(df)"
   ]
  },
  {
   "cell_type": "code",
   "execution_count": 7,
   "metadata": {
    "id": "5tULGCaVfD-0"
   },
   "outputs": [],
   "source": [
    "#get the similarity matrix\n",
    "Cos_sim = sklearn.metrics.pairwise.cosine_similarity(df, dense_output=True)"
   ]
  },
  {
   "cell_type": "code",
   "execution_count": 8,
   "metadata": {
    "id": "_GnjNPNRhlkS"
   },
   "outputs": [
    {
     "name": "stdout",
     "output_type": "stream",
     "text": [
      "214\n"
     ]
    }
   ],
   "source": [
    "#objects in the data\n",
    "n = Cos_sim.shape[0]\n",
    "print(n)"
   ]
  },
  {
   "cell_type": "code",
   "execution_count": 9,
   "metadata": {
    "colab": {
     "base_uri": "https://localhost:8080/"
    },
    "id": "fzSXh6LN3Vk5",
    "outputId": "a09007af-c3e9-4669-d120-5c00f9231b1f"
   },
   "outputs": [
    {
     "name": "stderr",
     "output_type": "stream",
     "text": [
      "100%|█████████████████████████████████████████████████████████████████████████████████| 10/10 [20:58<00:00, 125.88s/it]\n"
     ]
    }
   ],
   "source": [
    "adds3_rev = []\n",
    "tste_rev = []\n",
    "mulk_rev = []\n",
    "standard_rev = []\n",
    "\n",
    "for i in tqdm.tqdm(range(10)):\n",
    "    Oracle = OracleTriplets(Cos_sim,n,n_triplets=int(n*n),proportion_noise=0.05)\n",
    "    adds_similarities = get_AddS_triplets(Oracle,n)\n",
    "    \n",
    "    chc = ComparisonHC(adds_similarities,n)\n",
    "    chc.fit([[j] for j in range(n)])\n",
    "    adds3_rev.append(-chc.cost_dasgupta(adds_similarities))\n",
    "    \n",
    "    tste_similarities = get_tSTE_triplets(Oracle,n)\n",
    "    chc_tste = ComparisonHC(tste_similarities,n)\n",
    "    chc_tste.fit([[j] for j in range(n)])\n",
    "    tste_rev.append(-chc_tste.cost_dasgupta(adds_similarities))\n",
    "    \n",
    "    mulk_similarities = get_MulK_triplets(Oracle,n)\n",
    "    chc_mulk = ComparisonHC(mulk_similarities,n)\n",
    "    chc_mulk.fit([[j] for j in range(n)])\n",
    "    mulk_rev.append(-chc_mulk.cost_dasgupta(adds_similarities))\n",
    "    \n",
    "    chc_standard = ComparisonHC(Cos_sim,n)\n",
    "    chc_standard.fit([[j] for j in range(n)])\n",
    "    standard_rev.append(-chc_standard.cost_dasgupta(adds_similarities))"
   ]
  },
  {
   "cell_type": "code",
   "execution_count": 10,
   "metadata": {
    "id": "Am_qJVWP5ptJ"
   },
   "outputs": [],
   "source": [
    "adds3_rev = np.array(adds3_rev)\n",
    "tste_rev = np.array(tste_rev)\n",
    "mulk_rev = np.array(mulk_rev)\n",
    "standard_rev = np.array(standard_rev)"
   ]
  },
  {
   "cell_type": "code",
   "execution_count": 11,
   "metadata": {
    "colab": {
     "base_uri": "https://localhost:8080/"
    },
    "id": "lePsH5Fm55LL",
    "outputId": "9d233a4b-bcf9-4e0e-ccb1-859e7cf90282"
   },
   "outputs": [],
   "source": [
    "#getting mean and standard deviation of the revenue over 10 runs\n",
    "adds3_mean_rev = np.mean(adds3_rev)\n",
    "adds3_std_rev = np.std(adds3_rev)\n",
    "tste_mean_rev = np.mean(tste_rev)\n",
    "tste_std_rev = np.std(tste_rev)\n",
    "mulk_mean_rev = np.mean(mulk_rev)\n",
    "mulk_std_rev = np.std(mulk_rev)\n",
    "cosine_mean_rev = np.mean(standard_rev)\n",
    "cosine_std_rev = np.std(standard_rev)"
   ]
  },
  {
   "cell_type": "code",
   "execution_count": 12,
   "metadata": {
    "colab": {
     "base_uri": "https://localhost:8080/"
    },
    "id": "C5OVb69o58G8",
    "outputId": "ea34b9b6-3810-48cf-8eea-8e029a7d937d"
   },
   "outputs": [
    {
     "name": "stdout",
     "output_type": "stream",
     "text": [
      "The results are:\n",
      "\t Mean of Revenue using AddS-3:  2167118.6\n",
      "\t Standard Deviation of Revenue using AddS-3:  49770.79926663827\n",
      "\t Mean of Revenue using t-STE:  1975430.6\n",
      "\t Standard Deviation of Revenue using t-STE:  28712.87345843324\n",
      "\t Mean of Revenue using MulK-3:  1463307.7\n",
      "\t Standard Deviation of Revenue using MulK-3:  62852.63813882437\n",
      "\t Mean of Revenue using Cosine Similarity:  2111004.2\n",
      "\t Standard Deviation of Revenue using Cosine Similarity:  13610.965879025633\n"
     ]
    }
   ],
   "source": [
    "print(\"The results are:\")\n",
    "print(\"\\t Mean of Revenue using AddS-3: \",adds3_mean_rev)\n",
    "print(\"\\t Standard Deviation of Revenue using AddS-3: \",adds3_std_rev)\n",
    "print(\"\\t Mean of Revenue using t-STE: \",tste_mean_rev)\n",
    "print(\"\\t Standard Deviation of Revenue using t-STE: \",tste_std_rev)\n",
    "print(\"\\t Mean of Revenue using MulK-3: \",mulk_mean_rev)\n",
    "print(\"\\t Standard Deviation of Revenue using MulK-3: \",mulk_std_rev)\n",
    "print(\"\\t Mean of Revenue using Cosine Similarity: \",cosine_mean_rev)\n",
    "print(\"\\t Standard Deviation of Revenue using Cosine Similarity: \",cosine_std_rev)"
   ]
  }
 ],
 "metadata": {
  "colab": {
   "collapsed_sections": [],
   "name": "Glass_Triplet.ipynb",
   "provenance": []
  },
  "kernelspec": {
   "display_name": "Python 3 (ipykernel)",
   "language": "python",
   "name": "python3"
  },
  "language_info": {
   "codemirror_mode": {
    "name": "ipython",
    "version": 3
   },
   "file_extension": ".py",
   "mimetype": "text/x-python",
   "name": "python",
   "nbconvert_exporter": "python",
   "pygments_lexer": "ipython3",
   "version": "3.9.7"
  }
 },
 "nbformat": 4,
 "nbformat_minor": 1
}
