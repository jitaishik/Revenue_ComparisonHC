{
 "cells": [
  {
   "cell_type": "code",
   "execution_count": 1,
   "id": "7020bb4d",
   "metadata": {},
   "outputs": [],
   "source": [
    "import pandas as pd\n",
    "import numpy as np\n",
    "import sklearn.metrics\n",
    "from sklearn.preprocessing import MinMaxScaler\n",
    "import time\n",
    "import tqdm\n",
    "import sys\n",
    "sys.path.append('../..')\n",
    "from comparisonHC import HandlerTriplets, OracleTriplets, get_AddS_triplets, get_MulK_triplets, get_tSTE_triplets, ComparisonHC"
   ]
  },
  {
   "cell_type": "code",
   "execution_count": 2,
   "id": "cf6ebc4d",
   "metadata": {},
   "outputs": [],
   "source": [
    "#load the datapoints\n",
    "df_points = pd.read_csv(\"../../resources/reduced_test_X.csv\",names=['X', 'Y'])"
   ]
  },
  {
   "cell_type": "code",
   "execution_count": 3,
   "id": "1022145f",
   "metadata": {},
   "outputs": [],
   "source": [
    "#load the datapoints\n",
    "df_label = pd.read_csv(\"../../resources/test_labels.csv\",names=['Label'])"
   ]
  },
  {
   "cell_type": "code",
   "execution_count": 4,
   "id": "e6621398",
   "metadata": {},
   "outputs": [],
   "source": [
    "#setting seed 0\n",
    "np.random.seed(0) "
   ]
  },
  {
   "cell_type": "code",
   "execution_count": 5,
   "id": "bf6ab360",
   "metadata": {},
   "outputs": [],
   "source": [
    "#create Dataset\n",
    "df = pd.concat([df_points,df_label],axis=1)"
   ]
  },
  {
   "cell_type": "code",
   "execution_count": 6,
   "id": "56667aa6",
   "metadata": {},
   "outputs": [],
   "source": [
    "#creating a reduced dataset with 200 randomly sampled points from each class\n",
    "df_reduced = df[df['Label']==0]\n",
    "df_reduced = df_reduced.sample(n=200, random_state=0)\n",
    "df_reduced.reset_index(inplace=True,drop=True)\n",
    "for i in range(1,10):\n",
    "    df_dummy = df[df['Label']==i]\n",
    "    df_dummy = df_dummy.sample(n=200, random_state=0)\n",
    "    df_dummy.reset_index(inplace=True,drop=True)\n",
    "    df_reduced = pd.concat([df_reduced,df_dummy],axis=0)\n",
    "    df_reduced.reset_index(inplace=True,drop=True)"
   ]
  },
  {
   "cell_type": "code",
   "execution_count": 7,
   "id": "405fa71f",
   "metadata": {},
   "outputs": [],
   "source": [
    "df_label = df_reduced['Label']\n",
    "df_reduced = df_reduced.drop('Label',axis=1)"
   ]
  },
  {
   "cell_type": "code",
   "execution_count": 8,
   "id": "68aa6a2f",
   "metadata": {},
   "outputs": [],
   "source": [
    "#normalise the features\n",
    "scaler = MinMaxScaler(feature_range=(-1,1))\n",
    "scaler.fit(df_reduced)\n",
    "df_reduced = scaler.transform(df_reduced)"
   ]
  },
  {
   "cell_type": "code",
   "execution_count": 9,
   "id": "6cbba0a9",
   "metadata": {},
   "outputs": [],
   "source": [
    "#get the similarity matrix\n",
    "Cos_sim = sklearn.metrics.pairwise.cosine_similarity(df_reduced, dense_output=True)"
   ]
  },
  {
   "cell_type": "code",
   "execution_count": 10,
   "id": "b05b9680",
   "metadata": {},
   "outputs": [
    {
     "name": "stdout",
     "output_type": "stream",
     "text": [
      "2000\n"
     ]
    }
   ],
   "source": [
    "#objects in the data\n",
    "n = Cos_sim.shape[0]\n",
    "print(n)"
   ]
  },
  {
   "cell_type": "code",
   "execution_count": null,
   "id": "25f5d725",
   "metadata": {},
   "outputs": [],
   "source": [
    "Oracle = OracleTriplets(Cos_sim,n,n_triplets=int(n*n),proportion_noise=0.05,seed=0)\n",
    "adds_similarities = get_AddS_triplets(Oracle,n)\n",
    "\n",
    "chc = ComparisonHC(adds_similarities,n)\n",
    "chc.fit([[j] for j in range(n)])\n",
    "adds3_rev = -chc.cost_dasgupta(adds_similarities)\n",
    "\n",
    "tste_similarities = get_tSTE_triplets(Oracle,n)\n",
    "chc_tste = ComparisonHC(tste_similarities,n)\n",
    "chc_tste.fit([[j] for j in range(n)])\n",
    "tste_rev = -chc_tste.cost_dasgupta(adds_similarities)\n",
    "\n",
    "mulk_similarities = get_MulK_triplets(Oracle,n)\n",
    "chc_mulk = ComparisonHC(mulk_similarities,n)\n",
    "chc_mulk.fit([[j] for j in range(n)])\n",
    "mulk_rev = -chc_mulk.cost_dasgupta(adds_similarities)\n",
    "\n",
    "chc_standard = ComparisonHC(Cos_sim,n)\n",
    "chc_standard.fit([[j] for j in range(n)])\n",
    "standard_rev = -chc_standard.cost_dasgupta(adds_similarities)"
   ]
  },
  {
   "cell_type": "code",
   "execution_count": null,
   "id": "fd9b3a50",
   "metadata": {},
   "outputs": [],
   "source": [
    "print(\"The results are:\")\n",
    "print(\"\\t The Revenue using AddS-3: \",\"{:.3e}\".format(adds3_rev))\n",
    "print(\"\\t The Revenue using t-STE: \",\"{:.3e}\".format(tste_rev))\n",
    "print(\"\\t The Revenue using MulK-3: \",\"{:.3e}\".format(mulk_rev))\n",
    "print(\"\\t The Revenue using Cosine Similarity: \",\"{:.3e}\".format(cosine_rev))"
   ]
  }
 ],
 "metadata": {
  "kernelspec": {
   "display_name": "Python 3 (ipykernel)",
   "language": "python",
   "name": "python3"
  },
  "language_info": {
   "codemirror_mode": {
    "name": "ipython",
    "version": 3
   },
   "file_extension": ".py",
   "mimetype": "text/x-python",
   "name": "python",
   "nbconvert_exporter": "python",
   "pygments_lexer": "ipython3",
   "version": "3.9.7"
  }
 },
 "nbformat": 4,
 "nbformat_minor": 5
}
