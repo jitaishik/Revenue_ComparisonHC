{
 "cells": [
  {
   "cell_type": "code",
   "execution_count": null,
   "metadata": {
    "id": "0O9RYPLfvKpT"
   },
   "outputs": [],
   "source": [
    "import pandas as pd\n",
    "import numpy as np\n",
    "import sklearn.metrics\n",
    "from sklearn.preprocessing import MinMaxScaler\n",
    "import time\n",
    "import tqdm\n",
    "import sys\n",
    "sys.path.append('../..')\n",
    "from comparisonHC import HandlerTriplets, OracleTriplets, get_AddS_triplets, get_MulK_triplets, get_tSTE_triplets, ComparisonHC"
   ]
  },
  {
   "cell_type": "code",
   "execution_count": null,
   "metadata": {
    "id": "YCweFTeslQiA"
   },
   "outputs": [],
   "source": [
    "#load the datapoints\n",
    "df = pd.read_csv(\"../../resources/reduced_test_X.csv\",names=['X', 'Y'])"
   ]
  },
  {
   "cell_type": "code",
   "execution_count": null,
   "metadata": {
    "id": "POI7IBTJlWoG"
   },
   "outputs": [],
   "source": [
    "#load the labels\n",
    "df_label = pd.read_csv(\"../../resources/test_labels.csv\",names=['Label'])"
   ]
  },
  {
   "cell_type": "code",
   "execution_count": null,
   "metadata": {
    "id": "vNtxjzxNlk9F"
   },
   "outputs": [],
   "source": [
    "df = pd.concat([df,df_label],axis=1)"
   ]
  },
  {
   "cell_type": "code",
   "execution_count": null,
   "metadata": {
    "id": "D2fQsPr_nbmB"
   },
   "outputs": [],
   "source": [
    "#creating a dataset with 200 datapoints from each class\n",
    "df_reduced = df[df['Label']==0]"
   ]
  },
  {
   "cell_type": "code",
   "execution_count": null,
   "metadata": {
    "id": "zLNev0rRoOkW"
   },
   "outputs": [],
   "source": [
    "df_reduced = df_reduced.sample(n=200)"
   ]
  },
  {
   "cell_type": "code",
   "execution_count": null,
   "metadata": {
    "id": "K9WBblC2ovsB"
   },
   "outputs": [],
   "source": [
    "df_reduced.reset_index(inplace=True,drop=True)"
   ]
  },
  {
   "cell_type": "code",
   "execution_count": null,
   "metadata": {
    "id": "jHJCxIs5rXUs"
   },
   "outputs": [],
   "source": [
    "for i in range(1,10):\n",
    "    df_dummy = df[df['Label']==i]\n",
    "    df_dummy = df_dummy.sample(n=200)\n",
    "    df_dummy.reset_index(inplace=True,drop=True)\n",
    "    df_reduced = pd.concat([df_reduced,df_dummy],axis=0)\n",
    "    df_reduced.reset_index(inplace=True,drop=True)"
   ]
  },
  {
   "cell_type": "code",
   "execution_count": null,
   "metadata": {
    "id": "WrCzwEwIs1Z-"
   },
   "outputs": [],
   "source": [
    "df_label = df_reduced['Label']"
   ]
  },
  {
   "cell_type": "code",
   "execution_count": null,
   "metadata": {
    "id": "irFpd74xtELX"
   },
   "outputs": [],
   "source": [
    "df_reduced = df_reduced.drop('Label',axis=1)"
   ]
  },
  {
   "cell_type": "code",
   "execution_count": null,
   "metadata": {
    "id": "c7WE4EKJtTMW"
   },
   "outputs": [],
   "source": [
    "#normalise the features\n",
    "scaler = MinMaxScaler(feature_range=(-1,1))\n",
    "scaler.fit(df_reduced)\n",
    "df_reduced = scaler.transform(df_reduced)"
   ]
  },
  {
   "cell_type": "code",
   "execution_count": null,
   "metadata": {
    "id": "avx5dUk2ujp2"
   },
   "outputs": [],
   "source": [
    "#get the similarity matrix\n",
    "Cos_sim = sklearn.metrics.pairwise.cosine_similarity(df_reduced, dense_output=True)"
   ]
  },
  {
   "cell_type": "code",
   "execution_count": null,
   "metadata": {
    "id": "PnXUcAGRu_q_"
   },
   "outputs": [],
   "source": [
    "#objects in the data\n",
    "n = Cos_sim.shape[0]\n",
    "print(n)"
   ]
  },
  {
   "cell_type": "code",
   "execution_count": null,
   "metadata": {
    "id": "iVOT7CauvCpY"
   },
   "outputs": [],
   "source": [
    "Oracle = OracleTriplets(Cos_sim,n,n_triplets=int(n*n),proportion_noise=0.05)"
   ]
  },
  {
   "cell_type": "code",
   "execution_count": null,
   "metadata": {
    "id": "yD9YoFtYw2eS"
   },
   "outputs": [],
   "source": [
    "adds_similarities = get_AddS_triplets(Oracle,n)"
   ]
  },
  {
   "cell_type": "code",
   "execution_count": null,
   "metadata": {
    "id": "Y3iYhOvzBtlz"
   },
   "outputs": [],
   "source": [
    "mulk_similarities = get_MulK_triplets(Oracle,n)"
   ]
  },
  {
   "cell_type": "code",
   "execution_count": null,
   "metadata": {
    "id": "CayF-Bt-Ri-j"
   },
   "outputs": [],
   "source": [
    "tste_similarities = get_tSTE_triplets(Oracle,n)"
   ]
  },
  {
   "cell_type": "code",
   "execution_count": null,
   "metadata": {
    "id": "2H1Hlno8qMGl"
   },
   "outputs": [],
   "source": [
    "chc = ComparisonHC(adds_similarities,n)\n",
    "chc.fit([[j] for j in range(n)])\n",
    "print(\"ComparisonHC ran for {:.2f} seconds.\".format(chc.time_elapsed))\n",
    "print(\"Revenue with AddS-3: {}\".format(chc.cost_dasgupta(adds_similarities)))"
   ]
  },
  {
   "cell_type": "code",
   "execution_count": null,
   "metadata": {
    "id": "Hw3HJa9oRuiy"
   },
   "outputs": [],
   "source": [
    "chc_tste = ComparisonHC(tste_similarities,n)\n",
    "chc_tste.fit([[j] for j in range(n)])\n",
    "print(\"ComparisonHC ran for {:.2f} seconds.\".format(chc_tste.time_elapsed))\n",
    "print(\"Revenue with t-STE: {}\".format(chc_tste.cost_dasgupta(adds_similarities)))"
   ]
  },
  {
   "cell_type": "code",
   "execution_count": null,
   "metadata": {
    "id": "fq8BjmXEw6AL"
   },
   "outputs": [],
   "source": [
    "chc_mulk = ComparisonHC(mulk_similarities,n)\n",
    "chc_mulk.fit([[j] for j in range(n)])\n",
    "print(\"ComparisonHC ran for {:.2f} seconds.\".format(chc_mulk.time_elapsed))\n",
    "print(\"Revenue with MulK-3: {}\".format(chc_mulk.cost_dasgupta(adds_similarities)))"
   ]
  },
  {
   "cell_type": "code",
   "execution_count": null,
   "metadata": {},
   "outputs": [],
   "source": [
    "chc_cos = ComparisonHC(Cos_sim,n)\n",
    "chc_cos.fit([[j] for j in range(n)])\n",
    "print(\"ComparisonHC ran for {:.2f} seconds.\".format(chc_cos.time_elapsed))\n",
    "print(\"Revenue with Cosine Similarity: {}\".format(-chc_cos.cost_dasgupta(adds_similarities)))"
   ]
  }
 ],
 "metadata": {
  "colab": {
   "collapsed_sections": [],
   "name": "MNIST_Triplet_Final.ipynb",
   "provenance": []
  },
  "kernelspec": {
   "display_name": "Python 3 (ipykernel)",
   "language": "python",
   "name": "python3"
  },
  "language_info": {
   "codemirror_mode": {
    "name": "ipython",
    "version": 3
   },
   "file_extension": ".py",
   "mimetype": "text/x-python",
   "name": "python",
   "nbconvert_exporter": "python",
   "pygments_lexer": "ipython3",
   "version": "3.9.7"
  }
 },
 "nbformat": 4,
 "nbformat_minor": 1
}
