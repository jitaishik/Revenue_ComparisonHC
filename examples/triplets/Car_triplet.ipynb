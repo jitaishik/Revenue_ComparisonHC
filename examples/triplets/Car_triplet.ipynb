{
 "cells": [
  {
   "cell_type": "code",
   "execution_count": 1,
   "id": "922650e1",
   "metadata": {},
   "outputs": [],
   "source": [
    "from cblearn import datasets\n",
    "import numpy as np\n",
    "import cblearn\n",
    "import tqdm\n",
    "import time\n",
    "import sys\n",
    "sys.path.append('../..')\n",
    "from comparisonHC import HandlerTriplets, ListTriplets, get_AddS_triplets, get_MulK_triplets, get_tSTE_triplets, ComparisonHC"
   ]
  },
  {
   "cell_type": "code",
   "execution_count": 2,
   "id": "028e890a",
   "metadata": {},
   "outputs": [],
   "source": [
    "#fetching car dataset\n",
    "data = datasets.fetch_car_similarity()"
   ]
  },
  {
   "cell_type": "code",
   "execution_count": 3,
   "id": "029f3a49",
   "metadata": {},
   "outputs": [],
   "source": [
    "#setting seed 0\n",
    "np.random.seed(0) "
   ]
  },
  {
   "cell_type": "code",
   "execution_count": 4,
   "id": "d99e9ca8",
   "metadata": {
    "scrolled": true
   },
   "outputs": [
    {
     "data": {
      "text/plain": [
       "{'triplet': array([[11, 50, 44],\n",
       "        [ 1, 55, 27],\n",
       "        [ 4, 16, 15],\n",
       "        ...,\n",
       "        [16, 11, 26],\n",
       "        [ 2,  0, 37],\n",
       "        [19, 17, 13]]),\n",
       " 'response': array([0, 2, 0, ..., 0, 1, 2], dtype=int64),\n",
       " 'rt_ms': array([[9.063],\n",
       "        [2.974],\n",
       "        [5.26 ],\n",
       "        ...,\n",
       "        [9.772],\n",
       "        [3.495],\n",
       "        [6.978]]),\n",
       " 'class_id': array([0, 1, 0, 0, 0, 1, 1, 1, 1, 1, 1, 1, 0, 0, 3, 1, 1, 0, 3, 3, 2, 0,\n",
       "        2, 0, 1, 0, 0, 3, 0, 2, 0, 1, 0, 0, 1, 1, 1, 1, 1, 3, 1, 3, 0, 1,\n",
       "        1, 1, 3, 3, 3, 3, 3, 3, 2, 3, 1, 3, 0, 1, 3, 1]),\n",
       " 'class_name': array(['OFF-ROAD / SPORT UTILITY VEHICLES', 'ORDINARY CARS', 'OUTLIERS',\n",
       "        'SPORTS CARS'], dtype='<U33'),\n",
       " 'DESCR': '.. _central_car_dataset:\\n\\nCar Similarity dataset\\n-----------------------\\n\\n`This dataset contains triplets`_ of 60 car images, responsed in an online survey.\\nThe people chose one car of three, such that the following statement is true:\\n\"Object A is the most central object within the triple of objects (A,B,C)\".\\n\\nAll images were found on Wikimedia Commons and are assigned to one of four classes:\\nORDINARY CARS, SPORTS CARS, OFF-ROAD/SPORT UTILITY VEHICLES, and OUTLIERS.\\n\\nThe corresponding car images are available with the _`full dataset`.\\n.. _full dataset: http://www.tml.cs.uni-tuebingen.de/team/luxburg/code_and_data/index.php\\n\\n**Data Set Characteristics:**\\n\\n    ===================   =====================\\n    Triplets                               7097\\n    Objects (Cars)                           60\\n    Query                  3 cars, most-central\\n    ===================   =====================\\n\\nThis dataset can be downloaded using the :func:`cblearn.datasets.fetch_car_similarity`.\\nTo use the most-central triplets with e.g. ordinal embedding algorithms, you should convert them to standard triplets\\n(:func:`cblearn.dataset.triplets_from_mostcentral`).\\n\\nPlease cite the following paper if you use this dataset in publications.\\n\\n.. topic:: References\\n\\n    - M. Kleindessner and U. von Luxburg. Lens depth function and k-relative neighborhood graph:\\n      Versatile tools for ordinal data analysis. JMLR, 18(58):1â€“52, 2017.\\n'}"
      ]
     },
     "execution_count": 4,
     "metadata": {},
     "output_type": "execute_result"
    }
   ],
   "source": [
    "data"
   ]
  },
  {
   "cell_type": "code",
   "execution_count": 5,
   "id": "d1974773",
   "metadata": {},
   "outputs": [],
   "source": [
    "#getting raw triplets from car data\n",
    "triplets_raw = data['triplet']"
   ]
  },
  {
   "cell_type": "code",
   "execution_count": 6,
   "id": "b3b0d7be",
   "metadata": {},
   "outputs": [],
   "source": [
    "n = np.amax(triplets_raw) + 1"
   ]
  },
  {
   "cell_type": "code",
   "execution_count": 7,
   "id": "87da8197",
   "metadata": {},
   "outputs": [
    {
     "data": {
      "text/plain": [
       "60"
      ]
     },
     "execution_count": 7,
     "metadata": {},
     "output_type": "execute_result"
    }
   ],
   "source": [
    "#objects in the data\n",
    "n"
   ]
  },
  {
   "cell_type": "code",
   "execution_count": 8,
   "id": "ee7ee0f9",
   "metadata": {},
   "outputs": [],
   "source": [
    "n_triplets_raw = triplets_raw.shape[0]"
   ]
  },
  {
   "cell_type": "code",
   "execution_count": 9,
   "id": "7ea54f15",
   "metadata": {},
   "outputs": [
    {
     "data": {
      "text/plain": [
       "7097"
      ]
     },
     "execution_count": 9,
     "metadata": {},
     "output_type": "execute_result"
    }
   ],
   "source": [
    "#raw triplets in the data(number of responses)\n",
    "n_triplets_raw"
   ]
  },
  {
   "cell_type": "code",
   "execution_count": 10,
   "id": "62d7e7b4",
   "metadata": {},
   "outputs": [],
   "source": [
    "#getting standard triplets from raw triplets. Random triplets are of form (i,j,k) where s_ij>s_ik\n",
    "triplets = cblearn.preprocessing.triplets_from_mostcentral(data['triplet'],data['response'])"
   ]
  },
  {
   "cell_type": "code",
   "execution_count": 11,
   "id": "1272a9e1",
   "metadata": {},
   "outputs": [],
   "source": [
    "n_triplets = triplets.shape[0]"
   ]
  },
  {
   "cell_type": "code",
   "execution_count": 12,
   "id": "f36c7b75",
   "metadata": {},
   "outputs": [
    {
     "data": {
      "text/plain": [
       "14194"
      ]
     },
     "execution_count": 12,
     "metadata": {},
     "output_type": "execute_result"
    }
   ],
   "source": [
    "#standard triplets obtained from the data\n",
    "n_triplets"
   ]
  },
  {
   "cell_type": "code",
   "execution_count": 13,
   "id": "65dae3df",
   "metadata": {},
   "outputs": [],
   "source": [
    "Oracle = ListTriplets(triplets, n, n_triplets)"
   ]
  },
  {
   "cell_type": "code",
   "execution_count": 14,
   "id": "908814cf",
   "metadata": {},
   "outputs": [],
   "source": [
    "adds_similarities = get_AddS_triplets(Oracle,n)"
   ]
  },
  {
   "cell_type": "code",
   "execution_count": 15,
   "id": "bbc08401",
   "metadata": {},
   "outputs": [
    {
     "name": "stdout",
     "output_type": "stream",
     "text": [
      "ComparisonHC ran for 0.62 seconds.\n",
      "Revenue with AddS-3: 1.521e+05\n"
     ]
    }
   ],
   "source": [
    "#running comparison hierarchical clustering using AddS-3 similarities\n",
    "chc = ComparisonHC(adds_similarities,n)\n",
    "chc.fit([[j] for j in range(n)])\n",
    "print(\"ComparisonHC ran for {:.2f} seconds.\".format(chc.time_elapsed))\n",
    "print(\"Revenue with AddS-3: {:.3e}\".format(-chc.cost_dasgupta(adds_similarities)))"
   ]
  },
  {
   "cell_type": "code",
   "execution_count": 16,
   "id": "59645bcb",
   "metadata": {},
   "outputs": [],
   "source": [
    "mulk_similarities = get_MulK_triplets(Oracle,n)"
   ]
  },
  {
   "cell_type": "code",
   "execution_count": 17,
   "id": "c1a92535",
   "metadata": {},
   "outputs": [
    {
     "name": "stdout",
     "output_type": "stream",
     "text": [
      "ComparisonHC ran for 0.61 seconds.\n",
      "Revenue with Mulk-3: 1.264e+05\n"
     ]
    }
   ],
   "source": [
    "#running comparison hierarchical clustering using MulK-3 similarities\n",
    "chc_mulk = ComparisonHC(mulk_similarities,n)\n",
    "chc_mulk.fit([[j] for j in range(n)])\n",
    "print(\"ComparisonHC ran for {:.2f} seconds.\".format(chc_mulk.time_elapsed))\n",
    "print(\"Revenue with Mulk-3: {:.3e}\".format(-chc_mulk.cost_dasgupta(adds_similarities)))"
   ]
  },
  {
   "cell_type": "code",
   "execution_count": 18,
   "id": "86faae4e",
   "metadata": {},
   "outputs": [
    {
     "name": "stderr",
     "output_type": "stream",
     "text": [
      "100%|██████████████████████████████████████████████████████████████████████████████████| 10/10 [00:48<00:00,  4.81s/it]"
     ]
    },
    {
     "name": "stdout",
     "output_type": "stream",
     "text": [
      "ComparisonHC ran for 6.17 seconds.\n"
     ]
    },
    {
     "name": "stderr",
     "output_type": "stream",
     "text": [
      "\n"
     ]
    }
   ],
   "source": [
    "#running comparison hierarchical clustering using tSTE similarities\n",
    "#since it is a randomised process it is run 10 times and mean and standard deviation are obtained\n",
    "tste_cost = []\n",
    "total_time = 0.0\n",
    "for i in tqdm.tqdm(range(10)):\n",
    "    tste_similarities = get_tSTE_triplets(Oracle,n)\n",
    "    chc_tste = ComparisonHC(tste_similarities,n)\n",
    "    chc_tste.fit([[j] for j in range(n)])\n",
    "    total_time = total_time+chc_tste.time_elapsed\n",
    "    tste_cost.append(-chc_tste.cost_dasgupta(adds_similarities))\n",
    "print(\"ComparisonHC ran for {:.2f} seconds.\".format(total_time))"
   ]
  },
  {
   "cell_type": "code",
   "execution_count": 19,
   "id": "a94f1f49",
   "metadata": {},
   "outputs": [],
   "source": [
    "tste_cost = np.array(tste_cost)\n",
    "mean = np.mean(tste_cost)\n",
    "std = np.std(tste_cost)"
   ]
  },
  {
   "cell_type": "code",
   "execution_count": 20,
   "id": "e28359c0",
   "metadata": {},
   "outputs": [
    {
     "name": "stdout",
     "output_type": "stream",
     "text": [
      "Mean revenue obtained with tSTE after 10 runs: 1.574e+05\n"
     ]
    }
   ],
   "source": [
    "print(\"Mean revenue obtained with tSTE after 10 runs: {:.3e}\".format(mean))"
   ]
  },
  {
   "cell_type": "code",
   "execution_count": 21,
   "id": "7b49bb9d",
   "metadata": {},
   "outputs": [
    {
     "name": "stdout",
     "output_type": "stream",
     "text": [
      "Standard deviation of revenue obtained with tSTE after 10 runs: 2.427e+03\n"
     ]
    }
   ],
   "source": [
    "print(\"Standard deviation of revenue obtained with tSTE after 10 runs: {:.3e}\".format(std))"
   ]
  }
 ],
 "metadata": {
  "kernelspec": {
   "display_name": "Python 3 (ipykernel)",
   "language": "python",
   "name": "python3"
  },
  "language_info": {
   "codemirror_mode": {
    "name": "ipython",
    "version": 3
   },
   "file_extension": ".py",
   "mimetype": "text/x-python",
   "name": "python",
   "nbconvert_exporter": "python",
   "pygments_lexer": "ipython3",
   "version": "3.9.7"
  }
 },
 "nbformat": 4,
 "nbformat_minor": 5
}
