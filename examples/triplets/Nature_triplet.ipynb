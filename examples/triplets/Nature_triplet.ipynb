{
 "cells": [
  {
   "cell_type": "code",
   "execution_count": 1,
   "id": "922650e1",
   "metadata": {},
   "outputs": [],
   "source": [
    "from cblearn import datasets\n",
    "import numpy as np\n",
    "import cblearn\n",
    "import tqdm\n",
    "import time\n",
    "import sys\n",
    "sys.path.append('../..')\n",
    "from comparisonHC import HandlerTriplets, ListTriplets, get_AddS_triplets, get_MulK_triplets, get_tSTE_triplets, ComparisonHC"
   ]
  },
  {
   "cell_type": "code",
   "execution_count": 2,
   "id": "028e890a",
   "metadata": {},
   "outputs": [],
   "source": [
    "#fetching nature scene dataset\n",
    "data = datasets.fetch_nature_scene_similarity()"
   ]
  },
  {
   "cell_type": "code",
   "execution_count": 3,
   "id": "06aa43ca",
   "metadata": {},
   "outputs": [],
   "source": [
    "#setting seed 0\n",
    "np.random.seed(0) "
   ]
  },
  {
   "cell_type": "code",
   "execution_count": 4,
   "id": "d99e9ca8",
   "metadata": {},
   "outputs": [
    {
     "data": {
      "text/plain": [
       "{'triplet': array([[ 30,  82,  38],\n",
       "        [ 71,  97, 108],\n",
       "        [ 33,  76,  77],\n",
       "        ...,\n",
       "        [ 39,  66, 111],\n",
       "        [ 61, 105, 112],\n",
       "        [ 14,   2,  11]], dtype=int64),\n",
       " 'image_label': array(['art114.jpg', 'bost100.jpg', 'bost101.jpg', 'bost102.jpg',\n",
       "        'bost103.jpg', 'bost190.jpg', 'bost98.jpg', 'cdmc101.jpg',\n",
       "        'cdmc12.jpg', 'cdmc271.jpg', 'cdmc277.jpg', 'cdmc278.jpg',\n",
       "        'cdmc280.jpg', 'cdmc281.jpg', 'cdmc282.jpg', 'cdmc283.jpg',\n",
       "        'cdmc284.jpg', 'cdmc290.jpg', 'cdmc291.jpg', 'cdmc292.jpg',\n",
       "        'cdmc293.jpg', 'cdmc306.jpg', 'cdmc313.jpg', 'cdmc315.jpg',\n",
       "        'cdmc317.jpg', 'cdmc318.jpg', 'cdmc319.jpg', 'cdmc331.jpg',\n",
       "        'cdmc333.jpg', 'cdmc338.jpg', 'land302.jpg', 'land309.jpg',\n",
       "        'land334.jpg', 'land339.jpg', 'land340.jpg', 'land341.jpg',\n",
       "        'land367.jpg', 'land368.jpg', 'land369.jpg', 'land370.jpg',\n",
       "        'land371.jpg', 'land372.jpg', 'land374.jpg', 'land386.jpg',\n",
       "        'land480.jpg', 'land606.jpg', 'land616.jpg', 'land617.jpg',\n",
       "        'land618.jpg', 'land623.jpg', 'land625.jpg', 'land631.jpg',\n",
       "        'land638.jpg', 'land639.jpg', 'land640.jpg', 'land643.jpg',\n",
       "        'land645.jpg', 'land651.jpg', 'land652.jpg', 'land653.jpg',\n",
       "        'land655.jpg', 'land656.jpg', 'land657.jpg', 'land658.jpg',\n",
       "        'land659.jpg', 'land660.jpg', 'land661.jpg', 'land662.jpg',\n",
       "        'land663.jpg', 'land665.jpg', 'land666.jpg', 'land669.jpg',\n",
       "        'land681.jpg', 'land684.jpg', 'land687.jpg', 'land688.jpg',\n",
       "        'land812.jpg', 'land897.jpg', 'land902.jpg', 'land924.jpg',\n",
       "        'land946.jpg', 'land951.jpg', 'land954.jpg', 'n122078.jpg',\n",
       "        'n18001.jpg', 'n199065.jpg', 'n199067.jpg', 'n203004.jpg',\n",
       "        'n203011.jpg', 'n203015.jpg', 'n213056.jpg', 'n213065.jpg',\n",
       "        'n213066.jpg', 'n213075.jpg', 'n213080.jpg', 'n213081.jpg',\n",
       "        'n213085.jpg', 'n213086.jpg', 'n213092.jpg', 'n213093.jpg',\n",
       "        'n213094.jpg', 'n213095.jpg', 'n213096.jpg', 'n213097.jpg',\n",
       "        'n213098.jpg', 'n219006.jpg', 'n219007.jpg', 'n219008.jpg',\n",
       "        'n219015.jpg', 'n251048.jpg', 'n255008.jpg', 'n255068.jpg',\n",
       "        'n266017.jpg', 'n266018.jpg', 'n266020.jpg', 'n295018.jpg',\n",
       "        'n295039.jpg', 'n295042.jpg', 'n295082.jpg', 'n344019.jpg'],\n",
       "       dtype='<U11'),\n",
       " 'DESCR': '.. _nature_vogue_dataset:\\n\\nNature and Vogue datasets\\n---------------------------\\n\\nThe nature and vogue datasets consist of odd-one-out triplets of the form\\n\"Out of three shown items pick one that appears to be\\ndifferent from the two others\".\\n\\nThe items were either images of natural scenes (forests, beaches, mountaints, etc.)\\nor covers of the Vogue magazine.\\n\\n**Data Set Characteristics:**\\n\\n    ===================   =====================\\n    Triplets (Covers)                      1107\\n    Objects  (Covers)                        60\\n    Triplets (Scenes)                      3355\\n    Objects  (Scenes)                       120\\n    ===================   =====================\\n\\nThis datasets can be downloaded using :func:`cblearn.datasets.fetch_nature_scene_similarity` and\\n:func:`cblearn.datasets.fetch_vogue_cover_similarity`\\nTo use the odd-one-out triplets with e.g. ordinal embedding algorithms, convert them to standard triplets\\nwith :func:`cblearn.dataset.triplets_from_oddoneout`.\\n\\nPlease cite the following paper if you use this dataset in publications.\\n\\n.. topic:: References\\n\\n    - Heikinheimo, H., & Ukkonen, A. (2013). The crowd-median algorithm.\\n      In Proceedings of the AAAI Conference on Human Computation and Crowdsourcing (Vol. 1, No. 1).\\n'}"
      ]
     },
     "execution_count": 4,
     "metadata": {},
     "output_type": "execute_result"
    }
   ],
   "source": [
    "data"
   ]
  },
  {
   "cell_type": "code",
   "execution_count": 5,
   "id": "d1974773",
   "metadata": {},
   "outputs": [],
   "source": [
    "#getting raw triplets from nature scene data\n",
    "triplets_raw = data['triplet']"
   ]
  },
  {
   "cell_type": "code",
   "execution_count": 6,
   "id": "b3b0d7be",
   "metadata": {},
   "outputs": [],
   "source": [
    "n = np.amax(triplets_raw) + 1"
   ]
  },
  {
   "cell_type": "code",
   "execution_count": 7,
   "id": "87da8197",
   "metadata": {},
   "outputs": [
    {
     "data": {
      "text/plain": [
       "120"
      ]
     },
     "execution_count": 7,
     "metadata": {},
     "output_type": "execute_result"
    }
   ],
   "source": [
    "#objects in the data\n",
    "n"
   ]
  },
  {
   "cell_type": "code",
   "execution_count": 8,
   "id": "ee7ee0f9",
   "metadata": {},
   "outputs": [],
   "source": [
    "n_triplets_raw = triplets_raw.shape[0]"
   ]
  },
  {
   "cell_type": "code",
   "execution_count": 9,
   "id": "ff03c201",
   "metadata": {},
   "outputs": [
    {
     "data": {
      "text/plain": [
       "3355"
      ]
     },
     "execution_count": 9,
     "metadata": {},
     "output_type": "execute_result"
    }
   ],
   "source": [
    "#raw triplets in the data(number of responses)\n",
    "n_triplets_raw"
   ]
  },
  {
   "cell_type": "code",
   "execution_count": 10,
   "id": "62d7e7b4",
   "metadata": {},
   "outputs": [],
   "source": [
    "#getting standard triplets from raw triplets. Random triplets are of form (i,j,k) where s_ij>s_ik\n",
    "triplets = cblearn.preprocessing.triplets_from_oddoneout(data['triplet'])"
   ]
  },
  {
   "cell_type": "code",
   "execution_count": 11,
   "id": "1272a9e1",
   "metadata": {},
   "outputs": [
    {
     "name": "stdout",
     "output_type": "stream",
     "text": [
      "6710\n"
     ]
    }
   ],
   "source": [
    "#standard triplets obtained from the data\n",
    "n_triplets = triplets.shape[0]\n",
    "print(n_triplets)"
   ]
  },
  {
   "cell_type": "code",
   "execution_count": 12,
   "id": "f6c9205b",
   "metadata": {},
   "outputs": [],
   "source": [
    "Oracle = ListTriplets(triplets, n, n_triplets)"
   ]
  },
  {
   "cell_type": "code",
   "execution_count": 13,
   "id": "908814cf",
   "metadata": {},
   "outputs": [],
   "source": [
    "adds_similarities = get_AddS_triplets(Oracle,n)"
   ]
  },
  {
   "cell_type": "code",
   "execution_count": 14,
   "id": "bbc08401",
   "metadata": {},
   "outputs": [
    {
     "name": "stdout",
     "output_type": "stream",
     "text": [
      "ComparisonHC ran for 7.86 seconds.\n",
      "Revenue with AddS-3: 2.650e+05\n"
     ]
    }
   ],
   "source": [
    "#running comparison hierarchical clustering using AddS-3 similarities\n",
    "chc = ComparisonHC(adds_similarities,n)\n",
    "chc.fit([[j] for j in range(n)])\n",
    "print(\"ComparisonHC ran for {:.2f} seconds.\".format(chc.time_elapsed))\n",
    "print(\"Revenue with AddS-3: {:.3e}\".format(-chc.cost_dasgupta(adds_similarities)))"
   ]
  },
  {
   "cell_type": "code",
   "execution_count": 15,
   "id": "59645bcb",
   "metadata": {},
   "outputs": [],
   "source": [
    "mulk_similarities = get_MulK_triplets(Oracle,n)"
   ]
  },
  {
   "cell_type": "code",
   "execution_count": 16,
   "id": "c1a92535",
   "metadata": {},
   "outputs": [
    {
     "name": "stdout",
     "output_type": "stream",
     "text": [
      "ComparisonHC ran for 9.22 seconds.\n",
      "Revenue with Mulk-3: 1.232e+05\n"
     ]
    }
   ],
   "source": [
    "#running comparison hierarchical clustering using MulK-3 similarities\n",
    "chc_mulk = ComparisonHC(mulk_similarities,n)\n",
    "chc_mulk.fit([[j] for j in range(n)])\n",
    "print(\"ComparisonHC ran for {:.2f} seconds.\".format(chc_mulk.time_elapsed))\n",
    "print(\"Revenue with Mulk-3: {:.3e}\".format(-chc_mulk.cost_dasgupta(adds_similarities)))"
   ]
  },
  {
   "cell_type": "code",
   "execution_count": 17,
   "id": "10b51d06",
   "metadata": {},
   "outputs": [
    {
     "name": "stderr",
     "output_type": "stream",
     "text": [
      "100%|██████████████████████████████████████████████████████████████████████████████████| 10/10 [02:18<00:00, 13.87s/it]"
     ]
    },
    {
     "name": "stdout",
     "output_type": "stream",
     "text": [
      "ComparisonHC ran for 86.91 seconds.\n"
     ]
    },
    {
     "name": "stderr",
     "output_type": "stream",
     "text": [
      "\n"
     ]
    }
   ],
   "source": [
    "#running comparison hierarchical clustering using tSTE similarities\n",
    "#since it is a randomised process it is run 10 times and mean and standard deviation are obtained\n",
    "tste_cost = []\n",
    "total_time = 0.0\n",
    "for i in tqdm.tqdm(range(10)):\n",
    "    tste_similarities = get_tSTE_triplets(Oracle,n)\n",
    "    chc_tste = ComparisonHC(tste_similarities,n)\n",
    "    chc_tste.fit([[j] for j in range(n)])\n",
    "    total_time = total_time+chc_tste.time_elapsed\n",
    "    tste_cost.append(-chc_tste.cost_dasgupta(adds_similarities))\n",
    "print(\"ComparisonHC ran for {:.2f} seconds.\".format(total_time))"
   ]
  },
  {
   "cell_type": "code",
   "execution_count": 18,
   "id": "e323f7d5",
   "metadata": {},
   "outputs": [],
   "source": [
    "tste_cost = np.array(tste_cost)\n",
    "mean = np.mean(tste_cost)\n",
    "std = np.std(tste_cost)"
   ]
  },
  {
   "cell_type": "code",
   "execution_count": 19,
   "id": "9b2a9796",
   "metadata": {},
   "outputs": [
    {
     "name": "stdout",
     "output_type": "stream",
     "text": [
      "Mean revenue obtained with tSTE after 10 runs: 2.050e+05\n"
     ]
    }
   ],
   "source": [
    "print(\"Mean revenue obtained with tSTE after 10 runs: {:.3e}\".format(mean))"
   ]
  },
  {
   "cell_type": "code",
   "execution_count": 20,
   "id": "343b0438",
   "metadata": {},
   "outputs": [
    {
     "name": "stdout",
     "output_type": "stream",
     "text": [
      "Standard Deviation of revenue obtained with tSTE after 10 runs: 3.459e+03\n"
     ]
    }
   ],
   "source": [
    "print(\"Standard Deviation of revenue obtained with tSTE after 10 runs: {:.3e}\".format(std))"
   ]
  }
 ],
 "metadata": {
  "kernelspec": {
   "display_name": "Python 3 (ipykernel)",
   "language": "python",
   "name": "python3"
  },
  "language_info": {
   "codemirror_mode": {
    "name": "ipython",
    "version": 3
   },
   "file_extension": ".py",
   "mimetype": "text/x-python",
   "name": "python",
   "nbconvert_exporter": "python",
   "pygments_lexer": "ipython3",
   "version": "3.9.7"
  }
 },
 "nbformat": 4,
 "nbformat_minor": 5
}
