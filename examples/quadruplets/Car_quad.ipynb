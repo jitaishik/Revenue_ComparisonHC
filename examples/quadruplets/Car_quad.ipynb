{
 "cells": [
  {
   "cell_type": "code",
   "execution_count": 1,
   "id": "922650e1",
   "metadata": {},
   "outputs": [],
   "source": [
    "from cblearn import datasets\n",
    "import numpy as np\n",
    "import cblearn\n",
    "import tqdm\n",
    "import time\n",
    "import sys\n",
    "sys.path.append('../..')\n",
    "from comparisonHC import HandlerQuadruplets, ListQuadruplets, get_AddS_quadruplets, get_MulK_quadruplets, ComparisonHC"
   ]
  },
  {
   "cell_type": "code",
   "execution_count": 2,
   "id": "028e890a",
   "metadata": {},
   "outputs": [],
   "source": [
    "#fetching car dataset\n",
    "data = datasets.fetch_car_similarity()"
   ]
  },
  {
   "cell_type": "code",
   "execution_count": 3,
   "id": "d99e9ca8",
   "metadata": {},
   "outputs": [
    {
     "data": {
      "text/plain": [
       "{'triplet': array([[45, 20, 21],\n",
       "        [ 6, 43, 14],\n",
       "        [41, 17, 52],\n",
       "        ...,\n",
       "        [25, 21, 58],\n",
       "        [43, 46, 19],\n",
       "        [46, 24, 31]]),\n",
       " 'response': array([0, 0, 1, ..., 1, 2, 1], dtype=int64),\n",
       " 'rt_ms': array([[2.019],\n",
       "        [3.366],\n",
       "        [6.582],\n",
       "        ...,\n",
       "        [4.956],\n",
       "        [0.296],\n",
       "        [3.752]]),\n",
       " 'class_id': array([0, 1, 0, 0, 0, 1, 1, 1, 1, 1, 1, 1, 0, 0, 3, 1, 1, 0, 3, 3, 2, 0,\n",
       "        2, 0, 1, 0, 0, 3, 0, 2, 0, 1, 0, 0, 1, 1, 1, 1, 1, 3, 1, 3, 0, 1,\n",
       "        1, 1, 3, 3, 3, 3, 3, 3, 2, 3, 1, 3, 0, 1, 3, 1]),\n",
       " 'class_name': array(['OFF-ROAD / SPORT UTILITY VEHICLES', 'ORDINARY CARS', 'OUTLIERS',\n",
       "        'SPORTS CARS'], dtype='<U33'),\n",
       " 'DESCR': '.. _central_car_dataset:\\n\\nCar Similarity dataset\\n-----------------------\\n\\n`This dataset contains triplets`_ of 60 car images, responsed in an online survey.\\nThe people chose one car of three, such that the following statement is true:\\n\"Object A is the most central object within the triple of objects (A,B,C)\".\\n\\nAll images were found on Wikimedia Commons and are assigned to one of four classes:\\nORDINARY CARS, SPORTS CARS, OFF-ROAD/SPORT UTILITY VEHICLES, and OUTLIERS.\\n\\nThe corresponding car images are available with the _`full dataset`.\\n.. _full dataset: http://www.tml.cs.uni-tuebingen.de/team/luxburg/code_and_data/index.php\\n\\n**Data Set Characteristics:**\\n\\n    ===================   =====================\\n    Triplets                               7097\\n    Objects (Cars)                           60\\n    Query                  3 cars, most-central\\n    ===================   =====================\\n\\nThis dataset can be downloaded using the :func:`cblearn.datasets.fetch_car_similarity`.\\nTo use the most-central triplets with e.g. ordinal embedding algorithms, you should convert them to standard triplets\\n(:func:`cblearn.dataset.triplets_from_mostcentral`).\\n\\nPlease cite the following paper if you use this dataset in publications.\\n\\n.. topic:: References\\n\\n    - M. Kleindessner and U. von Luxburg. Lens depth function and k-relative neighborhood graph:\\n      Versatile tools for ordinal data analysis. JMLR, 18(58):1â€“52, 2017.\\n'}"
      ]
     },
     "execution_count": 3,
     "metadata": {},
     "output_type": "execute_result"
    }
   ],
   "source": [
    "data"
   ]
  },
  {
   "cell_type": "code",
   "execution_count": 4,
   "id": "ae61363c",
   "metadata": {},
   "outputs": [],
   "source": [
    "#getting raw triplets from car data\n",
    "triplets_raw = data['triplet']"
   ]
  },
  {
   "cell_type": "code",
   "execution_count": 5,
   "id": "b3b0d7be",
   "metadata": {},
   "outputs": [],
   "source": [
    "n = np.amax(triplets_raw) + 1"
   ]
  },
  {
   "cell_type": "code",
   "execution_count": 6,
   "id": "87da8197",
   "metadata": {},
   "outputs": [
    {
     "data": {
      "text/plain": [
       "60"
      ]
     },
     "execution_count": 6,
     "metadata": {},
     "output_type": "execute_result"
    }
   ],
   "source": [
    "#objects in the data\n",
    "n"
   ]
  },
  {
   "cell_type": "code",
   "execution_count": 7,
   "id": "7c4a375f",
   "metadata": {},
   "outputs": [
    {
     "name": "stdout",
     "output_type": "stream",
     "text": [
      "7097\n"
     ]
    }
   ],
   "source": [
    "#raw triplets in the data(number of responses)\n",
    "n_triplets_raw = triplets_raw.shape[0]\n",
    "print(n_triplets_raw)"
   ]
  },
  {
   "cell_type": "code",
   "execution_count": 8,
   "id": "4f08f8b7",
   "metadata": {},
   "outputs": [],
   "source": [
    "#getting standard triplets from raw triplets. Random triplets are of form (i,j,k) where s_ij>s_ik\n",
    "triplets = cblearn.preprocessing.triplets_from_mostcentral(data['triplet'],data['response'])"
   ]
  },
  {
   "cell_type": "code",
   "execution_count": 9,
   "id": "cc9c5ed0",
   "metadata": {},
   "outputs": [],
   "source": [
    "#getting quadruplets of form (i,j,i,k) from triplets of form (i,j,k)\n",
    "quadruplets = np.transpose(np.array([triplets[:,0],triplets[:,1],triplets[:,0],triplets[:,2]]))"
   ]
  },
  {
   "cell_type": "code",
   "execution_count": 10,
   "id": "99e6ede4",
   "metadata": {},
   "outputs": [],
   "source": [
    "n_quadruplets = quadruplets.shape[0]"
   ]
  },
  {
   "cell_type": "code",
   "execution_count": 11,
   "id": "4febf38e",
   "metadata": {},
   "outputs": [
    {
     "data": {
      "text/plain": [
       "14194"
      ]
     },
     "execution_count": 11,
     "metadata": {},
     "output_type": "execute_result"
    }
   ],
   "source": [
    "#standard quadruplets obtained from the data\n",
    "n_quadruplets"
   ]
  },
  {
   "cell_type": "code",
   "execution_count": 12,
   "id": "02a015e1",
   "metadata": {},
   "outputs": [],
   "source": [
    "Oracle = ListQuadruplets(quadruplets,n,n_quadruplets)"
   ]
  },
  {
   "cell_type": "code",
   "execution_count": 13,
   "id": "4e44c97d",
   "metadata": {},
   "outputs": [],
   "source": [
    "adds_similarities = get_AddS_quadruplets(Oracle,n)"
   ]
  },
  {
   "cell_type": "code",
   "execution_count": 14,
   "id": "87db0da9",
   "metadata": {},
   "outputs": [
    {
     "name": "stdout",
     "output_type": "stream",
     "text": [
      "ComparisonHC ran for 1.09 seconds.\n",
      "Revenue with AddS-4: 152116.0\n"
     ]
    }
   ],
   "source": [
    "#running comparison hierarchical clustering using AddS-4 similarities\n",
    "chc = ComparisonHC(adds_similarities,n)\n",
    "chc.fit([[j] for j in range(n)])\n",
    "print(\"ComparisonHC ran for {:.2f} seconds.\".format(chc.time_elapsed))\n",
    "print(\"Revenue with AddS-4: {}\".format(-chc.cost_dasgupta(adds_similarities)))"
   ]
  },
  {
   "cell_type": "code",
   "execution_count": 15,
   "id": "f86312d6",
   "metadata": {},
   "outputs": [],
   "source": [
    "mulk_similarities = get_MulK_quadruplets(Oracle,n)"
   ]
  },
  {
   "cell_type": "code",
   "execution_count": 16,
   "id": "de900fc1",
   "metadata": {},
   "outputs": [],
   "source": [
    "#getting 4K-AL similarities\n",
    "al4k_similarities = mulk_similarities + 2*adds_similarities"
   ]
  },
  {
   "cell_type": "code",
   "execution_count": 17,
   "id": "a9ed6c6a",
   "metadata": {},
   "outputs": [
    {
     "name": "stdout",
     "output_type": "stream",
     "text": [
      "ComparisonHC ran for 0.98 seconds.\n",
      "Revenue with 4K-AL: 112588.0\n"
     ]
    }
   ],
   "source": [
    "#running comparison hierarchical clustering using 4K-AL similarities\n",
    "chc_al4k = ComparisonHC(al4k_similarities,n)\n",
    "chc_al4k.fit([[j] for j in range(n)])\n",
    "print(\"ComparisonHC ran for {:.2f} seconds.\".format(chc_al4k.time_elapsed))\n",
    "print(\"Revenue with 4K-AL: {}\".format(-chc_al4k.cost_dasgupta(adds_similarities)))"
   ]
  }
 ],
 "metadata": {
  "kernelspec": {
   "display_name": "Python 3 (ipykernel)",
   "language": "python",
   "name": "python3"
  },
  "language_info": {
   "codemirror_mode": {
    "name": "ipython",
    "version": 3
   },
   "file_extension": ".py",
   "mimetype": "text/x-python",
   "name": "python",
   "nbconvert_exporter": "python",
   "pygments_lexer": "ipython3",
   "version": "3.9.7"
  }
 },
 "nbformat": 4,
 "nbformat_minor": 5
}
