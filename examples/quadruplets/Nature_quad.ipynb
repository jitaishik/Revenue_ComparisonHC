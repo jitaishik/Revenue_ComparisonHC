{
 "cells": [
  {
   "cell_type": "code",
   "execution_count": 1,
   "id": "922650e1",
   "metadata": {},
   "outputs": [],
   "source": [
    "from cblearn import datasets\n",
    "import numpy as np\n",
    "import cblearn\n",
    "import tqdm\n",
    "import time\n",
    "import sys\n",
    "sys.path.append('../..')\n",
    "from comparisonHC import HandlerQuadruplets, ListQuadruplets, get_AddS_quadruplets, get_MulK_quadruplets, ComparisonHC"
   ]
  },
  {
   "cell_type": "code",
   "execution_count": 2,
   "id": "028e890a",
   "metadata": {},
   "outputs": [],
   "source": [
    "#fetching nature scene dataset\n",
    "data = datasets.fetch_nature_scene_similarity()"
   ]
  },
  {
   "cell_type": "code",
   "execution_count": 3,
   "id": "d99e9ca8",
   "metadata": {},
   "outputs": [
    {
     "data": {
      "text/plain": [
       "{'triplet': array([[  3,  12,  18],\n",
       "        [ 66, 111, 106],\n",
       "        [111,  66,  39],\n",
       "        ...,\n",
       "        [ 11,   8,  18],\n",
       "        [ 27, 111,  48],\n",
       "        [101, 106,  48]], dtype=int64),\n",
       " 'image_label': array(['art114.jpg', 'bost100.jpg', 'bost101.jpg', 'bost102.jpg',\n",
       "        'bost103.jpg', 'bost190.jpg', 'bost98.jpg', 'cdmc101.jpg',\n",
       "        'cdmc12.jpg', 'cdmc271.jpg', 'cdmc277.jpg', 'cdmc278.jpg',\n",
       "        'cdmc280.jpg', 'cdmc281.jpg', 'cdmc282.jpg', 'cdmc283.jpg',\n",
       "        'cdmc284.jpg', 'cdmc290.jpg', 'cdmc291.jpg', 'cdmc292.jpg',\n",
       "        'cdmc293.jpg', 'cdmc306.jpg', 'cdmc313.jpg', 'cdmc315.jpg',\n",
       "        'cdmc317.jpg', 'cdmc318.jpg', 'cdmc319.jpg', 'cdmc331.jpg',\n",
       "        'cdmc333.jpg', 'cdmc338.jpg', 'land302.jpg', 'land309.jpg',\n",
       "        'land334.jpg', 'land339.jpg', 'land340.jpg', 'land341.jpg',\n",
       "        'land367.jpg', 'land368.jpg', 'land369.jpg', 'land370.jpg',\n",
       "        'land371.jpg', 'land372.jpg', 'land374.jpg', 'land386.jpg',\n",
       "        'land480.jpg', 'land606.jpg', 'land616.jpg', 'land617.jpg',\n",
       "        'land618.jpg', 'land623.jpg', 'land625.jpg', 'land631.jpg',\n",
       "        'land638.jpg', 'land639.jpg', 'land640.jpg', 'land643.jpg',\n",
       "        'land645.jpg', 'land651.jpg', 'land652.jpg', 'land653.jpg',\n",
       "        'land655.jpg', 'land656.jpg', 'land657.jpg', 'land658.jpg',\n",
       "        'land659.jpg', 'land660.jpg', 'land661.jpg', 'land662.jpg',\n",
       "        'land663.jpg', 'land665.jpg', 'land666.jpg', 'land669.jpg',\n",
       "        'land681.jpg', 'land684.jpg', 'land687.jpg', 'land688.jpg',\n",
       "        'land812.jpg', 'land897.jpg', 'land902.jpg', 'land924.jpg',\n",
       "        'land946.jpg', 'land951.jpg', 'land954.jpg', 'n122078.jpg',\n",
       "        'n18001.jpg', 'n199065.jpg', 'n199067.jpg', 'n203004.jpg',\n",
       "        'n203011.jpg', 'n203015.jpg', 'n213056.jpg', 'n213065.jpg',\n",
       "        'n213066.jpg', 'n213075.jpg', 'n213080.jpg', 'n213081.jpg',\n",
       "        'n213085.jpg', 'n213086.jpg', 'n213092.jpg', 'n213093.jpg',\n",
       "        'n213094.jpg', 'n213095.jpg', 'n213096.jpg', 'n213097.jpg',\n",
       "        'n213098.jpg', 'n219006.jpg', 'n219007.jpg', 'n219008.jpg',\n",
       "        'n219015.jpg', 'n251048.jpg', 'n255008.jpg', 'n255068.jpg',\n",
       "        'n266017.jpg', 'n266018.jpg', 'n266020.jpg', 'n295018.jpg',\n",
       "        'n295039.jpg', 'n295042.jpg', 'n295082.jpg', 'n344019.jpg'],\n",
       "       dtype='<U11'),\n",
       " 'DESCR': '.. _nature_vogue_dataset:\\n\\nNature and Vogue datasets\\n---------------------------\\n\\nThe nature and vogue datasets consist of odd-one-out triplets of the form\\n\"Out of three shown items pick one that appears to be\\ndifferent from the two others\".\\n\\nThe items were either images of natural scenes (forests, beaches, mountaints, etc.)\\nor covers of the Vogue magazine.\\n\\n**Data Set Characteristics:**\\n\\n    ===================   =====================\\n    Triplets (Covers)                      1107\\n    Objects  (Covers)                        60\\n    Triplets (Scenes)                      3355\\n    Objects  (Scenes)                       120\\n    ===================   =====================\\n\\nThis datasets can be downloaded using :func:`cblearn.datasets.fetch_nature_scene_similarity` and\\n:func:`cblearn.datasets.fetch_vogue_cover_similarity`\\nTo use the odd-one-out triplets with e.g. ordinal embedding algorithms, convert them to standard triplets\\nwith :func:`cblearn.dataset.triplets_from_oddoneout`.\\n\\nPlease cite the following paper if you use this dataset in publications.\\n\\n.. topic:: References\\n\\n    - Heikinheimo, H., & Ukkonen, A. (2013). The crowd-median algorithm.\\n      In Proceedings of the AAAI Conference on Human Computation and Crowdsourcing (Vol. 1, No. 1).\\n'}"
      ]
     },
     "execution_count": 3,
     "metadata": {},
     "output_type": "execute_result"
    }
   ],
   "source": [
    "data"
   ]
  },
  {
   "cell_type": "code",
   "execution_count": 4,
   "id": "ae61363c",
   "metadata": {},
   "outputs": [],
   "source": [
    "#getting raw triplets from nature scene data\n",
    "triplets_raw = data['triplet']"
   ]
  },
  {
   "cell_type": "code",
   "execution_count": 5,
   "id": "b3b0d7be",
   "metadata": {},
   "outputs": [],
   "source": [
    "n = np.amax(triplets_raw) + 1"
   ]
  },
  {
   "cell_type": "code",
   "execution_count": 6,
   "id": "87da8197",
   "metadata": {},
   "outputs": [
    {
     "data": {
      "text/plain": [
       "120"
      ]
     },
     "execution_count": 6,
     "metadata": {},
     "output_type": "execute_result"
    }
   ],
   "source": [
    "#objects in the data\n",
    "n"
   ]
  },
  {
   "cell_type": "code",
   "execution_count": 7,
   "id": "7c4a375f",
   "metadata": {},
   "outputs": [],
   "source": [
    "n_triplets_raw = triplets_raw.shape[0]"
   ]
  },
  {
   "cell_type": "code",
   "execution_count": 8,
   "id": "11a99e16",
   "metadata": {},
   "outputs": [
    {
     "data": {
      "text/plain": [
       "3355"
      ]
     },
     "execution_count": 8,
     "metadata": {},
     "output_type": "execute_result"
    }
   ],
   "source": [
    "#raw triplets in the data(number of responses)\n",
    "n_triplets_raw"
   ]
  },
  {
   "cell_type": "code",
   "execution_count": 9,
   "id": "4f08f8b7",
   "metadata": {},
   "outputs": [],
   "source": [
    "#getting standard triplets from raw triplets. Random triplets are of form (i,j,k) where s_ij>s_ik\n",
    "triplets = cblearn.preprocessing.triplets_from_oddoneout(data['triplet'])"
   ]
  },
  {
   "cell_type": "code",
   "execution_count": 10,
   "id": "40c7f5a8",
   "metadata": {},
   "outputs": [],
   "source": [
    "#getting quadruplets of form (i,j,i,k) from triplets of form (i,j,k)\n",
    "quadruplets = np.transpose(np.array([triplets[:,0],triplets[:,1],triplets[:,0],triplets[:,2]]))"
   ]
  },
  {
   "cell_type": "code",
   "execution_count": 11,
   "id": "99e6ede4",
   "metadata": {},
   "outputs": [],
   "source": [
    "n_quadruplets = quadruplets.shape[0]"
   ]
  },
  {
   "cell_type": "code",
   "execution_count": 12,
   "id": "a84d5fb6",
   "metadata": {},
   "outputs": [
    {
     "data": {
      "text/plain": [
       "6710"
      ]
     },
     "execution_count": 12,
     "metadata": {},
     "output_type": "execute_result"
    }
   ],
   "source": [
    "#standard quadruplets obtained from the data\n",
    "n_quadruplets"
   ]
  },
  {
   "cell_type": "code",
   "execution_count": 13,
   "id": "09934f76",
   "metadata": {},
   "outputs": [],
   "source": [
    "Oracle = ListQuadruplets(quadruplets,n,n_quadruplets)"
   ]
  },
  {
   "cell_type": "code",
   "execution_count": 14,
   "id": "4e44c97d",
   "metadata": {},
   "outputs": [],
   "source": [
    "adds_similarities = get_AddS_quadruplets(Oracle,n)"
   ]
  },
  {
   "cell_type": "code",
   "execution_count": 15,
   "id": "87db0da9",
   "metadata": {},
   "outputs": [
    {
     "name": "stdout",
     "output_type": "stream",
     "text": [
      "ComparisonHC ran for 5.58 seconds.\n",
      "Revenue with AddS-4: 2.650e+05\n"
     ]
    }
   ],
   "source": [
    "#running comparison hierarchical clustering using AddS-4 similarities\n",
    "chc = ComparisonHC(adds_similarities,n)\n",
    "chc.fit([[j] for j in range(n)])\n",
    "print(\"ComparisonHC ran for {:.2f} seconds.\".format(chc.time_elapsed))\n",
    "print(\"Revenue with AddS-4: {:.3e}\".format(-chc.cost_dasgupta(adds_similarities)))"
   ]
  },
  {
   "cell_type": "code",
   "execution_count": 16,
   "id": "44af1750",
   "metadata": {},
   "outputs": [],
   "source": [
    "mulk_similarities = get_MulK_quadruplets(Oracle,n)"
   ]
  },
  {
   "cell_type": "code",
   "execution_count": 17,
   "id": "de900fc1",
   "metadata": {},
   "outputs": [],
   "source": [
    "#getting 4K-AL similarities\n",
    "al4k_similarities = mulk_similarities + 2*adds_similarities"
   ]
  },
  {
   "cell_type": "code",
   "execution_count": 18,
   "id": "a9ed6c6a",
   "metadata": {},
   "outputs": [
    {
     "name": "stdout",
     "output_type": "stream",
     "text": [
      "ComparisonHC ran for 5.83 seconds.\n",
      "Revenue with 4K-AL: 2.228e+05\n"
     ]
    }
   ],
   "source": [
    "#running comparison hierarchical clustering using 4K-AL similarities\n",
    "chc_al4k = ComparisonHC(al4k_similarities,n)\n",
    "chc_al4k.fit([[j] for j in range(n)])\n",
    "print(\"ComparisonHC ran for {:.2f} seconds.\".format(chc_al4k.time_elapsed))\n",
    "print(\"Revenue with 4K-AL: {:.3e}\".format(-chc_al4k.cost_dasgupta(adds_similarities)))"
   ]
  }
 ],
 "metadata": {
  "kernelspec": {
   "display_name": "Python 3 (ipykernel)",
   "language": "python",
   "name": "python3"
  },
  "language_info": {
   "codemirror_mode": {
    "name": "ipython",
    "version": 3
   },
   "file_extension": ".py",
   "mimetype": "text/x-python",
   "name": "python",
   "nbconvert_exporter": "python",
   "pygments_lexer": "ipython3",
   "version": "3.9.7"
  }
 },
 "nbformat": 4,
 "nbformat_minor": 5
}
