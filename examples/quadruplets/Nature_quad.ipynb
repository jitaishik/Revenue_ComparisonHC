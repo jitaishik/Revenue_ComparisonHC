{
 "cells": [
  {
   "cell_type": "code",
   "execution_count": 1,
   "id": "922650e1",
   "metadata": {},
   "outputs": [],
   "source": [
    "from cblearn import datasets\n",
    "import numpy as np\n",
    "import cblearn\n",
    "import tqdm\n",
    "from scipy.sparse import csr_matrix,coo_matrix\n",
    "import time\n",
    "import sklearn\n",
    "import sys\n",
    "sys.path.append('../..')\n",
    "from comparisonHC import ComparisonHC"
   ]
  },
  {
   "cell_type": "code",
   "execution_count": 2,
   "id": "028e890a",
   "metadata": {},
   "outputs": [],
   "source": [
    "#fetching nature scene dataset\n",
    "data = datasets.fetch_nature_scene_similarity()"
   ]
  },
  {
   "cell_type": "code",
   "execution_count": 3,
   "id": "d99e9ca8",
   "metadata": {},
   "outputs": [
    {
     "data": {
      "text/plain": [
       "{'triplet': array([[111,  78,  83],\n",
       "        [ 75,  85,  41],\n",
       "        [ 18,  19,  24],\n",
       "        ...,\n",
       "        [ 72,  32,  79],\n",
       "        [ 32,  86,  55],\n",
       "        [ 66,  30, 111]], dtype=int64),\n",
       " 'image_label': array(['art114.jpg', 'bost100.jpg', 'bost101.jpg', 'bost102.jpg',\n",
       "        'bost103.jpg', 'bost190.jpg', 'bost98.jpg', 'cdmc101.jpg',\n",
       "        'cdmc12.jpg', 'cdmc271.jpg', 'cdmc277.jpg', 'cdmc278.jpg',\n",
       "        'cdmc280.jpg', 'cdmc281.jpg', 'cdmc282.jpg', 'cdmc283.jpg',\n",
       "        'cdmc284.jpg', 'cdmc290.jpg', 'cdmc291.jpg', 'cdmc292.jpg',\n",
       "        'cdmc293.jpg', 'cdmc306.jpg', 'cdmc313.jpg', 'cdmc315.jpg',\n",
       "        'cdmc317.jpg', 'cdmc318.jpg', 'cdmc319.jpg', 'cdmc331.jpg',\n",
       "        'cdmc333.jpg', 'cdmc338.jpg', 'land302.jpg', 'land309.jpg',\n",
       "        'land334.jpg', 'land339.jpg', 'land340.jpg', 'land341.jpg',\n",
       "        'land367.jpg', 'land368.jpg', 'land369.jpg', 'land370.jpg',\n",
       "        'land371.jpg', 'land372.jpg', 'land374.jpg', 'land386.jpg',\n",
       "        'land480.jpg', 'land606.jpg', 'land616.jpg', 'land617.jpg',\n",
       "        'land618.jpg', 'land623.jpg', 'land625.jpg', 'land631.jpg',\n",
       "        'land638.jpg', 'land639.jpg', 'land640.jpg', 'land643.jpg',\n",
       "        'land645.jpg', 'land651.jpg', 'land652.jpg', 'land653.jpg',\n",
       "        'land655.jpg', 'land656.jpg', 'land657.jpg', 'land658.jpg',\n",
       "        'land659.jpg', 'land660.jpg', 'land661.jpg', 'land662.jpg',\n",
       "        'land663.jpg', 'land665.jpg', 'land666.jpg', 'land669.jpg',\n",
       "        'land681.jpg', 'land684.jpg', 'land687.jpg', 'land688.jpg',\n",
       "        'land812.jpg', 'land897.jpg', 'land902.jpg', 'land924.jpg',\n",
       "        'land946.jpg', 'land951.jpg', 'land954.jpg', 'n122078.jpg',\n",
       "        'n18001.jpg', 'n199065.jpg', 'n199067.jpg', 'n203004.jpg',\n",
       "        'n203011.jpg', 'n203015.jpg', 'n213056.jpg', 'n213065.jpg',\n",
       "        'n213066.jpg', 'n213075.jpg', 'n213080.jpg', 'n213081.jpg',\n",
       "        'n213085.jpg', 'n213086.jpg', 'n213092.jpg', 'n213093.jpg',\n",
       "        'n213094.jpg', 'n213095.jpg', 'n213096.jpg', 'n213097.jpg',\n",
       "        'n213098.jpg', 'n219006.jpg', 'n219007.jpg', 'n219008.jpg',\n",
       "        'n219015.jpg', 'n251048.jpg', 'n255008.jpg', 'n255068.jpg',\n",
       "        'n266017.jpg', 'n266018.jpg', 'n266020.jpg', 'n295018.jpg',\n",
       "        'n295039.jpg', 'n295042.jpg', 'n295082.jpg', 'n344019.jpg'],\n",
       "       dtype='<U11'),\n",
       " 'DESCR': '.. _nature_vogue_dataset:\\n\\nNature and Vogue datasets\\n---------------------------\\n\\nThe nature and vogue datasets consist of odd-one-out triplets of the form\\n\"Out of three shown items pick one that appears to be\\ndifferent from the two others\".\\n\\nThe items were either images of natural scenes (forests, beaches, mountaints, etc.)\\nor covers of the Vogue magazine.\\n\\n**Data Set Characteristics:**\\n\\n    ===================   =====================\\n    Triplets (Covers)                      1107\\n    Objects  (Covers)                        60\\n    Triplets (Scenes)                      3355\\n    Objects  (Scenes)                       120\\n    ===================   =====================\\n\\nThis datasets can be downloaded using :func:`cblearn.datasets.fetch_nature_scene_similarity` and\\n:func:`cblearn.datasets.fetch_vogue_cover_similarity`\\nTo use the odd-one-out triplets with e.g. ordinal embedding algorithms, convert them to standard triplets\\nwith :func:`cblearn.dataset.triplets_from_oddoneout`.\\n\\nPlease cite the following paper if you use this dataset in publications.\\n\\n.. topic:: References\\n\\n    - Heikinheimo, H., & Ukkonen, A. (2013). The crowd-median algorithm.\\n      In Proceedings of the AAAI Conference on Human Computation and Crowdsourcing (Vol. 1, No. 1).\\n'}"
      ]
     },
     "execution_count": 3,
     "metadata": {},
     "output_type": "execute_result"
    }
   ],
   "source": [
    "data"
   ]
  },
  {
   "cell_type": "code",
   "execution_count": 4,
   "id": "ae61363c",
   "metadata": {},
   "outputs": [],
   "source": [
    "#getting raw triplets from nature scene data\n",
    "triplets_raw = data['triplet']"
   ]
  },
  {
   "cell_type": "code",
   "execution_count": 5,
   "id": "b3b0d7be",
   "metadata": {},
   "outputs": [],
   "source": [
    "n = np.amax(triplets_raw) + 1"
   ]
  },
  {
   "cell_type": "code",
   "execution_count": 6,
   "id": "87da8197",
   "metadata": {},
   "outputs": [
    {
     "data": {
      "text/plain": [
       "120"
      ]
     },
     "execution_count": 6,
     "metadata": {},
     "output_type": "execute_result"
    }
   ],
   "source": [
    "#objects in the data\n",
    "n"
   ]
  },
  {
   "cell_type": "code",
   "execution_count": 7,
   "id": "7c4a375f",
   "metadata": {},
   "outputs": [],
   "source": [
    "n_triplets_raw = triplets_raw.shape[0]"
   ]
  },
  {
   "cell_type": "code",
   "execution_count": 8,
   "id": "11a99e16",
   "metadata": {},
   "outputs": [
    {
     "data": {
      "text/plain": [
       "3355"
      ]
     },
     "execution_count": 8,
     "metadata": {},
     "output_type": "execute_result"
    }
   ],
   "source": [
    "#raw triplets in the data(number of responses)\n",
    "n_triplets_raw"
   ]
  },
  {
   "cell_type": "code",
   "execution_count": 9,
   "id": "4f08f8b7",
   "metadata": {},
   "outputs": [],
   "source": [
    "#getting standard triplets from raw triplets. Random triplets are of form (i,j,k) where s_ij>s_ik\n",
    "triplets = cblearn.preprocessing.triplets_from_oddoneout(data['triplet'])"
   ]
  },
  {
   "cell_type": "code",
   "execution_count": 10,
   "id": "99e6ede4",
   "metadata": {},
   "outputs": [],
   "source": [
    "n_triplets = triplets.shape[0]"
   ]
  },
  {
   "cell_type": "code",
   "execution_count": 11,
   "id": "a84d5fb6",
   "metadata": {},
   "outputs": [
    {
     "data": {
      "text/plain": [
       "6710"
      ]
     },
     "execution_count": 11,
     "metadata": {},
     "output_type": "execute_result"
    }
   ],
   "source": [
    "#standard triplets obtained from the data\n",
    "n_triplets"
   ]
  },
  {
   "cell_type": "code",
   "execution_count": 12,
   "id": "e7291a1d",
   "metadata": {},
   "outputs": [],
   "source": [
    "def get_k(i,j,n_examples):\n",
    "    \"\"\"Given the row and column coordinates, returns the index of entries\n",
    "            of an off-diagonal upper triangular matrix where the elements\n",
    "            are taken in a row-major order:\n",
    "            [. 0 1 2 3\n",
    "             . . 4 5 6\n",
    "             . . . 7 8\n",
    "             . . . . 9\n",
    "             . . . . .]\n",
    "            Parameters\n",
    "            -------\n",
    "            i : int or numpy array\n",
    "                The row index of the example, between 0 and n_examples.\n",
    "            j : int or numpy array, shape(i.shape)\n",
    "                The column index of the example, between i and n_examples.\n",
    "            n_example : int\n",
    "                The number of rows and columns in the matrix. If None,\n",
    "                self.n_examples is used. (Default: None).\n",
    "            Returns\n",
    "            ----------\n",
    "            k : int or numpy array, shape(i.shape)\n",
    "                The row-major index of the example, between 0 and (n_examples choose 2).\n",
    "            Notes\n",
    "            -----\n",
    "            The original formulation was taken from the following link:\n",
    "            https://stackoverflow.com/questions/27086195/linear-index-upper-triangular-matrix\n",
    "    \"\"\"\n",
    "    k = ((n_examples*(n_examples-1))//2) - ((n_examples-i)*((n_examples-i)-1))//2 + j - i - 1\n",
    "\n",
    "    return k"
   ]
  },
  {
   "cell_type": "code",
   "execution_count": 13,
   "id": "99a00699",
   "metadata": {},
   "outputs": [],
   "source": [
    "def get_ij(k,n_examples):\n",
    "        \"\"\"Returns the row and column coordinates given the index of the\n",
    "        entries of an off-diagonal upper triangular matrix where the\n",
    "        elements are taken in a row-major order:\n",
    "        [. 0 1 2 3\n",
    "         . . 4 5 6\n",
    "         . . . 7 8\n",
    "         . . . . 9\n",
    "         . . . . .]\n",
    "        Parameters\n",
    "        ----------\n",
    "        k : int or numpy array\n",
    "            The row-major index of the example, between 0 and\n",
    "            (n_examples choose 2).\n",
    "       \n",
    "        n_example : int\n",
    "            The number of rows and columns in the matrix. If None,\n",
    "            self.n_examples is used. (Default: None).\n",
    "        Returns\n",
    "        -------\n",
    "        i : int or numpy array, shape(k.shape)\n",
    "            The row index of the example, between 0 and n_examples.\n",
    "        j : int or numpy array, shape(k.shape)\n",
    "            The column index of the example, between i and n_examples.\n",
    "        Notes\n",
    "        -----\n",
    "        The original formulation was taken from the following link:\n",
    "        https://stackoverflow.com/questions/27086195/linear-index-upper-triangular-matrix\n",
    "        \"\"\"\n",
    "\n",
    "        i = n_examples - 2 - (np.sqrt(-8*k + 4*n_examples*(n_examples-1)-7)/2 - 1/2).astype(int)\n",
    "        j = k + i + 1 - (n_examples*(n_examples-1))//2 + ((n_examples-i)*((n_examples-i)-1))//2\n",
    "        \n",
    "        return i,j"
   ]
  },
  {
   "cell_type": "code",
   "execution_count": 14,
   "id": "18bf8bac",
   "metadata": {},
   "outputs": [],
   "source": [
    "def get_AddS_comparisons(comparisons,n_examples):\n",
    "    \"\"\"Get a sparse matrix representing the comparisons in a way that is\n",
    "      easy to handle for AddS.\n",
    "      Returns\n",
    "      -------\n",
    "      AddS_comparisons : scipy csr matrix, shape((n_examples choose 2),(n_examples choose 2))\n",
    "          A scipy csr_matrix containing values in {1,-1,0}. Given\n",
    "          i<j and k<l, in entry (self._get_k(i,j),self._get_k(k,l)),\n",
    "          the value 1 indicates that the quadruplet (i,j,k,l) is\n",
    "          available, the value -1 indicates that the quadruplet\n",
    "          (k,l,i,j) is available, and the value 0 indicates that\n",
    "          neither of the quadruplets is available.\n",
    "    \"\"\"\n",
    "    AddS_comparisons = comparisons.tocsr()\n",
    "        \n",
    "    return AddS_comparisons"
   ]
  },
  {
   "cell_type": "code",
   "execution_count": 15,
   "id": "4ba1e215",
   "metadata": {},
   "outputs": [],
   "source": [
    "def get_AddS_quadruplets(comparisons,n_examples):\n",
    "    \"\"\"Returns a symmetric similarity matrix representing the similarities\n",
    "      between all the examples using the AddS quadruplets approach.\n",
    "      Parameters\n",
    "      ----------\n",
    "      comparisons : scipy csr matrix\n",
    "          It contains all the\n",
    "          comparisons associated with the pair (i,j) in a sparse matrix\n",
    "          where in entry (k,l), the value 1 indicates that the\n",
    "          quadruplet (i,j,k,l) is available, the value -1 indicates that\n",
    "          the quadruplet (k,l,i,j) is available, and the value 0\n",
    "          indicates that neither of the quadruplets is available.\n",
    "      n_examples : int\n",
    "          The number of examples handled by the oracle.\n",
    "      Returns\n",
    "      -------\n",
    "      kernel : numpy array, shape (n_examples,n_examples)\n",
    "          A nummpy array of similarities between the examples.\n",
    "    \"\"\"\n",
    "    kernel = np.zeros((n_examples,n_examples))\n",
    "\n",
    "    entries = comparisons.sum(axis=1).A1\n",
    "    i,j = get_ij(np.arange((n_examples*(n_examples-1))//2),n_examples)\n",
    "    kernel[i,j] = entries\n",
    "    \n",
    "    kernel += kernel.transpose()\n",
    "    \n",
    "    return kernel"
   ]
  },
  {
   "cell_type": "code",
   "execution_count": 16,
   "id": "5343fdae",
   "metadata": {},
   "outputs": [],
   "source": [
    "def get_MulK_comparisons(comparisons,n_examples):\n",
    "        \"\"\"Get a sparse matrix representing the comparisons in a way that is\n",
    "        easy to handle for MulK.\n",
    "        Returns\n",
    "        -------\n",
    "        MulK_comparisons : scipy csr matrix, shape(n_examples,n_examples*(n_examples choose 2))\n",
    "            A scipy csr_matrix containing values in {1,-1,0}. Given\n",
    "            i<j and k<l, in entry (i,j*(n_examples choose\n",
    "            2)+self._get_k(k,l)), the value 1 indicates that the\n",
    "            quadruplet (i,j,k,l) is available, the value -1 indicates\n",
    "            that the quadruplet (k,l,i,j) is available, and the value\n",
    "            0 indicates that neither of the quadruplets is available.\n",
    "        \"\"\"\n",
    "        i,j = get_ij(comparisons.row,n_examples)\n",
    "\n",
    "        n_kl = (n_examples*(n_examples-1))//2\n",
    "        \n",
    "        rows_i = i\n",
    "        columns_i = j*n_kl+comparisons.col\n",
    "               \n",
    "        rows_j = j\n",
    "        columns_j = i*n_kl+comparisons.col\n",
    "       \n",
    "        rows = np.concatenate((rows_i,rows_j))\n",
    "        columns = np.concatenate((columns_i,columns_j))\n",
    "        entries = np.concatenate((comparisons.data,comparisons.data))\n",
    "            \n",
    "        MulK_comparisons = csr_matrix((entries,(rows,columns)),shape=(n_examples,n_examples*n_kl),dtype=int)\n",
    "                \n",
    "        return MulK_comparisons"
   ]
  },
  {
   "cell_type": "code",
   "execution_count": 17,
   "id": "39c3ebf8",
   "metadata": {},
   "outputs": [],
   "source": [
    "def get_MulK_quadruplets(comparisons,n_examples):\n",
    "    \"\"\"Returns a symmetric similarity matrix representing the similarities\n",
    "    between all the examples using the MulK quadruplets approach.\n",
    "    Parameters\n",
    "    ----------\n",
    "    comparisons : scipy csr matrix\n",
    "        It contains all the\n",
    "        comparisons associated with the pair (i,j) in a sparse matrix\n",
    "        where in entry (k,l), the value 1 indicates that the\n",
    "        quadruplet (i,j,k,l) is available, the value -1 indicates that\n",
    "        the quadruplet (k,l,i,j) is available, and the value 0\n",
    "        indicates that neither of the quadruplets is available.\n",
    "    n_examples : int\n",
    "        The number of examples.\n",
    "    Returns\n",
    "    -------\n",
    "    kernel : numpy array, shape (n_examples,n_examples)\n",
    "        A nummpy array of similarities between the examples.\n",
    "    \"\"\"\n",
    "    kernel = np.zeros((n_examples,n_examples))\n",
    "    \n",
    "    kernel = comparisons.dot(comparisons.transpose())\n",
    "    kernel = kernel.toarray()\n",
    "    np.fill_diagonal(kernel,0)\n",
    "\n",
    "    return kernel"
   ]
  },
  {
   "cell_type": "code",
   "execution_count": 18,
   "id": "c85d8e2b",
   "metadata": {},
   "outputs": [],
   "source": [
    "#getting rows, columns and entries to represent the quadruplets as an upper triangular matrix\n",
    "#the quadruplets are obtained from triplet (i,j,k) in the form (i,j,i,k)\n",
    "rows = []\n",
    "columns = []\n",
    "entries = []\n",
    "for triplet in triplets:\n",
    "    if(triplet[0]<triplet[1]):\n",
    "        a = get_k(triplet[0],triplet[1],n)\n",
    "    else:\n",
    "        a = get_k(triplet[1],triplet[0],n)\n",
    "        \n",
    "    if(triplet[0]<triplet[2]):\n",
    "        b = get_k(triplet[0],triplet[2],n)\n",
    "    else:\n",
    "        b = get_k(triplet[2],triplet[0],n)\n",
    "\n",
    "    rows.append(a)\n",
    "    columns.append(b)\n",
    "    entries.append(1)"
   ]
  },
  {
   "cell_type": "code",
   "execution_count": 19,
   "id": "a0c2778b",
   "metadata": {},
   "outputs": [],
   "source": [
    "rows = np.array(rows)\n",
    "columns = np.array(columns)\n",
    "entries = np.array(entries)"
   ]
  },
  {
   "cell_type": "code",
   "execution_count": 20,
   "id": "391feb49",
   "metadata": {},
   "outputs": [],
   "source": [
    "n_entries = (n*(n-1))//2"
   ]
  },
  {
   "cell_type": "code",
   "execution_count": 21,
   "id": "f31f4771",
   "metadata": {},
   "outputs": [],
   "source": [
    "#getting a sparse matrix\n",
    "comparisons = coo_matrix((np.concatenate((entries,-entries)),(np.concatenate((rows,columns)),np.concatenate((columns,rows)))),shape=(n_entries,n_entries),dtype=int)\n",
    "comparisons.eliminate_zeros()"
   ]
  },
  {
   "cell_type": "code",
   "execution_count": 22,
   "id": "13385ade",
   "metadata": {},
   "outputs": [],
   "source": [
    "comp = get_AddS_comparisons(comparisons,n)"
   ]
  },
  {
   "cell_type": "code",
   "execution_count": 23,
   "id": "4e44c97d",
   "metadata": {},
   "outputs": [],
   "source": [
    "adds_similarities = get_AddS_quadruplets(comp,n)"
   ]
  },
  {
   "cell_type": "code",
   "execution_count": 24,
   "id": "87db0da9",
   "metadata": {},
   "outputs": [
    {
     "name": "stdout",
     "output_type": "stream",
     "text": [
      "ComparisonHC ran for 4.25 seconds.\n",
      "Revenue with AddS-4: 265031.0\n"
     ]
    }
   ],
   "source": [
    "#running comparison hierarchical clustering using AddS-4 similarities\n",
    "chc = ComparisonHC(adds_similarities,n)\n",
    "chc.fit([[j] for j in range(n)])\n",
    "print(\"ComparisonHC ran for {:.2f} seconds.\".format(chc.time_elapsed))\n",
    "print(\"Revenue with AddS-4: {}\".format(-chc.cost_dasgupta(adds_similarities)))"
   ]
  },
  {
   "cell_type": "code",
   "execution_count": 25,
   "id": "c370ccc1",
   "metadata": {},
   "outputs": [],
   "source": [
    "comp_mulk = get_MulK_comparisons(comparisons,n)"
   ]
  },
  {
   "cell_type": "code",
   "execution_count": 26,
   "id": "f86312d6",
   "metadata": {},
   "outputs": [],
   "source": [
    "mulk_similarities = get_MulK_quadruplets(comp_mulk,n)"
   ]
  },
  {
   "cell_type": "code",
   "execution_count": 27,
   "id": "de900fc1",
   "metadata": {},
   "outputs": [],
   "source": [
    "#getting 4K-AL similarities\n",
    "al4k_similarities = mulk_similarities + 2*adds_similarities"
   ]
  },
  {
   "cell_type": "code",
   "execution_count": 28,
   "id": "a9ed6c6a",
   "metadata": {},
   "outputs": [
    {
     "name": "stdout",
     "output_type": "stream",
     "text": [
      "ComparisonHC ran for 4.16 seconds.\n",
      "Revenue with 4K-AL: 222828.0\n"
     ]
    }
   ],
   "source": [
    "#running comparison hierarchical clustering using 4K-AL similarities\n",
    "chc_al4k = ComparisonHC(al4k_similarities,n)\n",
    "chc_al4k.fit([[j] for j in range(n)])\n",
    "print(\"ComparisonHC ran for {:.2f} seconds.\".format(chc_al4k.time_elapsed))\n",
    "print(\"Revenue with 4K-AL: {}\".format(-chc_al4k.cost_dasgupta(adds_similarities)))"
   ]
  }
 ],
 "metadata": {
  "kernelspec": {
   "display_name": "Python 3 (ipykernel)",
   "language": "python",
   "name": "python3"
  },
  "language_info": {
   "codemirror_mode": {
    "name": "ipython",
    "version": 3
   },
   "file_extension": ".py",
   "mimetype": "text/x-python",
   "name": "python",
   "nbconvert_exporter": "python",
   "pygments_lexer": "ipython3",
   "version": "3.9.7"
  }
 },
 "nbformat": 4,
 "nbformat_minor": 5
}
