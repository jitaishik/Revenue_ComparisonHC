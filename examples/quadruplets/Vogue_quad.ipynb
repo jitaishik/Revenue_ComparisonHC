{
 "cells": [
  {
   "cell_type": "code",
   "execution_count": 1,
   "id": "922650e1",
   "metadata": {},
   "outputs": [],
   "source": [
    "from cblearn import datasets\n",
    "import numpy as np\n",
    "import cblearn\n",
    "import tqdm\n",
    "from scipy.sparse import csr_matrix,coo_matrix\n",
    "import time\n",
    "import sklearn\n",
    "import sys\n",
    "sys.path.append('../..')\n",
    "from comparisonHC import ComparisonHC"
   ]
  },
  {
   "cell_type": "code",
   "execution_count": 2,
   "id": "028e890a",
   "metadata": {},
   "outputs": [],
   "source": [
    "#fetching vogue cover dataset\n",
    "data = datasets.fetch_vogue_cover_similarity()"
   ]
  },
  {
   "cell_type": "code",
   "execution_count": 3,
   "id": "d99e9ca8",
   "metadata": {},
   "outputs": [
    {
     "data": {
      "text/plain": [
       "{'triplet': array([[40, 20, 44],\n",
       "        [58, 59, 18],\n",
       "        [39, 29, 54],\n",
       "        ...,\n",
       "        [29, 45,  4],\n",
       "        [58,  3, 45],\n",
       "        [19,  4, 55]], dtype=int64),\n",
       " 'image_label': array(['Cover_uk_VOgue_MAY10_V_29mar10_bt_268x353.jpg',\n",
       "        'February_1976_covers_v_17dec10_Bt_268x353.jpg',\n",
       "        'July-1978_v_2aug10_B_240x360.jpg',\n",
       "        'Vogue-cover-August-1978_v_2aug10_B_240x360.jpg',\n",
       "        'VogueCover1983_Jul_V_16Aug10_bt_268x353.jpg',\n",
       "        'VogueCoverFeb91_XL_320x421.jpg',\n",
       "        'VogueCoverJan75_V_28jul10_bt_268x353.jpg',\n",
       "        'VogueCoverNov75_V_22jul10_bt_268x353.jpg',\n",
       "        'VogueFeb88_V_25jan12_b_240x360.jpg',\n",
       "        'VogueSep75_V_25jan12_b_240x360.jpg',\n",
       "        'VoguecoverApr01gbundchen_XL_320x421.jpg',\n",
       "        'VoguecoverApr04_XL_320x421.jpg', 'VoguecoverApr09_421.jpg',\n",
       "        'VoguecoverApr1996_E_XL_320x421.jpg',\n",
       "        'VoguecoverAug00_XL_320x421.jpg', 'VoguecoverAug03_XL_320x421.jpg',\n",
       "        'VoguecoverAug06_XL_320x421.jpg', 'VoguecoverDec90_XL_320x421.jpg',\n",
       "        'VoguecoverDec97_stennant_XL_320x421.jpg',\n",
       "        'VoguecoverDec99_XL_268x353.jpg',\n",
       "        'VoguecoverJan08_XL_1_320x421.jpg',\n",
       "        'VoguecoverJan74_XL_320x421.jpg', 'VoguecoverJan93_XL_320x421.jpg',\n",
       "        'VoguecoverJan99levangel_XL_320x421.jpg',\n",
       "        'VoguecoverJul01gbundchen_XL_320x421.jpg',\n",
       "        'VoguecoverJul02_XL_320x421.jpg',\n",
       "        'VoguecoverJul90_V_22apr10_bt_268x353.jpg',\n",
       "        'VoguecoverJul98_XL_320x421.jpg', 'VoguecoverJul99_XL_320x421.jpg',\n",
       "        'VoguecoverJuly10_cdiaz_bt_268x353.jpg',\n",
       "        'VoguecoverJun00_XL_320x421.jpg', 'VoguecoverJun02_XL_320x421.jpg',\n",
       "        'VoguecoverJun06_XL_320x421.jpg',\n",
       "        'VoguecoverJun1994_XL_320x421.jpg',\n",
       "        'VoguecoverMar00_xl_320x421.jpg', 'VoguecoverMar03_XL_320x421.jpg',\n",
       "        'VoguecoverMar10_624_268x353.jpg',\n",
       "        'VoguecoverMar1996_E_XL_320x421.jpg',\n",
       "        'VoguecoverMay02_XL_320x421.jpg', 'VoguecoverMay05_XL_320x421.jpg',\n",
       "        'VoguecoverMay07_XL_320x421.jpg', 'VoguecoverMay08_XL_320x421.jpg',\n",
       "        'VoguecoverMay1994_XL_320x421.jpg',\n",
       "        'VoguecoverMay91_XL_320x421.jpg', 'VoguecoverNov04_XL_320x421.jpg',\n",
       "        'VoguecoverNov92_XL_320x421.jpg', 'VoguecoverOct00_XL_268x353.jpg',\n",
       "        'VoguecoverOct79_V_27apr10_bt_268x353.jpg',\n",
       "        'VoguecoverOct91_XL_320x421.jpg', 'VoguecoverSep92_XL_320x421.jpg',\n",
       "        'VoguecoverSept04_XL_320x421.jpg',\n",
       "        'VoguecoverSept93_XL_320x421.jpg',\n",
       "        'Voguecover_Apr78_XL_320x421.jpg',\n",
       "        'Voguecover_Dec88_XL_320x421.jpg',\n",
       "        'Voguecover_nov1995_archive_421.jpg',\n",
       "        'Voguecovers1980_may_v_14oct_822_268x353.jpg',\n",
       "        'Voguecovers1980_sept01_v_14oct_421.jpg',\n",
       "        'july1992_V_13jul09_mag_b.jpg', 'may1992_V_13jul09_mag_b.jpg',\n",
       "        'voguecoverapr11_bt_268x353.jpg'], dtype='<U46'),\n",
       " 'DESCR': '.. _nature_vogue_dataset:\\n\\nNature and Vogue datasets\\n---------------------------\\n\\nThe nature and vogue datasets consist of odd-one-out triplets of the form\\n\"Out of three shown items pick one that appears to be\\ndifferent from the two others\".\\n\\nThe items were either images of natural scenes (forests, beaches, mountaints, etc.)\\nor covers of the Vogue magazine.\\n\\n**Data Set Characteristics:**\\n\\n    ===================   =====================\\n    Triplets (Covers)                      1107\\n    Objects  (Covers)                        60\\n    Triplets (Scenes)                      3355\\n    Objects  (Scenes)                       120\\n    ===================   =====================\\n\\nThis datasets can be downloaded using :func:`cblearn.datasets.fetch_nature_scene_similarity` and\\n:func:`cblearn.datasets.fetch_vogue_cover_similarity`\\nTo use the odd-one-out triplets with e.g. ordinal embedding algorithms, convert them to standard triplets\\nwith :func:`cblearn.dataset.triplets_from_oddoneout`.\\n\\nPlease cite the following paper if you use this dataset in publications.\\n\\n.. topic:: References\\n\\n    - Heikinheimo, H., & Ukkonen, A. (2013). The crowd-median algorithm.\\n      In Proceedings of the AAAI Conference on Human Computation and Crowdsourcing (Vol. 1, No. 1).\\n'}"
      ]
     },
     "execution_count": 3,
     "metadata": {},
     "output_type": "execute_result"
    }
   ],
   "source": [
    "data"
   ]
  },
  {
   "cell_type": "code",
   "execution_count": 4,
   "id": "ae61363c",
   "metadata": {},
   "outputs": [],
   "source": [
    "#getting raw triplets from vogue cover data\n",
    "triplets_raw = data['triplet']"
   ]
  },
  {
   "cell_type": "code",
   "execution_count": 5,
   "id": "b3b0d7be",
   "metadata": {},
   "outputs": [],
   "source": [
    "n = np.amax(triplets_raw) + 1"
   ]
  },
  {
   "cell_type": "code",
   "execution_count": 6,
   "id": "87da8197",
   "metadata": {},
   "outputs": [
    {
     "data": {
      "text/plain": [
       "60"
      ]
     },
     "execution_count": 6,
     "metadata": {},
     "output_type": "execute_result"
    }
   ],
   "source": [
    "#objects in the data\n",
    "n"
   ]
  },
  {
   "cell_type": "code",
   "execution_count": 7,
   "id": "7c4a375f",
   "metadata": {},
   "outputs": [
    {
     "name": "stdout",
     "output_type": "stream",
     "text": [
      "1107\n"
     ]
    }
   ],
   "source": [
    "#raw triplets in the data(number of responses)\n",
    "n_triplets_raw = triplets_raw.shape[0]\n",
    "print(n_triplets_raw)"
   ]
  },
  {
   "cell_type": "code",
   "execution_count": 8,
   "id": "4f08f8b7",
   "metadata": {},
   "outputs": [],
   "source": [
    "#getting standard triplets from raw triplets. Random triplets are of form (i,j,k) where s_ij>s_ik\n",
    "triplets = cblearn.preprocessing.triplets_from_oddoneout(data['triplet'])"
   ]
  },
  {
   "cell_type": "code",
   "execution_count": 9,
   "id": "99e6ede4",
   "metadata": {},
   "outputs": [],
   "source": [
    "n_triplets = triplets.shape[0]"
   ]
  },
  {
   "cell_type": "code",
   "execution_count": 10,
   "id": "0b38747a",
   "metadata": {},
   "outputs": [
    {
     "data": {
      "text/plain": [
       "2214"
      ]
     },
     "execution_count": 10,
     "metadata": {},
     "output_type": "execute_result"
    }
   ],
   "source": [
    "#standard triplets obtained from the data\n",
    "n_triplets"
   ]
  },
  {
   "cell_type": "code",
   "execution_count": 11,
   "id": "e7291a1d",
   "metadata": {},
   "outputs": [],
   "source": [
    "def get_k(i,j,n_examples):\n",
    "    \"\"\"Given the row and column coordinates, returns the index of entries\n",
    "            of an off-diagonal upper triangular matrix where the elements\n",
    "            are taken in a row-major order:\n",
    "            [. 0 1 2 3\n",
    "             . . 4 5 6\n",
    "             . . . 7 8\n",
    "             . . . . 9\n",
    "             . . . . .]\n",
    "            Parameters\n",
    "            -------\n",
    "            i : int or numpy array\n",
    "                The row index of the example, between 0 and n_examples.\n",
    "            j : int or numpy array, shape(i.shape)\n",
    "                The column index of the example, between i and n_examples.\n",
    "            n_example : int\n",
    "                The number of rows and columns in the matrix. If None,\n",
    "                self.n_examples is used. (Default: None).\n",
    "            Returns\n",
    "            ----------\n",
    "            k : int or numpy array, shape(i.shape)\n",
    "                The row-major index of the example, between 0 and (n_examples choose 2).\n",
    "            Notes\n",
    "            -----\n",
    "            The original formulation was taken from the following link:\n",
    "            https://stackoverflow.com/questions/27086195/linear-index-upper-triangular-matrix\n",
    "    \"\"\"\n",
    "    k = ((n_examples*(n_examples-1))//2) - ((n_examples-i)*((n_examples-i)-1))//2 + j - i - 1\n",
    "\n",
    "    return k"
   ]
  },
  {
   "cell_type": "code",
   "execution_count": 12,
   "id": "99a00699",
   "metadata": {},
   "outputs": [],
   "source": [
    "def get_ij(k,n_examples):\n",
    "        \"\"\"Returns the row and column coordinates given the index of the\n",
    "        entries of an off-diagonal upper triangular matrix where the\n",
    "        elements are taken in a row-major order:\n",
    "        [. 0 1 2 3\n",
    "         . . 4 5 6\n",
    "         . . . 7 8\n",
    "         . . . . 9\n",
    "         . . . . .]\n",
    "        Parameters\n",
    "        ----------\n",
    "        k : int or numpy array\n",
    "            The row-major index of the example, between 0 and\n",
    "            (n_examples choose 2).\n",
    "       \n",
    "        n_example : int\n",
    "            The number of rows and columns in the matrix. If None,\n",
    "            self.n_examples is used. (Default: None).\n",
    "        Returns\n",
    "        -------\n",
    "        i : int or numpy array, shape(k.shape)\n",
    "            The row index of the example, between 0 and n_examples.\n",
    "        j : int or numpy array, shape(k.shape)\n",
    "            The column index of the example, between i and n_examples.\n",
    "        Notes\n",
    "        -----\n",
    "        The original formulation was taken from the following link:\n",
    "        https://stackoverflow.com/questions/27086195/linear-index-upper-triangular-matrix\n",
    "        \"\"\"\n",
    "\n",
    "        i = n_examples - 2 - (np.sqrt(-8*k + 4*n_examples*(n_examples-1)-7)/2 - 1/2).astype(int)\n",
    "        j = k + i + 1 - (n_examples*(n_examples-1))//2 + ((n_examples-i)*((n_examples-i)-1))//2\n",
    "        \n",
    "        return i,j"
   ]
  },
  {
   "cell_type": "code",
   "execution_count": 13,
   "id": "70353f6a",
   "metadata": {},
   "outputs": [],
   "source": [
    "def get_AddS_comparisons(comparisons,n_examples):\n",
    "    \"\"\"Get a sparse matrix representing the comparisons in a way that is\n",
    "      easy to handle for AddS.\n",
    "      Returns\n",
    "      -------\n",
    "      AddS_comparisons : scipy csr matrix, shape((n_examples choose 2),(n_examples choose 2))\n",
    "          A scipy csr_matrix containing values in {1,-1,0}. Given\n",
    "          i<j and k<l, in entry (self._get_k(i,j),self._get_k(k,l)),\n",
    "          the value 1 indicates that the quadruplet (i,j,k,l) is\n",
    "          available, the value -1 indicates that the quadruplet\n",
    "          (k,l,i,j) is available, and the value 0 indicates that\n",
    "          neither of the quadruplets is available.\n",
    "    \"\"\"\n",
    "    AddS_comparisons = comparisons.tocsr()\n",
    "        \n",
    "    return AddS_comparisons"
   ]
  },
  {
   "cell_type": "code",
   "execution_count": 14,
   "id": "da5eafc5",
   "metadata": {},
   "outputs": [],
   "source": [
    "def get_AddS_quadruplets(comparisons,n_examples):\n",
    "    \"\"\"Returns a symmetric similarity matrix representing the similarities\n",
    "      between all the examples using the AddS quadruplets approach.\n",
    "      Parameters\n",
    "      ----------\n",
    "      comparisons : scipy csr matrix\n",
    "          It contains all the\n",
    "          comparisons associated with the pair (i,j) in a sparse matrix\n",
    "          where in entry (k,l), the value 1 indicates that the\n",
    "          quadruplet (i,j,k,l) is available, the value -1 indicates that\n",
    "          the quadruplet (k,l,i,j) is available, and the value 0\n",
    "          indicates that neither of the quadruplets is available.\n",
    "      n_examples : int\n",
    "          The number of examples handled by the oracle.\n",
    "      Returns\n",
    "      -------\n",
    "      kernel : numpy array, shape (n_examples,n_examples)\n",
    "          A nummpy array of similarities between the examples.\n",
    "    \"\"\"\n",
    "    kernel = np.zeros((n_examples,n_examples))\n",
    "\n",
    "    entries = comparisons.sum(axis=1).A1\n",
    "    i,j = get_ij(np.arange((n_examples*(n_examples-1))//2),n_examples)\n",
    "    kernel[i,j] = entries\n",
    "    \n",
    "    kernel += kernel.transpose()\n",
    "    \n",
    "    return kernel"
   ]
  },
  {
   "cell_type": "code",
   "execution_count": 15,
   "id": "b1b5508b",
   "metadata": {},
   "outputs": [],
   "source": [
    "def get_MulK_comparisons(comparisons,n_examples):\n",
    "        \"\"\"Get a sparse matrix representing the comparisons in a way that is\n",
    "        easy to handle for MulK.\n",
    "        Returns\n",
    "        -------\n",
    "        MulK_comparisons : scipy csr matrix, shape(n_examples,n_examples*(n_examples choose 2))\n",
    "            A scipy csr_matrix containing values in {1,-1,0}. Given\n",
    "            i<j and k<l, in entry (i,j*(n_examples choose\n",
    "            2)+self._get_k(k,l)), the value 1 indicates that the\n",
    "            quadruplet (i,j,k,l) is available, the value -1 indicates\n",
    "            that the quadruplet (k,l,i,j) is available, and the value\n",
    "            0 indicates that neither of the quadruplets is available.\n",
    "        \"\"\"\n",
    "        i,j = get_ij(comparisons.row,n_examples)\n",
    "\n",
    "        n_kl = (n_examples*(n_examples-1))//2\n",
    "        \n",
    "        rows_i = i\n",
    "        columns_i = j*n_kl+comparisons.col\n",
    "               \n",
    "        rows_j = j\n",
    "        columns_j = i*n_kl+comparisons.col\n",
    "       \n",
    "        rows = np.concatenate((rows_i,rows_j))\n",
    "        columns = np.concatenate((columns_i,columns_j))\n",
    "        entries = np.concatenate((comparisons.data,comparisons.data))\n",
    "            \n",
    "        MulK_comparisons = csr_matrix((entries,(rows,columns)),shape=(n_examples,n_examples*n_kl),dtype=int)\n",
    "                \n",
    "        return MulK_comparisons"
   ]
  },
  {
   "cell_type": "code",
   "execution_count": 16,
   "id": "4291980c",
   "metadata": {},
   "outputs": [],
   "source": [
    "def get_MulK_quadruplets(comparisons,n_examples):\n",
    "    \"\"\"Returns a symmetric similarity matrix representing the similarities\n",
    "    between all the examples using the MulK quadruplets approach.\n",
    "    Parameters\n",
    "    ----------\n",
    "    comparisons : scipy csr matrix\n",
    "        It contains all the\n",
    "        comparisons associated with the pair (i,j) in a sparse matrix\n",
    "        where in entry (k,l), the value 1 indicates that the\n",
    "        quadruplet (i,j,k,l) is available, the value -1 indicates that\n",
    "        the quadruplet (k,l,i,j) is available, and the value 0\n",
    "        indicates that neither of the quadruplets is available.\n",
    "    n_examples : int\n",
    "        The number of examples.\n",
    "    Returns\n",
    "    -------\n",
    "    kernel : numpy array, shape (n_examples,n_examples)\n",
    "        A nummpy array of similarities between the examples.\n",
    "    \"\"\"\n",
    "    kernel = np.zeros((n_examples,n_examples))\n",
    "    \n",
    "    kernel = comparisons.dot(comparisons.transpose())\n",
    "    kernel = kernel.toarray()\n",
    "    np.fill_diagonal(kernel,0)\n",
    "\n",
    "    return kernel"
   ]
  },
  {
   "cell_type": "code",
   "execution_count": 17,
   "id": "c85d8e2b",
   "metadata": {},
   "outputs": [],
   "source": [
    "#getting rows, columns and entries to represent the quadruplets as an upper triangular matrix\n",
    "#the quadruplets are obtained from triplet (i,j,k) in the form (i,j,i,k)\n",
    "rows = []\n",
    "columns = []\n",
    "entries = []\n",
    "for triplet in triplets:\n",
    "    if(triplet[0]<triplet[1]):\n",
    "        a = get_k(triplet[0],triplet[1],n)\n",
    "    else:\n",
    "        a = get_k(triplet[1],triplet[0],n)\n",
    "        \n",
    "    if(triplet[0]<triplet[2]):\n",
    "        b = get_k(triplet[0],triplet[2],n)\n",
    "    else:\n",
    "        b = get_k(triplet[2],triplet[0],n)\n",
    "\n",
    "    rows.append(a)\n",
    "    columns.append(b)\n",
    "    entries.append(1)"
   ]
  },
  {
   "cell_type": "code",
   "execution_count": 18,
   "id": "a0c2778b",
   "metadata": {},
   "outputs": [],
   "source": [
    "rows = np.array(rows)\n",
    "columns = np.array(columns)\n",
    "entries = np.array(entries)"
   ]
  },
  {
   "cell_type": "code",
   "execution_count": 19,
   "id": "391feb49",
   "metadata": {},
   "outputs": [],
   "source": [
    "n_entries = (n*(n-1))//2"
   ]
  },
  {
   "cell_type": "code",
   "execution_count": 20,
   "id": "f31f4771",
   "metadata": {},
   "outputs": [],
   "source": [
    "#getting a sparse matrix\n",
    "comparisons = coo_matrix((np.concatenate((entries,-entries)),(np.concatenate((rows,columns)),np.concatenate((columns,rows)))),shape=(n_entries,n_entries),dtype=int)\n",
    "comparisons.eliminate_zeros()"
   ]
  },
  {
   "cell_type": "code",
   "execution_count": 21,
   "id": "13385ade",
   "metadata": {},
   "outputs": [],
   "source": [
    "comp = get_AddS_comparisons(comparisons,n)"
   ]
  },
  {
   "cell_type": "code",
   "execution_count": 22,
   "id": "4e44c97d",
   "metadata": {},
   "outputs": [],
   "source": [
    "adds_similarities = get_AddS_quadruplets(comp,n)"
   ]
  },
  {
   "cell_type": "code",
   "execution_count": 23,
   "id": "87db0da9",
   "metadata": {},
   "outputs": [
    {
     "name": "stdout",
     "output_type": "stream",
     "text": [
      "ComparisonHC ran for 0.59 seconds.\n",
      "Revenue with AddS-4: 27222.0\n"
     ]
    }
   ],
   "source": [
    "#running comparison hierarchical clustering using AddS-4 similarities\n",
    "chc = ComparisonHC(adds_similarities,n)\n",
    "chc.fit([[j] for j in range(n)])\n",
    "print(\"ComparisonHC ran for {:.2f} seconds.\".format(chc.time_elapsed))\n",
    "print(\"Revenue with AddS-4: {}\".format(-chc.cost_dasgupta(adds_similarities)))"
   ]
  },
  {
   "cell_type": "code",
   "execution_count": 24,
   "id": "c370ccc1",
   "metadata": {},
   "outputs": [],
   "source": [
    "comp_mulk = get_MulK_comparisons(comparisons,n)"
   ]
  },
  {
   "cell_type": "code",
   "execution_count": 25,
   "id": "f86312d6",
   "metadata": {},
   "outputs": [],
   "source": [
    "mulk_similarities = get_MulK_quadruplets(comp_mulk,n)"
   ]
  },
  {
   "cell_type": "code",
   "execution_count": 26,
   "id": "de900fc1",
   "metadata": {},
   "outputs": [],
   "source": [
    "#getting 4K-AL similarities\n",
    "al4k_similarities = mulk_similarities + 2*adds_similarities"
   ]
  },
  {
   "cell_type": "code",
   "execution_count": 27,
   "id": "a9ed6c6a",
   "metadata": {},
   "outputs": [
    {
     "name": "stdout",
     "output_type": "stream",
     "text": [
      "ComparisonHC ran for 0.48 seconds.\n",
      "Revenue with 4K-AL: 25495.0\n"
     ]
    }
   ],
   "source": [
    "#running comparison hierarchical clustering using 4K-AL similarities\n",
    "chc_al4k = ComparisonHC(al4k_similarities,n)\n",
    "chc_al4k.fit([[j] for j in range(n)])\n",
    "print(\"ComparisonHC ran for {:.2f} seconds.\".format(chc_al4k.time_elapsed))\n",
    "print(\"Revenue with 4K-AL: {}\".format(-chc_al4k.cost_dasgupta(adds_similarities)))"
   ]
  }
 ],
 "metadata": {
  "kernelspec": {
   "display_name": "Python 3 (ipykernel)",
   "language": "python",
   "name": "python3"
  },
  "language_info": {
   "codemirror_mode": {
    "name": "ipython",
    "version": 3
   },
   "file_extension": ".py",
   "mimetype": "text/x-python",
   "name": "python",
   "nbconvert_exporter": "python",
   "pygments_lexer": "ipython3",
   "version": "3.9.7"
  }
 },
 "nbformat": 4,
 "nbformat_minor": 5
}
