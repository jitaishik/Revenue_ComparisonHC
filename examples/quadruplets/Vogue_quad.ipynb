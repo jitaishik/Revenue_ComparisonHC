{
 "cells": [
  {
   "cell_type": "code",
   "execution_count": 1,
   "id": "922650e1",
   "metadata": {},
   "outputs": [],
   "source": [
    "from cblearn import datasets\n",
    "import numpy as np\n",
    "import cblearn\n",
    "import tqdm\n",
    "import time\n",
    "import sys\n",
    "sys.path.append('../..')\n",
    "from comparisonHC import HandlerQuadruplets, ListQuadruplets, get_AddS_quadruplets, get_MulK_quadruplets, ComparisonHC"
   ]
  },
  {
   "cell_type": "code",
   "execution_count": 2,
   "id": "028e890a",
   "metadata": {},
   "outputs": [],
   "source": [
    "#fetching vogue cover dataset\n",
    "data = datasets.fetch_vogue_cover_similarity()"
   ]
  },
  {
   "cell_type": "code",
   "execution_count": 3,
   "id": "d99e9ca8",
   "metadata": {},
   "outputs": [
    {
     "data": {
      "text/plain": [
       "{'triplet': array([[39, 10, 25],\n",
       "        [55, 32, 34],\n",
       "        [14, 45, 21],\n",
       "        ...,\n",
       "        [ 6, 12, 24],\n",
       "        [28, 59, 24],\n",
       "        [35, 37, 38]], dtype=int64),\n",
       " 'image_label': array(['Cover_uk_VOgue_MAY10_V_29mar10_bt_268x353.jpg',\n",
       "        'February_1976_covers_v_17dec10_Bt_268x353.jpg',\n",
       "        'July-1978_v_2aug10_B_240x360.jpg',\n",
       "        'Vogue-cover-August-1978_v_2aug10_B_240x360.jpg',\n",
       "        'VogueCover1983_Jul_V_16Aug10_bt_268x353.jpg',\n",
       "        'VogueCoverFeb91_XL_320x421.jpg',\n",
       "        'VogueCoverJan75_V_28jul10_bt_268x353.jpg',\n",
       "        'VogueCoverNov75_V_22jul10_bt_268x353.jpg',\n",
       "        'VogueFeb88_V_25jan12_b_240x360.jpg',\n",
       "        'VogueSep75_V_25jan12_b_240x360.jpg',\n",
       "        'VoguecoverApr01gbundchen_XL_320x421.jpg',\n",
       "        'VoguecoverApr04_XL_320x421.jpg', 'VoguecoverApr09_421.jpg',\n",
       "        'VoguecoverApr1996_E_XL_320x421.jpg',\n",
       "        'VoguecoverAug00_XL_320x421.jpg', 'VoguecoverAug03_XL_320x421.jpg',\n",
       "        'VoguecoverAug06_XL_320x421.jpg', 'VoguecoverDec90_XL_320x421.jpg',\n",
       "        'VoguecoverDec97_stennant_XL_320x421.jpg',\n",
       "        'VoguecoverDec99_XL_268x353.jpg',\n",
       "        'VoguecoverJan08_XL_1_320x421.jpg',\n",
       "        'VoguecoverJan74_XL_320x421.jpg', 'VoguecoverJan93_XL_320x421.jpg',\n",
       "        'VoguecoverJan99levangel_XL_320x421.jpg',\n",
       "        'VoguecoverJul01gbundchen_XL_320x421.jpg',\n",
       "        'VoguecoverJul02_XL_320x421.jpg',\n",
       "        'VoguecoverJul90_V_22apr10_bt_268x353.jpg',\n",
       "        'VoguecoverJul98_XL_320x421.jpg', 'VoguecoverJul99_XL_320x421.jpg',\n",
       "        'VoguecoverJuly10_cdiaz_bt_268x353.jpg',\n",
       "        'VoguecoverJun00_XL_320x421.jpg', 'VoguecoverJun02_XL_320x421.jpg',\n",
       "        'VoguecoverJun06_XL_320x421.jpg',\n",
       "        'VoguecoverJun1994_XL_320x421.jpg',\n",
       "        'VoguecoverMar00_xl_320x421.jpg', 'VoguecoverMar03_XL_320x421.jpg',\n",
       "        'VoguecoverMar10_624_268x353.jpg',\n",
       "        'VoguecoverMar1996_E_XL_320x421.jpg',\n",
       "        'VoguecoverMay02_XL_320x421.jpg', 'VoguecoverMay05_XL_320x421.jpg',\n",
       "        'VoguecoverMay07_XL_320x421.jpg', 'VoguecoverMay08_XL_320x421.jpg',\n",
       "        'VoguecoverMay1994_XL_320x421.jpg',\n",
       "        'VoguecoverMay91_XL_320x421.jpg', 'VoguecoverNov04_XL_320x421.jpg',\n",
       "        'VoguecoverNov92_XL_320x421.jpg', 'VoguecoverOct00_XL_268x353.jpg',\n",
       "        'VoguecoverOct79_V_27apr10_bt_268x353.jpg',\n",
       "        'VoguecoverOct91_XL_320x421.jpg', 'VoguecoverSep92_XL_320x421.jpg',\n",
       "        'VoguecoverSept04_XL_320x421.jpg',\n",
       "        'VoguecoverSept93_XL_320x421.jpg',\n",
       "        'Voguecover_Apr78_XL_320x421.jpg',\n",
       "        'Voguecover_Dec88_XL_320x421.jpg',\n",
       "        'Voguecover_nov1995_archive_421.jpg',\n",
       "        'Voguecovers1980_may_v_14oct_822_268x353.jpg',\n",
       "        'Voguecovers1980_sept01_v_14oct_421.jpg',\n",
       "        'july1992_V_13jul09_mag_b.jpg', 'may1992_V_13jul09_mag_b.jpg',\n",
       "        'voguecoverapr11_bt_268x353.jpg'], dtype='<U46'),\n",
       " 'DESCR': '.. _nature_vogue_dataset:\\n\\nNature and Vogue datasets\\n---------------------------\\n\\nThe nature and vogue datasets consist of odd-one-out triplets of the form\\n\"Out of three shown items pick one that appears to be\\ndifferent from the two others\".\\n\\nThe items were either images of natural scenes (forests, beaches, mountaints, etc.)\\nor covers of the Vogue magazine.\\n\\n**Data Set Characteristics:**\\n\\n    ===================   =====================\\n    Triplets (Covers)                      1107\\n    Objects  (Covers)                        60\\n    Triplets (Scenes)                      3355\\n    Objects  (Scenes)                       120\\n    ===================   =====================\\n\\nThis datasets can be downloaded using :func:`cblearn.datasets.fetch_nature_scene_similarity` and\\n:func:`cblearn.datasets.fetch_vogue_cover_similarity`\\nTo use the odd-one-out triplets with e.g. ordinal embedding algorithms, convert them to standard triplets\\nwith :func:`cblearn.dataset.triplets_from_oddoneout`.\\n\\nPlease cite the following paper if you use this dataset in publications.\\n\\n.. topic:: References\\n\\n    - Heikinheimo, H., & Ukkonen, A. (2013). The crowd-median algorithm.\\n      In Proceedings of the AAAI Conference on Human Computation and Crowdsourcing (Vol. 1, No. 1).\\n'}"
      ]
     },
     "execution_count": 3,
     "metadata": {},
     "output_type": "execute_result"
    }
   ],
   "source": [
    "data"
   ]
  },
  {
   "cell_type": "code",
   "execution_count": 4,
   "id": "ae61363c",
   "metadata": {},
   "outputs": [],
   "source": [
    "#getting raw triplets from vogue cover data\n",
    "triplets_raw = data['triplet']"
   ]
  },
  {
   "cell_type": "code",
   "execution_count": 5,
   "id": "b3b0d7be",
   "metadata": {},
   "outputs": [],
   "source": [
    "n = np.amax(triplets_raw) + 1"
   ]
  },
  {
   "cell_type": "code",
   "execution_count": 6,
   "id": "87da8197",
   "metadata": {},
   "outputs": [
    {
     "data": {
      "text/plain": [
       "60"
      ]
     },
     "execution_count": 6,
     "metadata": {},
     "output_type": "execute_result"
    }
   ],
   "source": [
    "#objects in the data\n",
    "n"
   ]
  },
  {
   "cell_type": "code",
   "execution_count": 7,
   "id": "7c4a375f",
   "metadata": {},
   "outputs": [
    {
     "name": "stdout",
     "output_type": "stream",
     "text": [
      "1107\n"
     ]
    }
   ],
   "source": [
    "#raw triplets in the data(number of responses)\n",
    "n_triplets_raw = triplets_raw.shape[0]\n",
    "print(n_triplets_raw)"
   ]
  },
  {
   "cell_type": "code",
   "execution_count": 8,
   "id": "4f08f8b7",
   "metadata": {},
   "outputs": [],
   "source": [
    "#getting standard triplets from raw triplets. Random triplets are of form (i,j,k) where s_ij>s_ik\n",
    "triplets = cblearn.preprocessing.triplets_from_oddoneout(data['triplet'])"
   ]
  },
  {
   "cell_type": "code",
   "execution_count": 9,
   "id": "efef776c",
   "metadata": {},
   "outputs": [],
   "source": [
    "#getting quadruplets of form (i,j,i,k) from triplets of form (i,j,k)\n",
    "quadruplets = np.transpose(np.array([triplets[:,0],triplets[:,1],triplets[:,0],triplets[:,2]]))"
   ]
  },
  {
   "cell_type": "code",
   "execution_count": 10,
   "id": "99e6ede4",
   "metadata": {},
   "outputs": [],
   "source": [
    "n_quadruplets = quadruplets.shape[0]"
   ]
  },
  {
   "cell_type": "code",
   "execution_count": 11,
   "id": "0b38747a",
   "metadata": {},
   "outputs": [
    {
     "data": {
      "text/plain": [
       "2214"
      ]
     },
     "execution_count": 11,
     "metadata": {},
     "output_type": "execute_result"
    }
   ],
   "source": [
    "#standard quadruplets obtained from the data\n",
    "n_quadruplets"
   ]
  },
  {
   "cell_type": "code",
   "execution_count": 12,
   "id": "bd7e3e6d",
   "metadata": {},
   "outputs": [],
   "source": [
    "Oracle = ListQuadruplets(quadruplets,n,n_quadruplets)"
   ]
  },
  {
   "cell_type": "code",
   "execution_count": 13,
   "id": "4e44c97d",
   "metadata": {},
   "outputs": [],
   "source": [
    "adds_similarities = get_AddS_quadruplets(Oracle,n)"
   ]
  },
  {
   "cell_type": "code",
   "execution_count": 14,
   "id": "87db0da9",
   "metadata": {},
   "outputs": [
    {
     "name": "stdout",
     "output_type": "stream",
     "text": [
      "ComparisonHC ran for 0.73 seconds.\n",
      "Revenue with AddS-4: 2.722e+04\n"
     ]
    }
   ],
   "source": [
    "#running comparison hierarchical clustering using AddS-4 similarities\n",
    "chc = ComparisonHC(adds_similarities,n)\n",
    "chc.fit([[j] for j in range(n)])\n",
    "print(\"ComparisonHC ran for {:.2f} seconds.\".format(chc.time_elapsed))\n",
    "print(\"Revenue with AddS-4: {:.3e}\".format(-chc.cost_dasgupta(adds_similarities)))"
   ]
  },
  {
   "cell_type": "code",
   "execution_count": 15,
   "id": "f86312d6",
   "metadata": {},
   "outputs": [],
   "source": [
    "mulk_similarities = get_MulK_quadruplets(Oracle,n)"
   ]
  },
  {
   "cell_type": "code",
   "execution_count": 16,
   "id": "de900fc1",
   "metadata": {},
   "outputs": [],
   "source": [
    "#getting 4K-AL similarities\n",
    "al4k_similarities = mulk_similarities + 2*adds_similarities"
   ]
  },
  {
   "cell_type": "code",
   "execution_count": 17,
   "id": "a9ed6c6a",
   "metadata": {},
   "outputs": [
    {
     "name": "stdout",
     "output_type": "stream",
     "text": [
      "ComparisonHC ran for 0.73 seconds.\n",
      "Revenue with 4K-AL: 2.550e+04\n"
     ]
    }
   ],
   "source": [
    "#running comparison hierarchical clustering using 4K-AL similarities\n",
    "chc_al4k = ComparisonHC(al4k_similarities,n)\n",
    "chc_al4k.fit([[j] for j in range(n)])\n",
    "print(\"ComparisonHC ran for {:.2f} seconds.\".format(chc_al4k.time_elapsed))\n",
    "print(\"Revenue with 4K-AL: {:.3e}\".format(-chc_al4k.cost_dasgupta(adds_similarities)))"
   ]
  }
 ],
 "metadata": {
  "kernelspec": {
   "display_name": "Python 3 (ipykernel)",
   "language": "python",
   "name": "python3"
  },
  "language_info": {
   "codemirror_mode": {
    "name": "ipython",
    "version": 3
   },
   "file_extension": ".py",
   "mimetype": "text/x-python",
   "name": "python",
   "nbconvert_exporter": "python",
   "pygments_lexer": "ipython3",
   "version": "3.9.7"
  }
 },
 "nbformat": 4,
 "nbformat_minor": 5
}
