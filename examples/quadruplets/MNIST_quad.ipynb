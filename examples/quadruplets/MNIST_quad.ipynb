{
 "cells": [
  {
   "cell_type": "code",
   "execution_count": null,
   "metadata": {
    "id": "0O9RYPLfvKpT"
   },
   "outputs": [],
   "source": [
    "import pandas as pd\n",
    "import numpy as np\n",
    "import sklearn.metrics\n",
    "from sklearn.preprocessing import MinMaxScaler\n",
    "import time\n",
    "import tqdm\n",
    "import sys\n",
    "sys.path.append('../..')\n",
    "from comparisonHC import HandlerQuadruplets, OracleQuadruplets, get_AddS_quadruplets, get_MulK_quadruplets, ComparisonHC"
   ]
  },
  {
   "cell_type": "code",
   "execution_count": null,
   "metadata": {
    "id": "YCweFTeslQiA"
   },
   "outputs": [],
   "source": [
    "#load the datapoints\n",
    "df = pd.read_csv(\"../../resources/reduced_test_X.csv\",names=['X', 'Y'])"
   ]
  },
  {
   "cell_type": "code",
   "execution_count": null,
   "metadata": {
    "id": "POI7IBTJlWoG"
   },
   "outputs": [],
   "source": [
    "#load the labels\n",
    "df_label = pd.read_csv(\"../../resources/test_labels.csv\",names=['Label'])"
   ]
  },
  {
   "cell_type": "code",
   "execution_count": null,
   "metadata": {
    "id": "vNtxjzxNlk9F"
   },
   "outputs": [],
   "source": [
    "df = pd.concat([df,df_label],axis=1)"
   ]
  },
  {
   "cell_type": "code",
   "execution_count": null,
   "metadata": {
    "id": "D2fQsPr_nbmB"
   },
   "outputs": [],
   "source": [
    "#creating a dataset with 200 datapoints from each class\n",
    "df_reduced = df[df['Label']==0]"
   ]
  },
  {
   "cell_type": "code",
   "execution_count": null,
   "metadata": {
    "id": "zLNev0rRoOkW"
   },
   "outputs": [],
   "source": [
    "df_reduced = df_reduced.sample(n=200)"
   ]
  },
  {
   "cell_type": "code",
   "execution_count": null,
   "metadata": {
    "id": "K9WBblC2ovsB"
   },
   "outputs": [],
   "source": [
    "df_reduced.reset_index(inplace=True,drop=True)"
   ]
  },
  {
   "cell_type": "code",
   "execution_count": null,
   "metadata": {
    "id": "jHJCxIs5rXUs"
   },
   "outputs": [],
   "source": [
    "for i in range(1,10):\n",
    "    df_dummy = df[df['Label']==i]\n",
    "    df_dummy = df_dummy.sample(n=200)\n",
    "    df_dummy.reset_index(inplace=True,drop=True)\n",
    "    df_reduced = pd.concat([df_reduced,df_dummy],axis=0)\n",
    "    df_reduced.reset_index(inplace=True,drop=True)"
   ]
  },
  {
   "cell_type": "code",
   "execution_count": null,
   "metadata": {
    "id": "WrCzwEwIs1Z-"
   },
   "outputs": [],
   "source": [
    "df_label = df_reduced['Label']"
   ]
  },
  {
   "cell_type": "code",
   "execution_count": null,
   "metadata": {
    "id": "irFpd74xtELX"
   },
   "outputs": [],
   "source": [
    "df_reduced = df_reduced.drop('Label',axis=1)"
   ]
  },
  {
   "cell_type": "code",
   "execution_count": null,
   "metadata": {
    "id": "c7WE4EKJtTMW"
   },
   "outputs": [],
   "source": [
    "#normalise the features\n",
    "scaler = MinMaxScaler(feature_range=(-1,1))\n",
    "scaler.fit(df_reduced)\n",
    "df_reduced = scaler.transform(df_reduced)"
   ]
  },
  {
   "cell_type": "code",
   "execution_count": null,
   "metadata": {
    "id": "avx5dUk2ujp2"
   },
   "outputs": [],
   "source": [
    "#get the similarity matrix\n",
    "Cos_sim = sklearn.metrics.pairwise.cosine_similarity(df_reduced, dense_output=True)"
   ]
  },
  {
   "cell_type": "code",
   "execution_count": null,
   "metadata": {
    "id": "PnXUcAGRu_q_"
   },
   "outputs": [],
   "source": [
    "#objects in the data\n",
    "n = Cos_sim.shape[0]\n",
    "print(n)"
   ]
  },
  {
   "cell_type": "code",
   "execution_count": null,
   "metadata": {
    "id": "iVOT7CauvCpY"
   },
   "outputs": [],
   "source": [
    "Oracle = OracleQuadruplets(Cos_sim,n,n_quadruplets=int(n*n),proportion_noise=0.05)"
   ]
  },
  {
   "cell_type": "code",
   "execution_count": null,
   "metadata": {
    "id": "yD9YoFtYw2eS"
   },
   "outputs": [],
   "source": [
    "adds_similarities = get_AddS_quadruplets(Oracle,n)"
   ]
  },
  {
   "cell_type": "code",
   "execution_count": null,
   "metadata": {
    "id": "rcaaRVJtvGDz"
   },
   "outputs": [],
   "source": [
    "chc = ComparisonHC(adds_similarities,n)\n",
    "chc.fit([[j] for j in range(n)])\n",
    "print(\"ComparisonHC ran for {:.2f} seconds.\".format(chc.time_elapsed))\n",
    "print(\"Revenue for AddS-4: {}\".format(-chc.cost_dasgupta(adds_similarities)))"
   ]
  },
  {
   "cell_type": "code",
   "execution_count": null,
   "metadata": {
    "id": "fq8BjmXEw6AL"
   },
   "outputs": [],
   "source": [
    "mulk_similarities = get_MulK_quadruplets(Oracle,n)\n",
    "al4k_similarities = mulk_similarities + 2*adds_similarities\n",
    "chc_al4k = ComparisonHC(al4k_similarities,n)\n",
    "chc_al4k.fit([[j] for j in range(n)])\n",
    "print(\"ComparisonHC ran for {:.2f} seconds.\".format(chc_al4k.time_elapsed))\n",
    "print(\"Revenue for 4K-AL: {}\".format(-chc_al4k.cost_dasgupta(adds_similarities)))"
   ]
  },
  {
   "cell_type": "code",
   "execution_count": null,
   "metadata": {},
   "outputs": [],
   "source": [
    "chc_cos = ComparisonHC(Cos_sim,n)\n",
    "chc_cos.fit([[j] for j in range(n)])\n",
    "print(\"ComparisonHC ran for {:.2f} seconds.\".format(chc_cos.time_elapsed))\n",
    "print(\"Revenue with Cosine Similarity: {}\".format(-chc_cos.cost_dasgupta(adds_similarities)))"
   ]
  }
 ],
 "metadata": {
  "colab": {
   "collapsed_sections": [],
   "name": "MNIST_quad.ipynb",
   "provenance": []
  },
  "kernelspec": {
   "display_name": "Python 3 (ipykernel)",
   "language": "python",
   "name": "python3"
  },
  "language_info": {
   "codemirror_mode": {
    "name": "ipython",
    "version": 3
   },
   "file_extension": ".py",
   "mimetype": "text/x-python",
   "name": "python",
   "nbconvert_exporter": "python",
   "pygments_lexer": "ipython3",
   "version": "3.9.7"
  }
 },
 "nbformat": 4,
 "nbformat_minor": 1
}
