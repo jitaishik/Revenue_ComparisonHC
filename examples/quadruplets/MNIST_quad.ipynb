{
 "cells": [
  {
   "cell_type": "code",
   "execution_count": 1,
   "id": "83349894",
   "metadata": {},
   "outputs": [],
   "source": [
    "import pandas as pd\n",
    "import numpy as np\n",
    "import sklearn.metrics\n",
    "from sklearn.preprocessing import MinMaxScaler\n",
    "import time\n",
    "import tqdm\n",
    "import sys\n",
    "sys.path.append('../..')\n"
   ]
  },
  {
   "cell_type": "code",
   "execution_count": 2,
   "id": "dc617171",
   "metadata": {},
   "outputs": [],
   "source": [
    "#load the datapoints\n",
    "df_points = pd.read_csv(\"../../resources/reduced_test_X.csv\",names=['X', 'Y'])"
   ]
  },
  {
   "cell_type": "code",
   "execution_count": 3,
   "id": "1ec7acf3",
   "metadata": {},
   "outputs": [],
   "source": [
    "#load the datapoints\n",
    "df_label = pd.read_csv(\"../../resources/test_labels.csv\",names=['Label'])"
   ]
  },
  {
   "cell_type": "code",
   "execution_count": 4,
   "id": "92868974",
   "metadata": {},
   "outputs": [],
   "source": [
    "#setting seed 0\n",
    "np.random.seed(0) "
   ]
  },
  {
   "cell_type": "code",
   "execution_count": 5,
   "id": "3bfbba16",
   "metadata": {},
   "outputs": [],
   "source": [
    "#create Dataset\n",
    "df = pd.concat([df_points,df_label],axis=1)"
   ]
  },
  {
   "cell_type": "code",
   "execution_count": 6,
   "id": "07e1dd69",
   "metadata": {},
   "outputs": [],
   "source": [
    "#creating a reduced dataset with 200 randomly sampled points from each class\n",
    "df_reduced = df[df['Label']==0]\n",
    "df_reduced = df_reduced.sample(n=200, random_state=0)\n",
    "df_reduced.reset_index(inplace=True,drop=True)\n",
    "for i in range(1,10):\n",
    "    df_dummy = df[df['Label']==i]\n",
    "    df_dummy = df_dummy.sample(n=200, random_state=0)\n",
    "    df_dummy.reset_index(inplace=True,drop=True)\n",
    "    df_reduced = pd.concat([df_reduced,df_dummy],axis=0)\n",
    "    df_reduced.reset_index(inplace=True,drop=True)"
   ]
  },
  {
   "cell_type": "code",
   "execution_count": 7,
   "id": "2db3b926",
   "metadata": {},
   "outputs": [],
   "source": [
    "df_label = df_reduced['Label']\n",
    "df_reduced = df_reduced.drop('Label',axis=1)"
   ]
  },
  {
   "cell_type": "code",
   "execution_count": 8,
   "id": "5e7cafab",
   "metadata": {},
   "outputs": [],
   "source": [
    "#normalise the features\n",
    "scaler = MinMaxScaler(feature_range=(-1,1))\n",
    "scaler.fit(df_reduced)\n",
    "df_reduced = scaler.transform(df_reduced)"
   ]
  },
  {
   "cell_type": "code",
   "execution_count": 15,
   "id": "fe5b536f",
   "metadata": {},
   "outputs": [],
   "source": [
    "#get the similarity matrix\n",
    "Cos_sim = sklearn.metrics.pairwise.cosine_similarity(df_reduced, dense_output=True)"
   ]
  },
  {
   "cell_type": "code",
   "execution_count": 16,
   "id": "2aa20fba",
   "metadata": {},
   "outputs": [
    {
     "name": "stdout",
     "output_type": "stream",
     "text": [
      "2000\n"
     ]
    }
   ],
   "source": [
    "#objects in the data\n",
    "n = Cos_sim.shape[0]\n",
    "print(n)"
   ]
  },
  {
   "cell_type": "code",
   "execution_count": null,
   "id": "a5175d46",
   "metadata": {},
   "outputs": [],
   "source": [
    "Oracle = OracleQuadruplets(Cos_sim,n,n_quadruplets=int(n*n),proportion_noise=0.05,seed=0)\n",
    "adds_similarities = get_AddS_quadruplets(Oracle,n)\n",
    "\n",
    "chc = ComparisonHC(adds_similarities,n)\n",
    "chc.fit([[j] for j in range(n)])\n",
    "adds4_rev = -chc.cost_dasgupta(adds_similarities)\n",
    "\n",
    "mulk_similarities = get_MulK_quadruplets(Oracle,n)\n",
    "\n",
    "al4k_similarities = mulk_similarities + 2*adds_similarities\n",
    "chc_al4k = ComparisonHC(al4k_similarities,n)\n",
    "chc_al4k.fit([[j] for j in range(n)])\n",
    "al4k_rev = -chc_al4k.cost_dasgupta(adds_similarities)\n",
    "\n",
    "chc_standard = ComparisonHC(Cos_sim,n)\n",
    "chc_standard.fit([[j] for j in range(n)])\n",
    "standard_rev = -chc_standard.cost_dasgupta(adds_similarities)"
   ]
  },
  {
   "cell_type": "code",
   "execution_count": null,
   "id": "98b44484",
   "metadata": {},
   "outputs": [],
   "source": [
    "print(\"The results are:\")\n",
    "print(\"\\t The Revenue using AddS-4:\",\"{:.3e}\".format(adds4_rev))\n",
    "print(\"\\t The Revenue using 4K-AL: \",\"{:.3e}\".format(al4k_rev))\n",
    "print(\"\\t The Revenue using Cosine Similarity: \",\"{:.3e}\".format(cosine_rev))"
   ]
  }
 ],
 "metadata": {
  "kernelspec": {
   "display_name": "Python 3 (ipykernel)",
   "language": "python",
   "name": "python3"
  },
  "language_info": {
   "codemirror_mode": {
    "name": "ipython",
    "version": 3
   },
   "file_extension": ".py",
   "mimetype": "text/x-python",
   "name": "python",
   "nbconvert_exporter": "python",
   "pygments_lexer": "ipython3",
   "version": "3.9.7"
  }
 },
 "nbformat": 4,
 "nbformat_minor": 5
}
